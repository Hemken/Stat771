{
 "cells": [
  {
   "cell_type": "markdown",
   "metadata": {},
   "source": [
    "# Largest Value\n",
    "\n",
    "The largest value representable in floating point representation for a given base (b), precision (p), and maximum exponent (e) is given by:\n",
    "$$(b^p - 1) \\times b^{-(p-1)} \\times b^e)$$\n",
    "The first term gives us the maximum string of digits (the significand).  The second term converts this to a floating point number with one integer digit and the rest fractional digits - the decimal comes after the first digit and before any remaining digits.  Note that if we do not assume we are working in base 2, we cannot assume we have an additional digit beyond our stated (stored) precision, so this second term is $-(p-1)$ rather than the $-p$ we might use for normalized base 2 representations.  The final term then raises our fundamental floating point representation to the maximum exponent."
   ]
  },
  {
   "cell_type": "markdown",
   "metadata": {},
   "source": [
    "Ralph's solution constructs the first two terms digit by digit: $\\left(\\sum_{i=0}^{p-1} (\\beta-1)\\beta^{-i}\\right)\\cdot \\beta^{e_{max}}$"
   ]
  },
  {
   "cell_type": "code",
   "execution_count": null,
   "metadata": {},
   "outputs": [],
   "source": [
    "function maxrep(b::Int64, p::Int64, e::Int64)\n",
    "    bf = Float64(b)\n",
    "    return (bf^p-1)*bf^(-p+1)*bf^e\n",
    "end"
   ]
  },
  {
   "cell_type": "markdown",
   "metadata": {},
   "source": [
    "For a base 10 example, consider where base = 10, precision = 2, and emax = 0.\n",
    "\n",
    "Then our stored string for the significand would be \"99\", representing 9.9, to be multiplied by our base raised to the emax = 0 power."
   ]
  },
  {
   "cell_type": "code",
   "execution_count": 5,
   "metadata": {},
   "outputs": [
    {
     "data": {
      "text/plain": [
       "9.9"
      ]
     },
     "execution_count": 5,
     "metadata": {},
     "output_type": "execute_result"
    }
   ],
   "source": [
    "maxrep(10,2,0)"
   ]
  },
  {
   "cell_type": "markdown",
   "metadata": {},
   "source": [
    "Next consider a base = 2 example with precision = 4.  Then our stored string is \"1111\" (no extra precision here), representing $1.111_2$, to be multiplied by our base raised to the power emax = 3.  This becomes $1111_2 = 15_{10}$."
   ]
  },
  {
   "cell_type": "code",
   "execution_count": 6,
   "metadata": {},
   "outputs": [
    {
     "data": {
      "text/plain": [
       "15.0"
      ]
     },
     "execution_count": 6,
     "metadata": {},
     "output_type": "execute_result"
    }
   ],
   "source": [
    "maxrep(2,4,3)"
   ]
  },
  {
   "cell_type": "markdown",
   "metadata": {},
   "source": [
    "We can verify the largest representable number in \"half precision\" floating point representation.  (Although 10 digits are stored, we have a precision of 11 digits.)"
   ]
  },
  {
   "cell_type": "code",
   "execution_count": 9,
   "metadata": {},
   "outputs": [
    {
     "data": {
      "text/plain": [
       "65504.0"
      ]
     },
     "execution_count": 9,
     "metadata": {},
     "output_type": "execute_result"
    }
   ],
   "source": [
    "maxrep(2,11,15)"
   ]
  },
  {
   "cell_type": "markdown",
   "metadata": {},
   "source": [
    "And the maximum number representable in \"single precision\"."
   ]
  },
  {
   "cell_type": "code",
   "execution_count": 10,
   "metadata": {},
   "outputs": [
    {
     "data": {
      "text/plain": [
       "3.4028234663852886e38"
      ]
     },
     "execution_count": 10,
     "metadata": {},
     "output_type": "execute_result"
    }
   ],
   "source": [
    "maxrep(2,24,127)"
   ]
  },
  {
   "cell_type": "code",
   "execution_count": null,
   "metadata": {},
   "outputs": [],
   "source": []
  }
 ],
 "metadata": {
  "kernelspec": {
   "display_name": "Julia 0.6.4",
   "language": "julia",
   "name": "julia-0.6"
  },
  "language_info": {
   "file_extension": ".jl",
   "mimetype": "application/julia",
   "name": "julia",
   "version": "0.6.4"
  }
 },
 "nbformat": 4,
 "nbformat_minor": 2
}
