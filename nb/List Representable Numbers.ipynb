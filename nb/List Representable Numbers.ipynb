{
 "cells": [
  {
   "cell_type": "markdown",
   "metadata": {},
   "source": [
    "# List Floating Point Representation\n",
    "\n",
    "Given a base, $\\beta$, a precision, $p$, and minimum and maximum exponents, $emin$ and $emax$, the number of floating point represenations that can be composed (not normalized) is\n",
    "$$(emax-emin)\\times\\beta^{p}$$\n",
    "(This formula assumes $emax$ is positive and $emin$ is negative.  The function below does *not* assume this.)\n",
    "\n",
    "The following function generates this list of representations.  Note it is limited by the amount of computer memory available, so larger problems would need to be broken into smaller subsets, by groups of exponents.\n",
    "\n",
    "The `repeat` function takes a list of numbers (the first argument), repeats each number `inner` times, and then repeats each of those `inner` groups an `outer` number of times."
   ]
  },
  {
   "cell_type": "code",
   "execution_count": 1,
   "metadata": {},
   "outputs": [
    {
     "data": {
      "text/plain": [
       "all_fp (generic function with 1 method)"
      ]
     },
     "execution_count": 1,
     "metadata": {},
     "output_type": "execute_result"
    }
   ],
   "source": [
    "function all_fp(base::Int64, prec::Int64, emin::Int64, emax::Int64)\n",
    "    nexp = length(emin:emax)\n",
    "    out = zeros(Int, nexp*base^prec, prec+1)\n",
    "    for i in 1:prec\n",
    "        out[:,i] = repeat(0:(base-1), inner=base^(prec-i), outer=nexp*base^(i-1))\n",
    "    end\n",
    "    out[:,prec+1] = repeat(emin:emax, inner=base^(prec))\n",
    "    for j in 1:nexp*base^prec\n",
    "        println(out[j,1:prec], \" e\", out[j,prec+1])\n",
    "    end\n",
    "\n",
    "end"
   ]
  },
  {
   "cell_type": "code",
   "execution_count": 2,
   "metadata": {},
   "outputs": [
    {
     "name": "stdout",
     "output_type": "stream",
     "text": [
      "[0, 0, 0] e-1\n",
      "[0, 0, 1] e-1\n",
      "[0, 1, 0] e-1\n",
      "[0, 1, 1] e-1\n",
      "[1, 0, 0] e-1\n",
      "[1, 0, 1] e-1\n",
      "[1, 1, 0] e-1\n",
      "[1, 1, 1] e-1\n",
      "[0, 0, 0] e0\n",
      "[0, 0, 1] e0\n",
      "[0, 1, 0] e0\n",
      "[0, 1, 1] e0\n",
      "[1, 0, 0] e0\n",
      "[1, 0, 1] e0\n",
      "[1, 1, 0] e0\n",
      "[1, 1, 1] e0\n",
      "[0, 0, 0] e1\n",
      "[0, 0, 1] e1\n",
      "[0, 1, 0] e1\n",
      "[0, 1, 1] e1\n",
      "[1, 0, 0] e1\n",
      "[1, 0, 1] e1\n",
      "[1, 1, 0] e1\n",
      "[1, 1, 1] e1\n"
     ]
    }
   ],
   "source": [
    "all_fp(2,3,-1,1)"
   ]
  },
  {
   "cell_type": "markdown",
   "metadata": {},
   "source": [
    "If we list normalized numbers, we list fewer numbers, but each number has a unique representation.  Then there are:\n",
    "$$(emax-emin)\\times(\\beta-1)\\times \\beta^{p-1}$$\n",
    "representations/numbers.\n",
    "\n",
    "The same caveats and notes apply as in the previous function."
   ]
  },
  {
   "cell_type": "code",
   "execution_count": 3,
   "metadata": {},
   "outputs": [
    {
     "data": {
      "text/plain": [
       "all_fp_norm (generic function with 1 method)"
      ]
     },
     "execution_count": 3,
     "metadata": {},
     "output_type": "execute_result"
    }
   ],
   "source": [
    "function all_fp_norm(base::Int64, prec::Int64, emin::Int64, emax::Int64)\n",
    "    nexp = length(emin:emax)\n",
    "    nlead= base-1\n",
    "    out = zeros(Int, nexp*(base-1)*base^(prec-1), prec+1)\n",
    "    out[:,1] = repeat(1:(base-1), inner=base^(prec-1), outer=nexp)  # lead digit\n",
    "    for i in 2:prec\n",
    "        out[:,i] = repeat(0:(base-1), inner=base^(prec-i), outer=nexp*nlead*base^(i-2))\n",
    "    end\n",
    "    out[:,prec+1] = repeat(emin:emax, inner=nlead*base^(prec-1)) # exponent digit\n",
    "    for j in 1:nexp*(base-1)*base^(prec-1)\n",
    "        println(out[j,1:prec], \" e\", out[j,prec+1])\n",
    "    end\n",
    "\n",
    "end"
   ]
  },
  {
   "cell_type": "code",
   "execution_count": 4,
   "metadata": {},
   "outputs": [
    {
     "name": "stdout",
     "output_type": "stream",
     "text": [
      "[1, 0, 0] e-1\n",
      "[1, 0, 1] e-1\n",
      "[1, 0, 2] e-1\n",
      "[1, 1, 0] e-1\n",
      "[1, 1, 1] e-1\n",
      "[1, 1, 2] e-1\n",
      "[1, 2, 0] e-1\n",
      "[1, 2, 1] e-1\n",
      "[1, 2, 2] e-1\n",
      "[2, 0, 0] e-1\n",
      "[2, 0, 1] e-1\n",
      "[2, 0, 2] e-1\n",
      "[2, 1, 0] e-1\n",
      "[2, 1, 1] e-1\n",
      "[2, 1, 2] e-1\n",
      "[2, 2, 0] e-1\n",
      "[2, 2, 1] e-1\n",
      "[2, 2, 2] e-1\n",
      "[1, 0, 0] e0\n",
      "[1, 0, 1] e0\n",
      "[1, 0, 2] e0\n",
      "[1, 1, 0] e0\n",
      "[1, 1, 1] e0\n",
      "[1, 1, 2] e0\n",
      "[1, 2, 0] e0\n",
      "[1, 2, 1] e0\n",
      "[1, 2, 2] e0\n",
      "[2, 0, 0] e0\n",
      "[2, 0, 1] e0\n",
      "[2, 0, 2] e0\n",
      "[2, 1, 0] e0\n",
      "[2, 1, 1] e0\n",
      "[2, 1, 2] e0\n",
      "[2, 2, 0] e0\n",
      "[2, 2, 1] e0\n",
      "[2, 2, 2] e0\n",
      "[1, 0, 0] e1\n",
      "[1, 0, 1] e1\n",
      "[1, 0, 2] e1\n",
      "[1, 1, 0] e1\n",
      "[1, 1, 1] e1\n",
      "[1, 1, 2] e1\n",
      "[1, 2, 0] e1\n",
      "[1, 2, 1] e1\n",
      "[1, 2, 2] e1\n",
      "[2, 0, 0] e1\n",
      "[2, 0, 1] e1\n",
      "[2, 0, 2] e1\n",
      "[2, 1, 0] e1\n",
      "[2, 1, 1] e1\n",
      "[2, 1, 2] e1\n",
      "[2, 2, 0] e1\n",
      "[2, 2, 1] e1\n",
      "[2, 2, 2] e1\n"
     ]
    }
   ],
   "source": [
    "all_fp_norm(3,3,-1,1)"
   ]
  },
  {
   "cell_type": "markdown",
   "metadata": {},
   "source": [
    "A \"streaming-output\" approach would use less computer resources, and allow one to \"solve\" bigger represenation lists (the output would be unwieldy).  Ralph starts with the smallest number which can be represented (as a decimal number) and uses a decimal-to-base function developed as a previous exercise to show it's representation.  To this he adds the smallest unnormalized number, as a decimal, then converts it to the base floating point represenation, until he reaches the maximum.  Erika uses a recursive function to generate digits."
   ]
  },
  {
   "cell_type": "code",
   "execution_count": null,
   "metadata": {},
   "outputs": [],
   "source": []
  }
 ],
 "metadata": {
  "kernelspec": {
   "display_name": "Julia 1.0.0",
   "language": "julia",
   "name": "julia-1.0"
  },
  "language_info": {
   "file_extension": ".jl",
   "mimetype": "application/julia",
   "name": "julia",
   "version": "1.0.0"
  }
 },
 "nbformat": 4,
 "nbformat_minor": 2
}
