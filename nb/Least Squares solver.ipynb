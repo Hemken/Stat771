{
 "cells": [
  {
   "cell_type": "code",
   "execution_count": 1,
   "metadata": {},
   "outputs": [
    {
     "data": {
      "text/plain": [
       "invertUpperTri (generic function with 1 method)"
      ]
     },
     "execution_count": 1,
     "metadata": {},
     "output_type": "execute_result"
    }
   ],
   "source": [
    "function invertUpperTri(A)\n",
    "    ## Get dimensions of A\n",
    "    n, m = size(A)\n",
    "\n",
    "    ## Setup empty array to hold result\n",
    "    B = zeros(n,m)\n",
    "\n",
    "    ## Fill out diagonal with inverse diagonal from A\n",
    "    for k = 1:n\n",
    "        B[k, k] = 1/A[k,k]\n",
    "    end\n",
    "\n",
    "    ## Starting in the lower right corner, fill out the rest of the matrix.\n",
    "    for i = (n-1):-1:1\n",
    "        for j = (i+1):n\n",
    "            B[i,j] = -sum(A[i,(i+1):j].*B[(i+1):j,j])/A[i,i]\n",
    "        end\n",
    "    end\n",
    "\n",
    "    return(B)\n",
    "end"
   ]
  },
  {
   "cell_type": "code",
   "execution_count": 2,
   "metadata": {},
   "outputs": [
    {
     "data": {
      "text/plain": [
       "least_squares (generic function with 1 method)"
      ]
     },
     "execution_count": 2,
     "metadata": {},
     "output_type": "execute_result"
    }
   ],
   "source": [
    "function least_squares(A,b)\n",
    "    \"\"\"\n",
    "    Solves the linear squares regression problem given\n",
    "    the coefficient matrix A and the constant vector b\n",
    "    \"\"\"\n",
    "\n",
    "    n,m = size(A)\n",
    "\n",
    "    # Get QR decomposition\n",
    "    F = qr(A, Val(true))\n",
    "\n",
    "    # Rank = m\n",
    "\n",
    "    # Calculate c\n",
    "    c = (F.Q'b)[1:m]\n",
    "\n",
    "    # Create Pi matrix\n",
    "    Pi = zeros(m, m)\n",
    "\n",
    "    for i = 1:m\n",
    "        Pi[F.p[i], i] = 1\n",
    "    end\n",
    "\n",
    "    # Calculate x\n",
    "    x = Pi*invertUpperTri(F.R)*c\n",
    "\n",
    "    return x,c\n",
    "end\n"
   ]
  },
  {
   "cell_type": "code",
   "execution_count": 7,
   "metadata": {},
   "outputs": [
    {
     "data": {
      "text/plain": [
       "4-element Array{Float64,1}:\n",
       " 0.03599577938378151\n",
       " 0.01035800117778285\n",
       " 0.2726784118411749 \n",
       " 0.5680305758800297 "
      ]
     },
     "metadata": {},
     "output_type": "display_data"
    },
    {
     "data": {
      "text/plain": [
       "([0.0359958, 0.010358, 0.272678, 0.568031], [-1.62402, -0.00701678, -0.254085, 0.00683931])"
      ]
     },
     "execution_count": 7,
     "metadata": {},
     "output_type": "execute_result"
    }
   ],
   "source": [
    "using LinearAlgebra\n",
    "n, m = 10, 4\n",
    "A = rand(n,m)\n",
    "#b = rand(n)\n",
    "x = rand(m)\n",
    "display(x)\n",
    "b = A*x\n",
    "ls=least_squares(A,b)"
   ]
  },
  {
   "cell_type": "code",
   "execution_count": 8,
   "metadata": {},
   "outputs": [
    {
     "data": {
      "text/plain": [
       "least_squares_dh (generic function with 1 method)"
      ]
     },
     "execution_count": 8,
     "metadata": {},
     "output_type": "execute_result"
    }
   ],
   "source": [
    "function least_squares_dh(A,b)\n",
    "    \"\"\"\n",
    "    Solves the linear squares regression problem given\n",
    "    the coefficient matrix A and the constant vector b\n",
    "    \"\"\"\n",
    "\n",
    "    n,m = size(A)\n",
    "\n",
    "    # Get QR decomposition\n",
    "    F = qr(A, Val(false))\n",
    "\n",
    "    # Rank = m\n",
    "\n",
    "    # Calculate c\n",
    "    c = (F.Q'b)[1:m]\n",
    "\n",
    "    # Create Pi matrix\n",
    "    \"\"\"Pi = zeros(m, m)\n",
    "\n",
    "    for i = 1:m\n",
    "        Pi[F.p[i], i] = 1\n",
    "    end\"\"\"\n",
    "\n",
    "    # Calculate x\n",
    "    x = backsub(F.R,c)\n",
    "\n",
    "    return x,c\n",
    "end"
   ]
  },
  {
   "cell_type": "code",
   "execution_count": 9,
   "metadata": {},
   "outputs": [
    {
     "data": {
      "text/plain": [
       "([0.0359958, 0.010358, 0.272678, 0.568031], [-0.0659544, -0.0095576, -0.304257, -0.44258])"
      ]
     },
     "execution_count": 9,
     "metadata": {},
     "output_type": "execute_result"
    }
   ],
   "source": [
    "include(\"../jl/backsub.jl\")\n",
    "least_squares_dh(A,b)"
   ]
  },
  {
   "cell_type": "code",
   "execution_count": null,
   "metadata": {},
   "outputs": [],
   "source": []
  }
 ],
 "metadata": {
  "kernelspec": {
   "display_name": "Julia 1.0.0",
   "language": "julia",
   "name": "julia-1.0"
  },
  "language_info": {
   "file_extension": ".jl",
   "mimetype": "application/julia",
   "name": "julia",
   "version": "1.0.0"
  }
 },
 "nbformat": 4,
 "nbformat_minor": 2
}
