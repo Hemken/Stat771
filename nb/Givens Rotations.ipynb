{
 "cells": [
  {
   "cell_type": "markdown",
   "metadata": {},
   "source": [
    "# Givens Rotations"
   ]
  },
  {
   "cell_type": "code",
   "execution_count": 2,
   "metadata": {},
   "outputs": [
    {
     "data": {
      "text/plain": [
       "givens (generic function with 1 method)"
      ]
     },
     "execution_count": 2,
     "metadata": {},
     "output_type": "execute_result"
    }
   ],
   "source": [
    "using LinearAlgebra\n",
    "function givens(a,i,j)\n",
    "    # from Vivak Patel\n",
    "    \"\"\"\n",
    "    Computes the Givens Rotation for a\n",
    "    vector a at indices i and j, where\n",
    "    the index at j is set to zero.\n",
    "    \"\"\"\n",
    "    d = length(a)\n",
    "    (i > d || j > d) && error(\"Index out of range.\")\n",
    "    l = sqrt(a[i]^2 + a[j]^2)\n",
    "    λ = a[i]/l\n",
    "    σ = a[j]/l\n",
    "    G = ones(d)\n",
    "    G[i] = λ\n",
    "    G[j] = λ\n",
    "    G = diagm(0 => G)\n",
    "    G[i,j] = σ\n",
    "    G[j,i] = -σ\n",
    "    return G\n",
    "end"
   ]
  },
  {
   "cell_type": "code",
   "execution_count": 57,
   "metadata": {},
   "outputs": [
    {
     "data": {
      "text/plain": [
       "givensQR (generic function with 1 method)"
      ]
     },
     "execution_count": 57,
     "metadata": {},
     "output_type": "execute_result"
    }
   ],
   "source": [
    "function givensQR(A)\n",
    "    n,m = size(A)\n",
    "    R = copy(A)\n",
    "    G = Matrix{Float64}(I,n,n)\n",
    "    for j in 1:m\n",
    "        for i = n:-1:(j+1)\n",
    "            a = R[:,j]\n",
    "            Gi = givens(a,j,i)\n",
    "            G = G*Gi'\n",
    "            R = Gi*R\n",
    "        end\n",
    "    end\n",
    "    return R, G\n",
    "end"
   ]
  },
  {
   "cell_type": "code",
   "execution_count": 58,
   "metadata": {},
   "outputs": [
    {
     "data": {
      "text/plain": [
       "4.650317768291376e-16"
      ]
     },
     "metadata": {},
     "output_type": "display_data"
    },
    {
     "data": {
      "text/plain": [
       "4.865149434140654e-16"
      ]
     },
     "metadata": {},
     "output_type": "display_data"
    }
   ],
   "source": [
    "A = rand(5,4)\n",
    "R, Q = givensQR(A)\n",
    "display(norm(Q*Q'-I)) # orthogonal\n",
    "display(norm(Q*R-A))  # returns the original"
   ]
  }
 ],
 "metadata": {
  "kernelspec": {
   "display_name": "Julia 1.0.0",
   "language": "julia",
   "name": "julia-1.0"
  },
  "language_info": {
   "file_extension": ".jl",
   "mimetype": "application/julia",
   "name": "julia",
   "version": "1.0.0"
  }
 },
 "nbformat": 4,
 "nbformat_minor": 2
}
