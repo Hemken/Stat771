{
 "cells": [
  {
   "cell_type": "markdown",
   "metadata": {},
   "source": [
    "# Generate an arbitrary linear system"
   ]
  },
  {
   "cell_type": "code",
   "execution_count": 20,
   "metadata": {},
   "outputs": [
    {
     "data": {
      "text/plain": [
       "gen_Axb (generic function with 1 method)"
      ]
     },
     "execution_count": 20,
     "metadata": {},
     "output_type": "execute_result"
    }
   ],
   "source": [
    "function gen_Axb(n)\n",
    "    a = rand(n)\n",
    "    A = [ones(n) a]\n",
    "    e = randn(Float64, n)\n",
    "#    display(e)\n",
    "    x = [1,2]\n",
    "    b = A*x + e\n",
    "    return A, x, b\n",
    "end"
   ]
  },
  {
   "cell_type": "code",
   "execution_count": 16,
   "metadata": {},
   "outputs": [
    {
     "data": {
      "text/plain": [
       "10-element Array{Float64,1}:\n",
       " -0.4103490912807978\n",
       " -0.8897338035662209\n",
       "  0.7370710387046198\n",
       "  0.267915776827846 \n",
       "  0.2280311688858372\n",
       "  0.4388453954332678\n",
       "  0.6051349638706878\n",
       " -0.6765194039316047\n",
       " -2.0799973855453353\n",
       "  1.0572506814133038"
      ]
     },
     "metadata": {},
     "output_type": "display_data"
    },
    {
     "data": {
      "text/plain": [
       "2-element Array{Int64,1}:\n",
       " 1\n",
       " 2"
      ]
     },
     "execution_count": 16,
     "metadata": {},
     "output_type": "execute_result"
    }
   ],
   "source": [
    "A,x,b = gen_Axb(10);\n",
    "x"
   ]
  },
  {
   "cell_type": "code",
   "execution_count": 17,
   "metadata": {},
   "outputs": [
    {
     "data": {
      "text/plain": [
       "10×2 Array{Float64,2}:\n",
       " 1.0  0.696225   \n",
       " 1.0  0.000627002\n",
       " 1.0  0.152737   \n",
       " 1.0  0.963821   \n",
       " 1.0  0.570939   \n",
       " 1.0  0.0526269  \n",
       " 1.0  0.980577   \n",
       " 1.0  0.0597346  \n",
       " 1.0  0.7378     \n",
       " 1.0  0.940888   "
      ]
     },
     "execution_count": 17,
     "metadata": {},
     "output_type": "execute_result"
    }
   ],
   "source": [
    "A"
   ]
  },
  {
   "cell_type": "code",
   "execution_count": 18,
   "metadata": {},
   "outputs": [
    {
     "data": {
      "text/plain": [
       "2-element Array{Float64,1}:\n",
       " 0.7137840507770996\n",
       " 2.415015332761448 "
      ]
     },
     "execution_count": 18,
     "metadata": {},
     "output_type": "execute_result"
    }
   ],
   "source": [
    "A\\b"
   ]
  },
  {
   "cell_type": "code",
   "execution_count": 19,
   "metadata": {},
   "outputs": [
    {
     "data": {
      "text/plain": [
       "10-element Array{Float64,1}:\n",
       "  0.41034909128079766\n",
       "  0.8897338035662209 \n",
       " -0.7370710387046198 \n",
       " -0.26791577682784595\n",
       " -0.2280311688858374 \n",
       " -0.43884539543326784\n",
       " -0.6051349638706878 \n",
       "  0.6765194039316047 \n",
       "  2.0799973855453353 \n",
       " -1.0572506814133038 "
      ]
     },
     "execution_count": 19,
     "metadata": {},
     "output_type": "execute_result"
    }
   ],
   "source": [
    "A*x-b"
   ]
  },
  {
   "cell_type": "code",
   "execution_count": null,
   "metadata": {},
   "outputs": [],
   "source": []
  }
 ],
 "metadata": {
  "kernelspec": {
   "display_name": "Julia 1.0.0",
   "language": "julia",
   "name": "julia-1.0"
  },
  "language_info": {
   "file_extension": ".jl",
   "mimetype": "application/julia",
   "name": "julia",
   "version": "1.0.0"
  }
 },
 "nbformat": 4,
 "nbformat_minor": 2
}
