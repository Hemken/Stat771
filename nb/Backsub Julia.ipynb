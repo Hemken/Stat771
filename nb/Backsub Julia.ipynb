{
 "cells": [
  {
   "cell_type": "markdown",
   "metadata": {},
   "source": [
    "# Back-substitution"
   ]
  },
  {
   "cell_type": "code",
   "execution_count": 161,
   "metadata": {},
   "outputs": [
    {
     "data": {
      "text/plain": [
       "2-element Array{Float64,1}:\n",
       " 5.0\n",
       " 1.0"
      ]
     },
     "execution_count": 161,
     "metadata": {},
     "output_type": "execute_result"
    }
   ],
   "source": [
    "U = [1 2;0 3]\n",
    "y = [7;3]\n",
    "U\\y"
   ]
  },
  {
   "cell_type": "markdown",
   "metadata": {},
   "source": [
    "The final element of the solution, $b_n$, is just $$b_n=y_n/u_{nn}$$\n",
    "\n",
    "Then the penultimate element of the solution is\n",
    "$$ b_{n-1} = (y_{n-1} - u_{(n-1)n}*b_n)/u_{(n-1)(n-1)}$$\n",
    "\n",
    "The terms expand as we work *back* up toward the first element.  So the next element is\n",
    "$$ b_{n-2} = (y_{n-2} - u_{(n-2)n}*b_n - u_{(n-2)(n-1)}*b_{n-1})/u_{(n-2)(n-2)}$$"
   ]
  },
  {
   "cell_type": "code",
   "execution_count": 162,
   "metadata": {},
   "outputs": [
    {
     "data": {
      "text/plain": [
       "2-element Array{Float64,1}:\n",
       " 5.0\n",
       " 1.0"
      ]
     },
     "execution_count": 162,
     "metadata": {},
     "output_type": "execute_result"
    }
   ],
   "source": [
    "function backsub(U,y)\n",
    "    # U is an upper triangular matrix\n",
    "    # y is a column vector\n",
    "    cols = size(U,2)\n",
    "    b = fill(0.0, cols)\n",
    "    yf = convert(Array{Float64}, y)\n",
    "    for i in range(cols, stop=1, step=-1)\n",
    "        if i==cols\n",
    "            b[i]=yf[i]/U[i,i]\n",
    "        else\n",
    "            for j in range(cols, stop=i+1, step=-1)\n",
    "                yf[i] = yf[i] - U[i,j]*b[j]\n",
    "            end\n",
    "            b[i] = yf[i]/U[i, i]\n",
    "        end\n",
    "    end\n",
    "    b\n",
    "end\n",
    "\n",
    "backsub(U,y)"
   ]
  },
  {
   "cell_type": "code",
   "execution_count": 163,
   "metadata": {},
   "outputs": [
    {
     "data": {
      "text/plain": [
       "3-element Array{Float64,1}:\n",
       " 5.0\n",
       " 1.0\n",
       " 2.0"
      ]
     },
     "execution_count": 163,
     "metadata": {},
     "output_type": "execute_result"
    }
   ],
   "source": [
    "U2 = [1 2 -1; 0 3 -1; 0 0 2]\n",
    "y2 = [5; 1; 4]\n",
    "U2\\y2"
   ]
  },
  {
   "cell_type": "code",
   "execution_count": 164,
   "metadata": {},
   "outputs": [
    {
     "data": {
      "text/plain": [
       "3-element Array{Float64,1}:\n",
       " 5.0\n",
       " 1.0\n",
       " 2.0"
      ]
     },
     "execution_count": 164,
     "metadata": {},
     "output_type": "execute_result"
    }
   ],
   "source": [
    "backsub(U2, y2)"
   ]
  },
  {
   "cell_type": "code",
   "execution_count": 165,
   "metadata": {},
   "outputs": [
    {
     "data": {
      "text/plain": [
       "4-element Array{Float64,1}:\n",
       " -1.0\n",
       "  5.0\n",
       "  1.0\n",
       "  2.0"
      ]
     },
     "execution_count": 165,
     "metadata": {},
     "output_type": "execute_result"
    }
   ],
   "source": [
    "A = [4 3 2 1; 0 1 2 -1; 0 0 3 -1; 0 0 0 2]\n",
    "x = [15; 5; 1; 4]\n",
    "A\\x"
   ]
  },
  {
   "cell_type": "code",
   "execution_count": 166,
   "metadata": {},
   "outputs": [
    {
     "data": {
      "text/plain": [
       "4-element Array{Float64,1}:\n",
       " -1.0\n",
       "  5.0\n",
       "  1.0\n",
       "  2.0"
      ]
     },
     "execution_count": 166,
     "metadata": {},
     "output_type": "execute_result"
    }
   ],
   "source": [
    "backsub(A,x)"
   ]
  },
  {
   "cell_type": "markdown",
   "metadata": {},
   "source": [
    "# Vectorize this code!"
   ]
  },
  {
   "cell_type": "code",
   "execution_count": 171,
   "metadata": {},
   "outputs": [
    {
     "data": {
      "text/plain": [
       "4-element Array{Float64,1}:\n",
       " -1.0\n",
       "  5.0\n",
       "  1.0\n",
       "  2.0"
      ]
     },
     "execution_count": 171,
     "metadata": {},
     "output_type": "execute_result"
    }
   ],
   "source": [
    "function backsub2(U,y)\n",
    "    # U is an upper triangular matrix\n",
    "    # y is a column vector\n",
    "    cols = size(U,2)\n",
    "    b = fill(0.0, cols)\n",
    "    Uf = convert(Array{Float64}, U)\n",
    "    yf = convert(Array{Float64}, y)\n",
    "    for i in range(cols, stop=1, step=-1)\n",
    "        if i==cols\n",
    "            b[i]=yf[i]/Uf[i,i]\n",
    "        else\n",
    "            yf[i] = yf[i] - transpose(Uf[i,(i+1):cols])*b[(i+1):cols]\n",
    "            b[i] = yf[i]/Uf[i, i]\n",
    "        end\n",
    "    end\n",
    "    b\n",
    "end\n",
    "\n",
    "backsub2(A,x)"
   ]
  },
  {
   "cell_type": "code",
   "execution_count": 173,
   "metadata": {},
   "outputs": [
    {
     "data": {
      "text/plain": [
       "4-element Array{Float64,1}:\n",
       " -1.0\n",
       "  5.0\n",
       "  1.0\n",
       "  2.0"
      ]
     },
     "execution_count": 173,
     "metadata": {},
     "output_type": "execute_result"
    }
   ],
   "source": [
    "function backsub3(U,y)\n",
    "    # U is an upper triangular matrix\n",
    "    # y is a column vector\n",
    "    cols = size(U,2)\n",
    "    b = fill(0.0, cols)\n",
    "    Uf = convert(Array{Float64}, U)\n",
    "    yf = convert(Array{Float64}, y)\n",
    "    for i in range(cols, stop=1, step=-1)\n",
    "        if i==cols\n",
    "            b[i]=yf[i]/Uf[i,i]\n",
    "        else\n",
    "            yf[i] = yf[i] - transpose(Uf[i,:])*b\n",
    "            b[i] = yf[i]/Uf[i, i]\n",
    "        end\n",
    "    end\n",
    "    b\n",
    "end\n",
    "\n",
    "backsub3(A,x)"
   ]
  },
  {
   "cell_type": "code",
   "execution_count": null,
   "metadata": {},
   "outputs": [],
   "source": []
  }
 ],
 "metadata": {
  "kernelspec": {
   "display_name": "Julia 1.0.0",
   "language": "julia",
   "name": "julia-1.0"
  },
  "language_info": {
   "file_extension": ".jl",
   "mimetype": "application/julia",
   "name": "julia",
   "version": "1.0.0"
  }
 },
 "nbformat": 4,
 "nbformat_minor": 2
}
