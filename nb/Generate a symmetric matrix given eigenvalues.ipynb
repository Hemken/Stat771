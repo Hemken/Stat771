{
 "cells": [
  {
   "cell_type": "markdown",
   "metadata": {},
   "source": [
    "## Generate a symmetric matrix with specified eigenvalues"
   ]
  },
  {
   "cell_type": "markdown",
   "metadata": {},
   "source": [
    "Consider the singular value decomposition of $A$, $A=U\\Sigma V'$.  If A is symmetric and square, we can simplify to $A=V\\Sigma V'$.  To generate a square, symmetric matrix $A$ with the given eigenvalues $\\Sigma$, we just need to supply an orthogonal matrix $V$."
   ]
  },
  {
   "cell_type": "code",
   "execution_count": 1,
   "metadata": {},
   "outputs": [
    {
     "data": {
      "text/plain": [
       "gen_eigm (generic function with 1 method)"
      ]
     },
     "execution_count": 1,
     "metadata": {},
     "output_type": "execute_result"
    }
   ],
   "source": [
    "using LinearAlgebra\n",
    "function gen_eigm(d)\n",
    "    # d is a vector of eigenvalues\n",
    "    # returns a matrix with those eigenvalues\n",
    "    Σ = diagm(0 => d) # diagonal matrix of eigenvalues\n",
    "    n,m = size(Σ)\n",
    "    V = rand(n,m)     # random matrix\n",
    "    Q,R = qr(V)       # orthonormalized\n",
    "    A = Q*Σ*Q'        # random A with given eigenvalues\n",
    "    return A\n",
    "end"
   ]
  },
  {
   "cell_type": "code",
   "execution_count": 2,
   "metadata": {},
   "outputs": [
    {
     "data": {
      "text/plain": [
       "3×3 Array{Float64,2}:\n",
       "  1.63142   -0.134693  -0.591056\n",
       " -0.134693   0.816631  -0.200003\n",
       " -0.591056  -0.200003   1.05195 "
      ]
     },
     "execution_count": 2,
     "metadata": {},
     "output_type": "execute_result"
    }
   ],
   "source": [
    "d = [0.5, 2, 1]\n",
    "A = gen_eigm(d)"
   ]
  },
  {
   "cell_type": "code",
   "execution_count": 3,
   "metadata": {},
   "outputs": [
    {
     "data": {
      "text/plain": [
       "Eigen{Float64,Float64,Array{Float64,2},Array{Float64,1}}\n",
       "eigenvalues:\n",
       "3-element Array{Float64,1}:\n",
       " 2.000000000000001 \n",
       " 1.0000000000000002\n",
       " 0.4999999999999997\n",
       "eigenvectors:\n",
       "3×3 Array{Float64,2}:\n",
       " -0.849273     0.314727  -0.42389 \n",
       "  0.00744361  -0.795673  -0.605681\n",
       "  0.527902     0.517543  -0.673401"
      ]
     },
     "execution_count": 3,
     "metadata": {},
     "output_type": "execute_result"
    }
   ],
   "source": [
    "eigen(A)"
   ]
  },
  {
   "cell_type": "code",
   "execution_count": null,
   "metadata": {},
   "outputs": [],
   "source": []
  }
 ],
 "metadata": {
  "kernelspec": {
   "display_name": "Julia 1.0.0",
   "language": "julia",
   "name": "julia-1.0"
  },
  "language_info": {
   "file_extension": ".jl",
   "mimetype": "application/julia",
   "name": "julia",
   "version": "1.0.0"
  }
 },
 "nbformat": 4,
 "nbformat_minor": 2
}
