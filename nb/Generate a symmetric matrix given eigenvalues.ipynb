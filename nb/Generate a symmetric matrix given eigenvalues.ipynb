{
 "cells": [
  {
   "cell_type": "markdown",
   "metadata": {},
   "source": [
    "## Generate a symmetric matrix with specified eigenvalues"
   ]
  },
  {
   "cell_type": "markdown",
   "metadata": {},
   "source": [
    "Consider the singular value decomposition of $A$, $A=U\\Sigma V'$.  If A is symmetric and square, we can simplify to $A=V\\Sigma V'$.  To generate a square, symmetric matrix $A$ with the given eigenvalues $\\Sigma$, we just need to supply an orthogonal matrix $V$."
   ]
  },
  {
   "cell_type": "code",
   "execution_count": 1,
   "metadata": {},
   "outputs": [
    {
     "data": {
      "text/plain": [
       "gen_eigm (generic function with 1 method)"
      ]
     },
     "execution_count": 1,
     "metadata": {},
     "output_type": "execute_result"
    }
   ],
   "source": [
    "using LinearAlgebra\n",
    "function gen_eigm(d)\n",
    "    # d is a vector of eigenvalues\n",
    "    # returns a matrix with those eigenvalues\n",
    "    Σ = diagm(0 => d) # diagonal matrix of eigenvalues\n",
    "    n,m = size(Σ)\n",
    "    V = rand(n,m)     # random matrix\n",
    "    Q,R = qr(V)       # orthonormalized\n",
    "    A = Q*Σ*Q'        # random A with given eigenvalues\n",
    "    return A\n",
    "end"
   ]
  },
  {
   "cell_type": "code",
   "execution_count": 2,
   "metadata": {},
   "outputs": [
    {
     "data": {
      "text/plain": [
       "3×3 Array{Float64,2}:\n",
       "  1.75408   -0.407248   0.180741\n",
       " -0.407248   0.916298  -0.352342\n",
       "  0.180741  -0.352342   0.829621"
      ]
     },
     "execution_count": 2,
     "metadata": {},
     "output_type": "execute_result"
    }
   ],
   "source": [
    "d = [0.5, 2, 1]\n",
    "A = gen_eigm(d)"
   ]
  },
  {
   "cell_type": "code",
   "execution_count": 3,
   "metadata": {},
   "outputs": [
    {
     "data": {
      "text/plain": [
       "Eigen{Float64,Float64,Array{Float64,2},Array{Float64,1}}\n",
       "eigenvalues:\n",
       "3-element Array{Float64,1}:\n",
       " 1.9999999999999993\n",
       " 0.9999999999999997\n",
       " 0.5               \n",
       "eigenvectors:\n",
       "3×3 Array{Float64,2}:\n",
       "  0.873383  -0.468794  0.132039\n",
       " -0.412433  -0.567709  0.712464\n",
       "  0.259039   0.676712  0.689174"
      ]
     },
     "execution_count": 3,
     "metadata": {},
     "output_type": "execute_result"
    }
   ],
   "source": [
    "eigen(A)"
   ]
  },
  {
   "cell_type": "code",
   "execution_count": 4,
   "metadata": {},
   "outputs": [
    {
     "data": {
      "text/plain": [
       "SVD{Float64,Float64,Array{Float64,2}}([-0.873383 -0.468794 0.132039; 0.412433 -0.567709 0.712464; -0.259039 0.676712 0.689174], [2.0, 1.0, 0.5], [-0.873383 0.412433 -0.259039; -0.468794 -0.567709 0.676712; 0.132039 0.712464 0.689174])"
      ]
     },
     "execution_count": 4,
     "metadata": {},
     "output_type": "execute_result"
    }
   ],
   "source": [
    "svd(A)"
   ]
  }
 ],
 "metadata": {
  "kernelspec": {
   "display_name": "Julia 1.0.0",
   "language": "julia",
   "name": "julia-1.0"
  },
  "language_info": {
   "file_extension": ".jl",
   "mimetype": "application/julia",
   "name": "julia",
   "version": "1.0.0"
  }
 },
 "nbformat": 4,
 "nbformat_minor": 2
}
