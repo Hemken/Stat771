{
 "cells": [
  {
   "cell_type": "markdown",
   "metadata": {},
   "source": [
    "# Represent a Decimal Number\n",
    "Convert a decimal representation of a number into an arbitrary base, with arbitrary precision (significant digits)."
   ]
  },
  {
   "cell_type": "code",
   "execution_count": 1,
   "metadata": {},
   "outputs": [
    {
     "data": {
      "text/plain": [
       "mydigits (generic function with 2 methods)"
      ]
     },
     "execution_count": 1,
     "metadata": {},
     "output_type": "execute_result"
    }
   ],
   "source": [
    "function mydigits(dec::Float64, base::Int64, prec::Int=64)\n",
    "    order = log(dec)/log(base)\n",
    "#    println(\"order=\", order)\n",
    "    exp = Int(floor(abs(order))*sign(order))\n",
    "#    println(\"exp=\", exp)\n",
    "    d = zeros(Int,1,max(exp+1,prec))\n",
    "    power = Int(exp)\n",
    "    println(dec, \" in base \", base, \" to \", prec, \" digits:\")\n",
    "    for i = 1:prec\n",
    "#        println(\"i=\", i, \" power=\",power)\n",
    "        if dec/(float(base)^power) >= 1\n",
    "            d[i] = floor(dec/(float(base)^power))\n",
    "            dec = dec - d[i]*(float(base)^power)\n",
    "        end\n",
    "        power -= 1\n",
    "    end\n",
    "    println(d,\"exp\", exp)\n",
    "    if dec < 1e-15\n",
    "        println(\"exactly\")\n",
    "    else\n",
    "        println(\"approx.\")\n",
    "    end\n",
    "    println(\"\")\n",
    "end"
   ]
  },
  {
   "cell_type": "code",
   "execution_count": 25,
   "metadata": {},
   "outputs": [
    {
     "name": "stdout",
     "output_type": "stream",
     "text": [
      "10.0 in base 2 to 4 digits:\n",
      "[1 0 1 0]exp3\n",
      "exactly\n",
      "\n",
      "10.0 in base 2 to 2 digits:\n",
      "[1 0 0 0]exp3\n",
      "approx.\n",
      "\n",
      "10.5 in base 2 to 6 digits:\n",
      "[1 0 1 0 1 0]exp3\n",
      "exactly\n",
      "\n",
      "10.4 in base 2 to 5 digits:\n",
      "[1 0 1 0 0]exp3\n",
      "approx.\n",
      "\n",
      "10.4 in base 2 to 6 digits:\n",
      "[1 0 1 0 0 1]exp3\n",
      "approx.\n",
      "\n",
      "10.4 in base 2 to 7 digits:\n",
      "[1 0 1 0 0 1 1]exp3\n",
      "approx.\n",
      "\n"
     ]
    }
   ],
   "source": [
    "mydigits(10.0,2,4)\n",
    "mydigits(10.0,2,2)\n",
    "mydigits(10.5,2,6)\n",
    "mydigits(10.4,2,5)\n",
    "mydigits(10.4,2,6)\n",
    "mydigits(10.4,2,7)"
   ]
  },
  {
   "cell_type": "code",
   "execution_count": 26,
   "metadata": {},
   "outputs": [
    {
     "name": "stdout",
     "output_type": "stream",
     "text": [
      "0.5 in base 2 to 6 digits:\n",
      "[1 0 0 0 0 0]exp-1\n",
      "exactly\n",
      "\n"
     ]
    }
   ],
   "source": [
    "mydigits(0.5,2,6)"
   ]
  },
  {
   "cell_type": "code",
   "execution_count": 27,
   "metadata": {},
   "outputs": [
    {
     "name": "stdout",
     "output_type": "stream",
     "text": [
      "10.0 in base 3 to 4 digits:\n",
      "[1 0 1 0]exp2\n",
      "exactly\n",
      "\n",
      "11.0 in base 3 to 3 digits:\n",
      "[1 0 2]exp2\n",
      "exactly\n",
      "\n",
      "11.0 in base 3 to 4 digits:\n",
      "[1 0 2 0]exp2\n",
      "exactly\n",
      "\n"
     ]
    }
   ],
   "source": [
    "mydigits(10.0,3,4)\n",
    "mydigits(11.0,3,3)\n",
    "mydigits(11.0,3,4)"
   ]
  },
  {
   "cell_type": "code",
   "execution_count": 28,
   "metadata": {},
   "outputs": [
    {
     "name": "stdout",
     "output_type": "stream",
     "text": [
      "0.3333333333333333 in base 3 to 1 digits:\n",
      "[1]exp-1\n",
      "exactly\n",
      "\n",
      "0.3333333333333333 in base 3 to 2 digits:\n",
      "[1 0]exp-1\n",
      "exactly\n",
      "\n",
      "0.1111111111111111 in base 3 to 3 digits:\n",
      "[1 0 0]exp-2\n",
      "exactly\n",
      "\n"
     ]
    }
   ],
   "source": [
    "mydigits(1/3,3,1)\n",
    "mydigits(1/3,3,2)\n",
    "mydigits(1/9,3,3)"
   ]
  },
  {
   "cell_type": "code",
   "execution_count": 3,
   "metadata": {},
   "outputs": [
    {
     "name": "stdout",
     "output_type": "stream",
     "text": [
      "127.0 in base 2 to 8 digits:\n",
      "[1 1 1 1 1 1 1 0]exp6\n",
      "exactly\n",
      "\n"
     ]
    }
   ],
   "source": [
    "mydigits(127.0,2,8)"
   ]
  },
  {
   "cell_type": "code",
   "execution_count": null,
   "metadata": {},
   "outputs": [],
   "source": []
  }
 ],
 "metadata": {
  "kernelspec": {
   "display_name": "Julia 1.0.0",
   "language": "julia",
   "name": "julia-1.0"
  },
  "language_info": {
   "file_extension": ".jl",
   "mimetype": "application/julia",
   "name": "julia",
   "version": "1.0.0"
  }
 },
 "nbformat": 4,
 "nbformat_minor": 2
}
