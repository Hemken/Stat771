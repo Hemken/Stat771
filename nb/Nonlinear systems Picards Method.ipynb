{
 "cells": [
  {
   "cell_type": "markdown",
   "metadata": {},
   "source": [
    "# Picard's Method (Fixed-point Iteration)\n",
    "\n",
    "_Picard's Method_\n",
    "\n",
    "We seek to solve $x = G(x)$.  Our iterative method is\n",
    "$$x_+=G(x_c)$$\n",
    "forming a sequence $x_0, x_1=G(x+0), x_2=G(x_1), ....$\n",
    "\n",
    "(see https://en.wikipedia.org/wiki/Fixed-point_iteration )"
   ]
  },
  {
   "cell_type": "markdown",
   "metadata": {},
   "source": [
    "_Example: Babylonian Square-Root Algorithm_\n",
    "\n",
    "To find the square root of $a$, iterate $G(a)=\\frac{1}{2}(x+\\frac{a}{x})$.  Pick an arbitrary starting value, $x_0$."
   ]
  },
  {
   "cell_type": "code",
   "execution_count": 21,
   "metadata": {},
   "outputs": [
    {
     "data": {
      "text/plain": [
       "G (generic function with 1 method)"
      ]
     },
     "execution_count": 21,
     "metadata": {},
     "output_type": "execute_result"
    }
   ],
   "source": [
    "function G(a, x, iter)\n",
    "    for i in 1:iter\n",
    "        x = 0.5*(x + a/x)\n",
    "        println(x)\n",
    "    end\n",
    "    return x\n",
    "end"
   ]
  },
  {
   "cell_type": "code",
   "execution_count": 22,
   "metadata": {},
   "outputs": [
    {
     "name": "stdout",
     "output_type": "stream",
     "text": [
      "5.2\n",
      "2.9846153846153847\n",
      "2.1624107850911973\n",
      "2.006099040777959\n",
      "2.00000927130158\n"
     ]
    },
    {
     "data": {
      "text/plain": [
       "2.00000927130158"
      ]
     },
     "execution_count": 22,
     "metadata": {},
     "output_type": "execute_result"
    }
   ],
   "source": [
    "G(4, 10,5)"
   ]
  },
  {
   "cell_type": "markdown",
   "metadata": {},
   "source": [
    "Solving by hand\n",
    "$$\n",
    "\\begin{align*}\n",
    "x &= G(x) \\\\\n",
    "x &= \\frac{1}{2}(x+\\frac{a}{x}) \\\\\n",
    "2x &= x + \\frac{a}{x} \\\\\n",
    "x &=\\frac{a}{x} \\\\\n",
    "x^2 &=a \\\\\n",
    "x &=\\sqrt{a}\n",
    "\\end{align*}\n",
    "$$\n",
    "we see that we are solving square roots."
   ]
  },
  {
   "cell_type": "markdown",
   "metadata": {},
   "source": [
    "_Example_: Golden Ratio algorithm"
   ]
  },
  {
   "cell_type": "code",
   "execution_count": 23,
   "metadata": {},
   "outputs": [
    {
     "data": {
      "text/plain": [
       "golden (generic function with 1 method)"
      ]
     },
     "execution_count": 23,
     "metadata": {},
     "output_type": "execute_result"
    }
   ],
   "source": [
    "function golden(x, iter)\n",
    "    for i in 1:iter\n",
    "        x = 1 + 1/x\n",
    "    end\n",
    "    return x\n",
    "end"
   ]
  },
  {
   "cell_type": "markdown",
   "metadata": {},
   "source": [
    "This converges to the Golden Ratio, $1+\\frac{\\sqrt{5}}{2}$."
   ]
  },
  {
   "cell_type": "code",
   "execution_count": 24,
   "metadata": {},
   "outputs": [
    {
     "data": {
      "text/plain": [
       "1.6181506849315068"
      ]
     },
     "execution_count": 24,
     "metadata": {},
     "output_type": "execute_result"
    }
   ],
   "source": [
    "x0 = 10\n",
    "golden(10, 10)"
   ]
  },
  {
   "cell_type": "markdown",
   "metadata": {},
   "source": [
    "*Definition*: a function $G: \\mathbb{R}^m \\rightarrow \\mathbb{R}^m$ is a contraction on a *closed* set $D \\subseteq \\mathbb{R}^m$ if\n",
    "\n",
    "- $x \\in D \\Rightarrow G(x) \\in D$\n",
    "- $\\exists \\alpha \\in (0,1)$ with $\\forall x,y \\in D$, $\\Rightarrow \\lVert G(x)-G(y)\\rVert \\leq \\alpha \\lVert x-y \\rVert$"
   ]
  },
  {
   "cell_type": "markdown",
   "metadata": {},
   "source": [
    "_Theorem_: Solutions on Contractions\n",
    "\n",
    "(This is why Picard's method works.)\n",
    "\n",
    "If $G(x)$ is a contraction on a closed set $D \\subseteq \\mathbb{R}^m$ then\n",
    " \n",
    " - There is a unique $x^* = G(x^*)$, with $x^* \\in D$ (the solution is unique)\n",
    " \n",
    "   _Proof_: Suppose not.  Suppose $x^*=G(x^*)$ and $y^*=G(y^*)$, and $x^* \\neq y^*$.  From our definition we derive $\\lVert x^*-y^* \\rVert \\leq \\alpha \\lVert x^*-y^* \\rVert$.  This implies $1 \\leq \\alpha$.  But we require $\\alpha < 1$.  This is a contradiction.  So $x^*$ must be unique.\n",
    "   \n",
    " - If $x_0 \\in D$ and $x_{k+1}=G(x_k)$, then $x_k \\rightarrow x^*$ (the $x_i$ converge to $x^*$)\n",
    " \n",
    "   _Proof_:  If $x_0 \\in D$ then clearly all $x_n \\in D$, by induction.  From this we can also see that $\\lVert G(x_{n+1})-G(x_n)\\rVert = \\alpha^n \\lVert x_n - x_0 \\rVert$ .  We recognize that this is a Cauchy sequence, so it must converge.  Because $D$ is a closed set, the value to which this sequence converges is also $\\in D$."
   ]
  },
  {
   "cell_type": "markdown",
   "metadata": {},
   "source": [
    "_Example_: Convergence depends on $x_0$ being close enough to $x^*$.\n",
    "\n",
    "Find a root of $x^3-7x+2=0$ in $[0,1]$.  (The upper bound actually seems to be $2.4 < u < 2.5$ ?)"
   ]
  },
  {
   "cell_type": "code",
   "execution_count": 26,
   "metadata": {},
   "outputs": [
    {
     "data": {
      "text/plain": [
       "g (generic function with 1 method)"
      ]
     },
     "execution_count": 26,
     "metadata": {},
     "output_type": "execute_result"
    }
   ],
   "source": [
    "function g(x, iter)\n",
    "    for i in 1:iter\n",
    "        x = 1/7*(x^3+2)\n",
    "        println(x)\n",
    "    end\n",
    "    return x\n",
    "end"
   ]
  },
  {
   "cell_type": "code",
   "execution_count": 27,
   "metadata": {},
   "outputs": [
    {
     "name": "stdout",
     "output_type": "stream",
     "text": [
      "0.42857142857142855\n",
      "0.2969596001665972\n",
      "0.28945534050963756\n",
      "0.2891788343339931\n",
      "0.289168915143014\n",
      "0.28916855966104643\n",
      "0.28916854692180793\n",
      "0.28916854646527845\n",
      "0.28916854644891804\n",
      "0.28916854644833173\n"
     ]
    },
    {
     "data": {
      "text/plain": [
       "0.28916854644833173"
      ]
     },
     "execution_count": 27,
     "metadata": {},
     "output_type": "execute_result"
    }
   ],
   "source": [
    "x0 = 1\n",
    "xstar = g(x0, 10)"
   ]
  },
  {
   "cell_type": "code",
   "execution_count": 28,
   "metadata": {},
   "outputs": [
    {
     "data": {
      "text/plain": [
       "-1.4699352846037073e-13"
      ]
     },
     "execution_count": 28,
     "metadata": {},
     "output_type": "execute_result"
    }
   ],
   "source": [
    "# check\n",
    "xstar^3 - 7*xstar +2"
   ]
  },
  {
   "cell_type": "code",
   "execution_count": 29,
   "metadata": {},
   "outputs": [
    {
     "name": "stdout",
     "output_type": "stream",
     "text": [
      "2.517857142857143\n",
      "2.566031243492295\n",
      "2.699439236906048\n",
      "3.0958198082923487\n",
      "4.524378215464137\n",
      "13.51628772744436\n",
      "353.0415805069743\n",
      "6.286074963885501e6\n",
      "3.548465829785881e19\n",
      "6.382985274670296e57\n"
     ]
    },
    {
     "data": {
      "text/plain": [
       "2.600587840425665e173"
      ]
     },
     "execution_count": 29,
     "metadata": {},
     "output_type": "execute_result"
    }
   ],
   "source": [
    "# but this does not converge\n",
    "x0 = 2.5\n",
    "xtry = g(x0,10)\n",
    "xtry^3 - 7*xtry +2"
   ]
  },
  {
   "cell_type": "code",
   "execution_count": null,
   "metadata": {},
   "outputs": [],
   "source": []
  }
 ],
 "metadata": {
  "kernelspec": {
   "display_name": "Julia 1.0.0",
   "language": "julia",
   "name": "julia-1.0"
  },
  "language_info": {
   "file_extension": ".jl",
   "mimetype": "application/julia",
   "name": "julia",
   "version": "1.0.0"
  }
 },
 "nbformat": 4,
 "nbformat_minor": 2
}
