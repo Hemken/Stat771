{
 "cells": [
  {
   "cell_type": "markdown",
   "metadata": {},
   "source": [
    "# Solving Linear Systems in Julia"
   ]
  },
  {
   "cell_type": "markdown",
   "metadata": {},
   "source": [
    "## A Consistent Linear System (n x n)\n",
    "Where $Ax=b$ has an exact solution."
   ]
  },
  {
   "cell_type": "markdown",
   "metadata": {},
   "source": [
    "An example with random $A$ and $b$."
   ]
  },
  {
   "cell_type": "code",
   "execution_count": 14,
   "metadata": {},
   "outputs": [
    {
     "data": {
      "text/plain": [
       "3×3 Array{Float64,2}:\n",
       " 0.10053   0.671944   0.866587\n",
       " 0.060641  0.0186862  0.706712\n",
       " 0.64705   0.466143   0.531028"
      ]
     },
     "metadata": {},
     "output_type": "display_data"
    },
    {
     "data": {
      "text/plain": [
       "3×1 Array{Float64,2}:\n",
       " 0.2752780146684881\n",
       " 0.6641174800899752\n",
       " 0.8583483061009995"
      ]
     },
     "execution_count": 14,
     "metadata": {},
     "output_type": "execute_result"
    }
   ],
   "source": [
    "A = rand(3,3)\n",
    "display(A)\n",
    "b = rand(3,1)"
   ]
  },
  {
   "cell_type": "markdown",
   "metadata": {},
   "source": [
    "### Solving for $x$ with the built in \"backsolve\", \"\\\"."
   ]
  },
  {
   "cell_type": "code",
   "execution_count": 15,
   "metadata": {},
   "outputs": [
    {
     "data": {
      "text/plain": [
       "3×1 Array{Float64,2}:\n",
       "  1.2598917468059476\n",
       " -0.881392717887787 \n",
       "  0.8549257098604145"
      ]
     },
     "execution_count": 15,
     "metadata": {},
     "output_type": "execute_result"
    }
   ],
   "source": [
    "A\\b"
   ]
  },
  {
   "cell_type": "markdown",
   "metadata": {},
   "source": [
    "### Using the $QR$ decomposition\n",
    "and a home-made \"back-substitution\" function.\n",
    "\n",
    "Here, we start with\n",
    "$$A = QR$$\n",
    "\n",
    "So\n",
    "$$Ax = b$$\n",
    "$$QRx = b$$\n",
    "$$Rx = Q^{-1}b$$\n",
    "\n",
    "Now, $Q$ is orthogonal, so we have\n",
    "$$Rx = Q'b$$\n",
    "\n",
    "And this is now in a form where we can employ back-substitution.\n"
   ]
  },
  {
   "cell_type": "code",
   "execution_count": 16,
   "metadata": {},
   "outputs": [
    {
     "data": {
      "text/plain": [
       "backsub (generic function with 1 method)"
      ]
     },
     "execution_count": 16,
     "metadata": {},
     "output_type": "execute_result"
    }
   ],
   "source": [
    "function backsub(U,y)\n",
    "    # U is an upper triangular matrix\n",
    "    # y is a column vector\n",
    "    cols = size(U,2)\n",
    "    b = fill(0.0, cols)\n",
    "    Uf = convert(Array{Float64}, U)\n",
    "    yf = convert(Array{Float64}, y)\n",
    "    for i in range(cols, stop=1, step=-1)\n",
    "        if i==cols\n",
    "            b[i]=yf[i]/Uf[i,i]\n",
    "        else\n",
    "            yf[i] = yf[i] - transpose(Uf[i,:])*b\n",
    "            b[i] = yf[i]/Uf[i, i]\n",
    "        end\n",
    "    end\n",
    "    return b\n",
    "end"
   ]
  },
  {
   "cell_type": "code",
   "execution_count": 11,
   "metadata": {},
   "outputs": [
    {
     "data": {
      "text/plain": [
       "3-element Array{Float64,1}:\n",
       " 0.03372673679526412\n",
       " 0.8102686163658064 \n",
       " 0.2283920722750645 "
      ]
     },
     "execution_count": 11,
     "metadata": {},
     "output_type": "execute_result"
    }
   ],
   "source": [
    "using LinearAlgebra\n",
    "F = qr(A,Val(true))\n",
    "backsub(F.R, F.Q'*b)"
   ]
  },
  {
   "cell_type": "markdown",
   "metadata": {},
   "source": [
    "## A Consistent Linear System (n x m, n > m)\n",
    "\n",
    "More rows than columns.  Notice here that the $R$ we get back from `qr` is not conformable with $Q$.  Notice also that the solution from `\\` is pivoted.\n"
   ]
  },
  {
   "cell_type": "code",
   "execution_count": 19,
   "metadata": {},
   "outputs": [
    {
     "data": {
      "text/plain": [
       "4×3 Array{Float64,2}:\n",
       " 0.537679  0.622385  0.190834\n",
       " 0.126656  0.586602  0.85736 \n",
       " 0.266321  0.96532   0.937639\n",
       " 0.788049  0.556113  0.880527"
      ]
     },
     "metadata": {},
     "output_type": "display_data"
    },
    {
     "data": {
      "text/plain": [
       "3×1 Array{Float64,2}:\n",
       "  0.2730019409236663 \n",
       "  1.0585704908913989 \n",
       " -0.24914533499175356"
      ]
     },
     "execution_count": 19,
     "metadata": {},
     "output_type": "execute_result"
    }
   ],
   "source": [
    "A = rand(4,3)\n",
    "b = rand(4,1)\n",
    "A\\b"
   ]
  },
  {
   "cell_type": "code",
   "execution_count": 20,
   "metadata": {},
   "outputs": [
    {
     "data": {
      "text/plain": [
       "3×3 Array{Float64,2}:\n",
       " -1.55756  -0.741424  -1.29465 \n",
       "  0.0       0.668864   0.215861\n",
       "  0.0       0.0       -0.499844"
      ]
     },
     "metadata": {},
     "output_type": "display_data"
    },
    {
     "data": {
      "text/plain": [
       "4×4 LinearAlgebra.QRPackedQ{Float64,Array{Float64,2}}:\n",
       " -0.122521   0.668057  -0.639309   -0.360517\n",
       " -0.550452  -0.420806   0.0704361  -0.717609\n",
       " -0.601994  -0.269131  -0.488234    0.571664\n",
       " -0.565327   0.551535   0.589873    0.16812 "
      ]
     },
     "metadata": {},
     "output_type": "display_data"
    },
    {
     "data": {
      "text/plain": [
       "3-element Array{Float64,1}:\n",
       " -0.24914533499175362\n",
       "  0.2730019409236663 \n",
       "  1.0585704908913989 "
      ]
     },
     "execution_count": 20,
     "metadata": {},
     "output_type": "execute_result"
    }
   ],
   "source": [
    "F = qr(A,Val(true))\n",
    "display(F.R)\n",
    "display(F.Q)\n",
    "backsub(F.R, F.Q'*b)"
   ]
  },
  {
   "cell_type": "markdown",
   "metadata": {},
   "source": [
    "## An Underdetermined System (n x n, rows not independent)\n",
    "Where the rows beyond row m contain redundant information, i.e. the lower rows are each linear combinations of the preceding rows.\n",
    "\n",
    "- Row 3 is just row 1+ row 2.\n",
    "\n",
    "Here again, $R$ and $Q$ as returned by `qr` are not conformable, and the solution from `\\` is pivoted."
   ]
  },
  {
   "cell_type": "code",
   "execution_count": 30,
   "metadata": {},
   "outputs": [
    {
     "data": {
      "text/plain": [
       "2-element Array{Float64,1}:\n",
       " 1.9999999999999978\n",
       " 1.0000000000000007"
      ]
     },
     "execution_count": 30,
     "metadata": {},
     "output_type": "execute_result"
    }
   ],
   "source": [
    "A = [1 1;1 3; 2 4]\n",
    "b = [3; 5; 8]\n",
    "A\\b"
   ]
  },
  {
   "cell_type": "code",
   "execution_count": 31,
   "metadata": {},
   "outputs": [
    {
     "data": {
      "text/plain": [
       "2×2 Array{Float64,2}:\n",
       " -5.09902  -2.35339 \n",
       "  0.0       0.679366"
      ]
     },
     "metadata": {},
     "output_type": "display_data"
    },
    {
     "data": {
      "text/plain": [
       "3×3 LinearAlgebra.QRPackedQ{Float64,Array{Float64,2}}:\n",
       " -0.196116   0.792594  -0.57735\n",
       " -0.588348  -0.566139  -0.57735\n",
       " -0.784465   0.226455   0.57735"
      ]
     },
     "metadata": {},
     "output_type": "display_data"
    },
    {
     "data": {
      "text/plain": [
       "2-element Array{Float64,1}:\n",
       " 1.0000000000000007\n",
       " 1.9999999999999978"
      ]
     },
     "execution_count": 31,
     "metadata": {},
     "output_type": "execute_result"
    }
   ],
   "source": [
    "F = qr(A,Val(true))\n",
    "display(F.R)\n",
    "display(F.Q)\n",
    "backsub(F.R, F.Q'*b)"
   ]
  },
  {
   "cell_type": "markdown",
   "metadata": {},
   "source": [
    "## An Underdetermined System (n x m, n < m)\n",
    "Here again, $R$ and $Q$ as returned by `qr` are not conformable, and the solution from `\\` is pivoted."
   ]
  },
  {
   "cell_type": "code",
   "execution_count": 32,
   "metadata": {},
   "outputs": [
    {
     "data": {
      "text/plain": [
       "4×1 Array{Float64,2}:\n",
       " -0.34433059844453556\n",
       " -2.2502454378627363 \n",
       "  2.6404066702272697 \n",
       "  1.8076062582653212 "
      ]
     },
     "execution_count": 32,
     "metadata": {},
     "output_type": "execute_result"
    }
   ],
   "source": [
    "A = rand(3,4)\n",
    "b = rand(3,1)\n",
    "A\\b"
   ]
  },
  {
   "cell_type": "code",
   "execution_count": 33,
   "metadata": {},
   "outputs": [
    {
     "data": {
      "text/plain": [
       "3×4 Array{Float64,2}:\n",
       " -1.23302  -0.960355  -1.03638     -0.52832  \n",
       "  0.0       0.650728   5.30181e-5   0.210882 \n",
       "  0.0       0.0        0.195068     0.0996671"
      ]
     },
     "metadata": {},
     "output_type": "display_data"
    },
    {
     "data": {
      "text/plain": [
       "3×3 LinearAlgebra.QRPackedQ{Float64,Array{Float64,2}}:\n",
       " -0.568796   0.650828  -0.502886\n",
       " -0.589175  -0.749041  -0.303004\n",
       " -0.573886   0.12394    0.809502"
      ]
     },
     "metadata": {},
     "output_type": "display_data"
    },
    {
     "ename": "BoundsError",
     "evalue": "BoundsError: attempt to access 3×1 Array{Float64,2} at index [4]",
     "output_type": "error",
     "traceback": [
      "BoundsError: attempt to access 3×1 Array{Float64,2} at index [4]",
      "",
      "Stacktrace:",
      " [1] getindex at .\\array.jl:731 [inlined]",
      " [2] backsub(::Array{Float64,2}, ::Array{Float64,2}) at .\\In[16]:10",
      " [3] top-level scope at In[33]:4"
     ]
    }
   ],
   "source": [
    "F = qr(A,Val(true))\n",
    "display(F.R)\n",
    "display(F.Q)\n",
    "backsub(F.R, F.Q'*b)"
   ]
  },
  {
   "cell_type": "code",
   "execution_count": 42,
   "metadata": {},
   "outputs": [
    {
     "data": {
      "text/plain": [
       "3×4 Adjoint{Float64,Array{Float64,2}}:\n",
       " -0.568796  -0.589175  -0.573886  0.0\n",
       "  0.650828  -0.749041   0.12394   0.0\n",
       " -0.502886  -0.303004   0.809502  0.0"
      ]
     },
     "execution_count": 42,
     "metadata": {},
     "output_type": "execute_result"
    }
   ],
   "source": [
    "Q = [F.Q; 0 0 0]'"
   ]
  },
  {
   "cell_type": "code",
   "execution_count": 43,
   "metadata": {},
   "outputs": [
    {
     "ename": "BoundsError",
     "evalue": "BoundsError: attempt to access 3×4 Array{Float64,2} at index [4, 4]",
     "output_type": "error",
     "traceback": [
      "BoundsError: attempt to access 3×4 Array{Float64,2} at index [4, 4]",
      "",
      "Stacktrace:",
      " [1] getindex at .\\array.jl:732 [inlined]",
      " [2] backsub(::Array{Float64,2}, ::Array{Float64,2}) at .\\In[16]:10",
      " [3] top-level scope at In[43]:1"
     ]
    }
   ],
   "source": [
    "backsub(F.R, Q'*b)"
   ]
  },
  {
   "cell_type": "code",
   "execution_count": null,
   "metadata": {},
   "outputs": [],
   "source": []
  }
 ],
 "metadata": {
  "kernelspec": {
   "display_name": "Julia 1.0.0",
   "language": "julia",
   "name": "julia-1.0"
  },
  "language_info": {
   "file_extension": ".jl",
   "mimetype": "application/julia",
   "name": "julia",
   "version": "1.0.0"
  }
 },
 "nbformat": 4,
 "nbformat_minor": 2
}
