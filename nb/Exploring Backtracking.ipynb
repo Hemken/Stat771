{
 "cells": [
  {
   "cell_type": "markdown",
   "metadata": {},
   "source": [
    "## Exploring Backtracking"
   ]
  },
  {
   "cell_type": "code",
   "execution_count": 62,
   "metadata": {},
   "outputs": [
    {
     "data": {
      "text/plain": [
       "Main.systemSolver"
      ]
     },
     "execution_count": 62,
     "metadata": {},
     "output_type": "execute_result"
    }
   ],
   "source": [
    "# include(\"systemSolver.jl\")"
   ]
  },
  {
   "cell_type": "code",
   "execution_count": 20,
   "metadata": {},
   "outputs": [
    {
     "data": {
      "text/plain": [
       "newtonMethod"
      ]
     },
     "execution_count": 20,
     "metadata": {},
     "output_type": "execute_result"
    }
   ],
   "source": [
    "\"\"\"\n",
    "Name: newtonMethod \\n\n",
    "Description: implements newton's method for solving a system of equations with a line search (backtracking) \\n\n",
    "INPUTS: \\n\n",
    "1. S :: Function, evaluates the system\n",
    "2. ∇S :: Function, evaluates the Jacobian of the system\n",
    "3. X :: Array{Float64,1}, starting point\n",
    "4. ϵ :: Float64, tolerance. Defaults to 10e-8 \\n\n",
    "\n",
    "KEYWORD INPUTS: \\n\n",
    "1. maxIter :: Int64, maximum number of iterations. Defaults to 25\\n\n",
    "\n",
    "OUTPUTS: \\n\n",
    "1. X :: Array{Float}, solution to the system of equations within tolerance\n",
    "2. funcEvals :: Int64, number of function evaluations\n",
    "3. jacobEvals :: Int64, number of jacobian evaluations\n",
    "\"\"\"\n",
    "function newtonMethod(S,∇S, X, ϵ=10e-8; maxIter = 25)\n",
    "  funcEvals = 0\n",
    "  jacobEvals = 0\n",
    "\n",
    "  S₀ = S(X)\n",
    "  funcEvals += 1\n",
    "println(\"S₀ = $S₀\")\n",
    "  while dot(S₀,S₀) > ϵ && jacobEvals <= maxIter\n",
    "    #Search Direction\n",
    "    ∇S₀ = ∇S(X)\n",
    "    jacobEvals += 1\n",
    "println(\"∇S₀ = $∇S₀\")\n",
    "      p = -(∇S₀\\S₀)\n",
    "println(\"p=$p\")\n",
    "\n",
    "    #Step Length\n",
    "    α, evals = backtrack(S,∇S₀,p,X)\n",
    "    funcEvals += evals\n",
    "\n",
    "    #Update Parameter\n",
    "    X += α*p\n",
    "    S₀ = S(X)\n",
    "    funcEvals += 1\n",
    "  end\n",
    "\n",
    "  return X, funcEvals, jacobEvals\n",
    "end"
   ]
  },
  {
   "cell_type": "code",
   "execution_count": 58,
   "metadata": {},
   "outputs": [
    {
     "data": {
      "text/plain": [
       "backtrack"
      ]
     },
     "execution_count": 58,
     "metadata": {},
     "output_type": "execute_result"
    }
   ],
   "source": [
    "\"\"\"\n",
    "Name: backtrack \\n\n",
    "Description: implements backtracking line search on 0.5‖S‖² \\n\n",
    "INPUTS: \\n\n",
    "1. S (Function), evaluates the system\n",
    "2. ∇S₀ (Function), Jacobian evaluated at a point X₀\n",
    "3. p (Array{Float64,1}), search direction\n",
    "4. X₀ (Array{Float64,1}), starting point\n",
    "5. α₀ (Float64), starting search length defaults to 1\n",
    "6. ρ (Float64), decay of search length, defaults to 0.5\n",
    "7. c (Float64), slope relaxation value, defaults to 0.2 \\n\n",
    "\n",
    "OUTPUTS: \\n\n",
    "1. α (Float64), step length\n",
    "2. funcEvals (Int64), number of function evaluations\n",
    "\"\"\"\n",
    "function backtrack(S,∇S₀,p,X₀,α₀ = 5.0, ρ = 0.5, c = 0.2)\n",
    "  S₀ = S(X₀)\n",
    "  relaxSlope = c*p'*(∇S₀'*S₀)\n",
    "println(\"relaxSlope = $relaxSlope\")\n",
    "  condition(step) = 0.5*dot(S₀,S₀) + step*relaxSlope[1]\n",
    "\n",
    "  α = deepcopy(α₀)\n",
    "println(\"α = $α\")\n",
    "  Sₐ = S₀ #Ensures appropriate scope of Sₐ\n",
    "  try\n",
    "    Sₐ = S(X₀ + α*p)\n",
    "    catch\n",
    "  end\n",
    "  funcEvals = 2\n",
    "  while 0.5*dot(Sₐ,Sₐ) > condition(α)\n",
    "    α = ρ*α\n",
    "println(\"α = $α\")\n",
    "    try\n",
    "      Sₐ = S(X₀ + α*p)\n",
    "    catch\n",
    "      continue\n",
    "    end\n",
    "    funcEvals += 1\n",
    "  end\n",
    "\n",
    "  return α, funcEvals\n",
    "end"
   ]
  },
  {
   "cell_type": "code",
   "execution_count": 59,
   "metadata": {},
   "outputs": [
    {
     "data": {
      "text/plain": [
       "f (generic function with 1 method)"
      ]
     },
     "execution_count": 59,
     "metadata": {},
     "output_type": "execute_result"
    }
   ],
   "source": [
    "function Fx(x)\n",
    "    3 - 2*x^2\n",
    "end\n",
    "\n",
    "function f(x)\n",
    "    -4*x\n",
    "end"
   ]
  },
  {
   "cell_type": "code",
   "execution_count": 60,
   "metadata": {},
   "outputs": [
    {
     "name": "stdout",
     "output_type": "stream",
     "text": [
      "S₀ = 2.98\n",
      "∇S₀ = -0.4\n",
      "p=7.449999999999999\n",
      "relaxSlope = -1.7760799999999999\n",
      "α = 5.0\n",
      "α = 2.5\n",
      "α = 1.25\n",
      "α = 0.625\n",
      "α = 0.3125\n",
      "α = 0.15625\n",
      "∇S₀ = -5.05625\n",
      "p=-0.03870615729295439\n",
      "relaxSlope = -0.007660324864387563\n",
      "α = 5.0\n",
      "α = 2.5\n",
      "α = 1.25\n",
      "∇S₀ = -4.862719213535229\n",
      "p=0.009098866158313332\n",
      "relaxSlope = -0.00039152809837077825\n",
      "α = 5.0\n",
      "α = 2.5\n",
      "α = 1.25\n",
      "∇S₀ = -4.908213544326795\n",
      "p=-0.0023063431301210014\n",
      "relaxSlope = -2.562859133967872e-5\n",
      "α = 5.0\n",
      "α = 2.5\n",
      "α = 1.25\n",
      "∇S₀ = -4.89668182867619\n",
      "p=0.0005745489879645848\n",
      "relaxSlope = -1.5830254438277094e-6\n",
      "α = 5.0\n",
      "α = 2.5\n",
      "α = 1.25\n",
      "∇S₀ = -4.899554573616013\n",
      "p=-0.00014376357475259622\n",
      "relaxSlope = -9.922952692214931e-8\n",
      "α = 5.0\n",
      "α = 2.5\n",
      "α = 1.25\n"
     ]
    },
    {
     "data": {
      "text/plain": [
       "(1.2247089389355623, 34, 6)"
      ]
     },
     "execution_count": 60,
     "metadata": {},
     "output_type": "execute_result"
    }
   ],
   "source": [
    "using LinearAlgebra\n",
    "x = 0.1\n",
    "newtonMethod(Fx, f, x)"
   ]
  },
  {
   "cell_type": "code",
   "execution_count": null,
   "metadata": {},
   "outputs": [],
   "source": []
  },
  {
   "cell_type": "code",
   "execution_count": null,
   "metadata": {},
   "outputs": [],
   "source": []
  }
 ],
 "metadata": {
  "kernelspec": {
   "display_name": "Julia 1.0.0",
   "language": "julia",
   "name": "julia-1.0"
  },
  "language_info": {
   "file_extension": ".jl",
   "mimetype": "application/julia",
   "name": "julia",
   "version": "1.0.0"
  }
 },
 "nbformat": 4,
 "nbformat_minor": 2
}
