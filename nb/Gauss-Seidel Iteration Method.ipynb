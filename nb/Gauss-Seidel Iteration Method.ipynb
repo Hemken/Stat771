{
 "cells": [
  {
   "cell_type": "markdown",
   "metadata": {},
   "source": [
    "# Gauss-Seidel Iteration Method"
   ]
  },
  {
   "cell_type": "code",
   "execution_count": 1,
   "metadata": {},
   "outputs": [
    {
     "data": {
      "text/plain": [
       "gsIteration (generic function with 1 method)"
      ]
     },
     "execution_count": 1,
     "metadata": {},
     "output_type": "execute_result"
    }
   ],
   "source": [
    "function gsIteration(A, b, x; iterMax = 100)\n",
    "    \"\"\"Implements the GS iteration.\n",
    "    A is the coefficient matrix.\n",
    "    b is the constant matrix.\n",
    "    x is an initial guess.\"\"\"\n",
    "    DE = tril(A)\n",
    "    F = -triu(A,1)\n",
    "    G = DE\\F\n",
    "    f = DE\\b\n",
    "    for j=1:iterMax\n",
    "        x = G*x + f\n",
    "    end\n",
    "    return x, maximum(abs.(eigvals(G)))\n",
    "end"
   ]
  },
  {
   "cell_type": "code",
   "execution_count": 3,
   "metadata": {},
   "outputs": [
    {
     "data": {
      "text/plain": [
       "generateProblem (generic function with 2 methods)"
      ]
     },
     "execution_count": 3,
     "metadata": {},
     "output_type": "execute_result"
    }
   ],
   "source": [
    "using LinearAlgebra\n",
    "function generateProblem(n, cons=sqrt(n))\n",
    "    A = randn(n,n)  + cons*I\n",
    "    x = randn(n)\n",
    "    b = A*x\n",
    "    return A, b, x\n",
    "end"
   ]
  },
  {
   "cell_type": "code",
   "execution_count": 4,
   "metadata": {},
   "outputs": [
    {
     "data": {
      "text/plain": [
       "([3.06963 -0.543104 1.21863; 0.730734 0.841171 2.28345; 0.129645 0.57719 3.34262], [0.406393, 2.5942, 3.62968], [-0.176254, 0.509848, 1.00468])"
      ]
     },
     "execution_count": 4,
     "metadata": {},
     "output_type": "execute_result"
    }
   ],
   "source": [
    "A,b,x = generateProblem(3)"
   ]
  },
  {
   "cell_type": "code",
   "execution_count": 5,
   "metadata": {},
   "outputs": [
    {
     "data": {
      "text/plain": [
       "gsm (generic function with 1 method)"
      ]
     },
     "execution_count": 5,
     "metadata": {},
     "output_type": "execute_result"
    }
   ],
   "source": [
    "function gsm(A, b, x; iterMax = 100)\n",
    "    \"\"\"Implements the GS iteration.\"\"\"\n",
    "    DE = tril(A)\n",
    "    F = -triu(A,1)\n",
    "    G = DE\\F\n",
    "    f = DE\\b\n",
    "    display(f)\n",
    "    for j=1:iterMax\n",
    "        x = G*x + f\n",
    "    end\n",
    "    return x, maximum(abs.(eigvals(G)))\n",
    "end"
   ]
  },
  {
   "cell_type": "code",
   "execution_count": 6,
   "metadata": {},
   "outputs": [
    {
     "data": {
      "text/plain": [
       "3-element Array{Float64,1}:\n",
       " 0.13239126976692173\n",
       " 2.9690281979569404 \n",
       " 0.5680641743672566 "
      ]
     },
     "metadata": {},
     "output_type": "display_data"
    },
    {
     "data": {
      "text/plain": [
       "([-0.176254, 0.509848, 1.00468], 0.32773404054477445)"
      ]
     },
     "execution_count": 6,
     "metadata": {},
     "output_type": "execute_result"
    }
   ],
   "source": [
    "gsm(A,b,zeros(length(b)))"
   ]
  },
  {
   "cell_type": "code",
   "execution_count": null,
   "metadata": {},
   "outputs": [],
   "source": []
  }
 ],
 "metadata": {
  "kernelspec": {
   "display_name": "Julia 1.0.0",
   "language": "julia",
   "name": "julia-1.0"
  },
  "language_info": {
   "file_extension": ".jl",
   "mimetype": "application/julia",
   "name": "julia",
   "version": "1.0.0"
  }
 },
 "nbformat": 4,
 "nbformat_minor": 2
}
