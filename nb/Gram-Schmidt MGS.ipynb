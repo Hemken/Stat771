{
 "cells": [
  {
   "cell_type": "markdown",
   "metadata": {},
   "source": [
    "# Gram-Schmidt\n",
    "\n",
    "The Gram-Schmidt procedure constructs an orthogonal basis for an arbitrary basis.  In the context of the QR decomposition, the result is an orthonormal basis - the orthogonal basis is normalized."
   ]
  },
  {
   "cell_type": "code",
   "execution_count": 1,
   "metadata": {},
   "outputs": [
    {
     "data": {
      "text/plain": [
       "4×4 Array{Float64,2}:\n",
       " 0.633741  0.324408  0.00401967  0.148788\n",
       " 0.572262  0.130239  0.014494    0.197192\n",
       " 0.491111  0.892663  0.890411    0.334833\n",
       " 0.76267   0.309708  0.345518    0.949567"
      ]
     },
     "execution_count": 1,
     "metadata": {},
     "output_type": "execute_result"
    }
   ],
   "source": [
    "A = rand(4,4)"
   ]
  },
  {
   "cell_type": "code",
   "execution_count": 2,
   "metadata": {},
   "outputs": [
    {
     "data": {
      "text/plain": [
       "4-element Array{Float64,1}:\n",
       " 0.5087106606683517\n",
       " 0.4593604143077865\n",
       " 0.3942198189591957\n",
       " 0.6122027505893181"
      ]
     },
     "execution_count": 2,
     "metadata": {},
     "output_type": "execute_result"
    }
   ],
   "source": [
    "using LinearAlgebra\n",
    "q1 = A[:,1]/norm(A[:,1]) # first vector of Q, normalized"
   ]
  },
  {
   "cell_type": "code",
   "execution_count": 3,
   "metadata": {},
   "outputs": [
    {
     "data": {
      "text/plain": [
       "4-element Array{Float64,1}:\n",
       " -0.10008403441089209\n",
       " -0.3391678377594752 \n",
       "  0.9030433315930022 \n",
       " -0.2438464786520667 "
      ]
     },
     "execution_count": 3,
     "metadata": {},
     "output_type": "execute_result"
    }
   ],
   "source": [
    "q2 = A[:,2] - (A[:,2]'*q1)*q1 # second orthogonal vector\n",
    "q2 = q2/norm(q2)  # normalized"
   ]
  },
  {
   "cell_type": "code",
   "execution_count": 4,
   "metadata": {},
   "outputs": [
    {
     "data": {
      "text/plain": [
       "gs (generic function with 1 method)"
      ]
     },
     "execution_count": 4,
     "metadata": {},
     "output_type": "execute_result"
    }
   ],
   "source": [
    "using LinearAlgebra\n",
    "function gs(X)\n",
    "    n = size(X,1)\n",
    "    p = size(X,2)\n",
    "    Q = zeros(size(X))\n",
    "    R = zeros(p,p)\n",
    "    for i = 1:p\n",
    "        Q[:,i] = X[:,i] # copy next vector\n",
    "        if i>1\n",
    "            R[1:(i-1),i] = (Q[:,1:(i-1)])'*Q[:,i] # coefficients to remove prev vecs\n",
    "            Q[:,i] = Q[:,i] - Q[:,1:(i-1)]*R[1:(i-1),i] # new vec\n",
    "        end\n",
    "        R[i,i] = norm(Q[:,i])   # normalizing constant for this vector\n",
    "        Q[:,i] = Q[:,i]./R[i,i] # normalize this vector\n",
    "    end\n",
    "    return Q, R\n",
    "end"
   ]
  },
  {
   "cell_type": "code",
   "execution_count": 5,
   "metadata": {},
   "outputs": [
    {
     "data": {
      "text/plain": [
       "4×4 Array{Float64,2}:\n",
       " 0.508711  -0.100084  -0.782225    0.345428\n",
       " 0.45936   -0.339168  -0.0202816  -0.820696\n",
       " 0.39422    0.903043   0.0726765  -0.154343\n",
       " 0.612203  -0.243846   0.61841     0.428154"
      ]
     },
     "metadata": {},
     "output_type": "display_data"
    },
    {
     "data": {
      "text/plain": [
       "4×4 Array{Float64,2}:\n",
       " 1.24578  0.766366  0.571248   0.879598 \n",
       " 0.0      0.653951  0.714508  -0.0109523\n",
       " 0.0      0.0       0.274945   0.491171 \n",
       " 0.0      0.0       0.0        0.244443 "
      ]
     },
     "metadata": {},
     "output_type": "display_data"
    }
   ],
   "source": [
    "X, Y = gs(A)\n",
    "display(X)  # first two vectors the same as above\n",
    "display(Y)"
   ]
  },
  {
   "cell_type": "code",
   "execution_count": 6,
   "metadata": {},
   "outputs": [
    {
     "data": {
      "text/plain": [
       "4×4 Array{Float64,2}:\n",
       "  1.0           1.94711e-16  -2.56463e-16   3.99213e-16\n",
       "  1.94711e-16   1.0          -2.55028e-16  -1.77641e-16\n",
       " -2.56463e-16  -2.55028e-16   1.0           1.08061e-15\n",
       "  3.99213e-16  -1.77641e-16   1.08061e-15   1.0        "
      ]
     },
     "metadata": {},
     "output_type": "display_data"
    },
    {
     "data": {
      "text/plain": [
       "1.7792299781408315e-15"
      ]
     },
     "execution_count": 6,
     "metadata": {},
     "output_type": "execute_result"
    }
   ],
   "source": [
    "display(X'*X) # check, orthogonality, should be I\n",
    "norm(X'*X-I) # Frobenius/Euclidean norm, should be 0"
   ]
  },
  {
   "cell_type": "code",
   "execution_count": 7,
   "metadata": {},
   "outputs": [
    {
     "data": {
      "text/plain": [
       "4×4 Array{Float64,2}:\n",
       " 0.0  0.0   1.38778e-17  2.77556e-17\n",
       " 0.0  0.0  -6.93889e-18  0.0        \n",
       " 0.0  0.0   0.0          0.0        \n",
       " 0.0  0.0   0.0          0.0        "
      ]
     },
     "metadata": {},
     "output_type": "display_data"
    },
    {
     "data": {
      "text/plain": [
       "3.179800655392251e-17"
      ]
     },
     "execution_count": 7,
     "metadata": {},
     "output_type": "execute_result"
    }
   ],
   "source": [
    "display(X*Y - A) # check reproducing A, should be zeros\n",
    "norm(X*Y - A)"
   ]
  },
  {
   "cell_type": "code",
   "execution_count": 8,
   "metadata": {},
   "outputs": [
    {
     "data": {
      "text/plain": [
       "2.8906658809266317e-25"
      ]
     },
     "metadata": {},
     "output_type": "display_data"
    },
    {
     "data": {
      "text/plain": [
       "4.690415759823429"
      ]
     },
     "metadata": {},
     "output_type": "display_data"
    }
   ],
   "source": [
    "function pertmat(n,m, delta)\n",
    "    P = zeros(n,m)\n",
    "    P[1,:] = repeat(1:1, inner=m)\n",
    "    for i = 1:(min(n,m)-1)\n",
    "        P[i+1,i] = delta\n",
    "    end\n",
    "    return P\n",
    "end\n",
    "V=pertmat(10,10, 1e-8)\n",
    "Q, R = gs(V)\n",
    "display(norm(Q*R-V))\n",
    "display(norm(Q'*Q-I))"
   ]
  },
  {
   "cell_type": "code",
   "execution_count": 9,
   "metadata": {},
   "outputs": [
    {
     "data": {
      "text/plain": [
       "3×3 Array{Float64,2}:\n",
       " 1.0     1.0     1.0\n",
       " 1.0e-8  0.0     0.0\n",
       " 0.0     1.0e-8  0.0"
      ]
     },
     "metadata": {},
     "output_type": "display_data"
    },
    {
     "data": {
      "text/plain": [
       "0.0"
      ]
     },
     "metadata": {},
     "output_type": "display_data"
    },
    {
     "data": {
      "text/plain": [
       "1.0"
      ]
     },
     "metadata": {},
     "output_type": "display_data"
    }
   ],
   "source": [
    "# Failing Gram-Schmidt\n",
    "δ = 1e-8\n",
    "V = [1 1 1; δ 0 0; 0 δ 0]\n",
    "display(V)\n",
    "Q, R = gs(V)\n",
    "display(norm(Q*R-V))\n",
    "display(norm(Q'*Q-I))"
   ]
  },
  {
   "cell_type": "code",
   "execution_count": 10,
   "metadata": {},
   "outputs": [
    {
     "data": {
      "text/plain": [
       "([0.838116 -0.522648 0.153973 -0.0263067; 0.419058 0.441713 -0.727754 0.31568; 0.279372 0.528821 0.139506 -0.7892; 0.209529 0.502072 0.653609 0.526134], [1.19315 0.670493 0.474933 0.369835; 0.0 0.118533 0.125655 0.117542; 0.0 0.0 0.00622177 0.00956609; 0.0 0.0 0.0 0.000187905])"
      ]
     },
     "execution_count": 10,
     "metadata": {},
     "output_type": "execute_result"
    }
   ],
   "source": [
    "function hilbert(n)\n",
    "    H = Matrix{Float64}(undef, n, n)\n",
    "    for i = 1:n\n",
    "        for j=1:n\n",
    "            H[i,j] = 1/(i+j-1)\n",
    "        end\n",
    "    end\n",
    "    return H\n",
    "end\n",
    "\n",
    "A = hilbert(4)\n",
    "Q, R = gs(A)"
   ]
  },
  {
   "cell_type": "code",
   "execution_count": 11,
   "metadata": {},
   "outputs": [
    {
     "data": {
      "text/plain": [
       "6.236040661077094e-11"
      ]
     },
     "execution_count": 11,
     "metadata": {},
     "output_type": "execute_result"
    }
   ],
   "source": [
    "norm(Q'*Q-I) # Identity matrix?"
   ]
  },
  {
   "cell_type": "code",
   "execution_count": 12,
   "metadata": {},
   "outputs": [
    {
     "data": {
      "text/plain": [
       "6.798699777552591e-17"
      ]
     },
     "execution_count": 12,
     "metadata": {},
     "output_type": "execute_result"
    }
   ],
   "source": [
    "norm(Q*R-A) # Original matrix?"
   ]
  },
  {
   "cell_type": "markdown",
   "metadata": {},
   "source": [
    "# Modified Gram-Schmidt\n",
    "\n",
    "The key distinction between Gram-Schmidt and modified Gram-Schmidt is how we step through the orthogonalization step for each new vector.  In Gram-Schmidt, we take a vector, $v$, and construct it's projection onto our already-determined orthogonal basis vectors.  Vector $v$ is projected onto each of these, and all of these projections are subtracted from $v$, so that what is left is orthogonal to that preceded it.\n",
    "\n",
    "In modified Gram-Schmidt, $v_{i}$ is projected onto the first vector, and the projection is substracted immediately to produce an intermediate vector, $u_{i,1}$.  As we accumlate orthogonal basis vectors, the $u_{i,j}$ are updated by projecting them on the remaining basis vectors and subtracting.\n",
    "\n",
    "So where in Gram-Schmidt we make repeated use of the original vector we are currently working on, in modified Gram-Schmidt we make use of a repeatedly updated vector.\n",
    "\n",
    "While the two procedures yield mathematically identical results, in a finite precision world, the modified procedure produces smaller deviations in the orthogonality of Q and in the ability of $QR$ to reproduce the original matrix."
   ]
  },
  {
   "cell_type": "code",
   "execution_count": 13,
   "metadata": {},
   "outputs": [
    {
     "data": {
      "text/plain": [
       "mgs (generic function with 1 method)"
      ]
     },
     "execution_count": 13,
     "metadata": {},
     "output_type": "execute_result"
    }
   ],
   "source": [
    "function mgs(X)\n",
    "    n = size(X,1)\n",
    "    p = size(X,2)\n",
    "    Q = zeros(n, p)\n",
    "    R = zeros(p,p)\n",
    "    for i = 1:p # columns\n",
    "        Q[:,i] = X[:,i] # copy next vector\n",
    "        for j = 1:(i-1) # rows, use previous vectors one at a time\n",
    "            R[j,i] = (Q[:,j])'*Q[:,i] # build next R value\n",
    "            Q[:,i] = Q[:,i] - R[j,i]*Q[:,j]\n",
    "#            display(Q)\n",
    "        end\n",
    "        R[i,i] = norm(Q[:,i]) # normalizing constant\n",
    "        Q[:,i] = Q[:,i]./R[i,i] # normalize this vector\n",
    "    end\n",
    "    return Q, R\n",
    "end"
   ]
  },
  {
   "cell_type": "code",
   "execution_count": 14,
   "metadata": {},
   "outputs": [
    {
     "data": {
      "text/plain": [
       "([0.838116 -0.522648 0.153973 -0.0263067; 0.419058 0.441713 -0.727754 0.31568; 0.279372 0.528821 0.139506 -0.7892; 0.209529 0.502072 0.653609 0.526134], [1.19315 0.670493 0.474933 0.369835; 0.0 0.118533 0.125655 0.117542; 0.0 0.0 0.00622177 0.00956609; 0.0 0.0 0.0 0.000187905])"
      ]
     },
     "execution_count": 14,
     "metadata": {},
     "output_type": "execute_result"
    }
   ],
   "source": [
    "XM, YM = mgs(A)"
   ]
  },
  {
   "cell_type": "code",
   "execution_count": 15,
   "metadata": {},
   "outputs": [
    {
     "data": {
      "text/plain": [
       "3.925231146709438e-17"
      ]
     },
     "execution_count": 15,
     "metadata": {},
     "output_type": "execute_result"
    }
   ],
   "source": [
    "norm(XM*YM - A)"
   ]
  },
  {
   "cell_type": "code",
   "execution_count": 16,
   "metadata": {},
   "outputs": [
    {
     "data": {
      "text/plain": [
       "4.0501609238466034e-13"
      ]
     },
     "execution_count": 16,
     "metadata": {},
     "output_type": "execute_result"
    }
   ],
   "source": [
    "norm(XM'*XM-I)"
   ]
  },
  {
   "cell_type": "code",
   "execution_count": 17,
   "metadata": {},
   "outputs": [
    {
     "data": {
      "text/plain": [
       "3.4313291893377946"
      ]
     },
     "metadata": {},
     "output_type": "display_data"
    },
    {
     "data": {
      "text/plain": [
       "0.0002550167142523661"
      ]
     },
     "metadata": {},
     "output_type": "display_data"
    },
    {
     "data": {
      "text/plain": [
       "1.088322983216908e-16"
      ]
     },
     "metadata": {},
     "output_type": "display_data"
    },
    {
     "data": {
      "text/plain": [
       "1.1978388074229732e-16"
      ]
     },
     "metadata": {},
     "output_type": "display_data"
    }
   ],
   "source": [
    "H = hilbert(10)\n",
    "Q, R = gs(H)\n",
    "Qm, Rm = mgs(H)\n",
    "display(norm(Q'*Q-I))\n",
    "display(norm(Qm'*Qm-I))\n",
    "display(norm(Q*R-H))\n",
    "display(norm(Qm*Rm-H))"
   ]
  },
  {
   "cell_type": "code",
   "execution_count": null,
   "metadata": {},
   "outputs": [],
   "source": []
  }
 ],
 "metadata": {
  "kernelspec": {
   "display_name": "Julia 1.0.0",
   "language": "julia",
   "name": "julia-1.0"
  },
  "language_info": {
   "file_extension": ".jl",
   "mimetype": "application/julia",
   "name": "julia",
   "version": "1.0.0"
  }
 },
 "nbformat": 4,
 "nbformat_minor": 2
}
