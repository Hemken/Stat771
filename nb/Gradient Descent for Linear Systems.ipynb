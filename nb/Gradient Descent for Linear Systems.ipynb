{
 "cells": [
  {
   "cell_type": "markdown",
   "metadata": {},
   "source": [
    "# Gradient Descent for Linear Systems"
   ]
  },
  {
   "cell_type": "markdown",
   "metadata": {},
   "source": [
    "## Gradient Descent for a Linear System\n",
    "\n",
    "Here we will be minimizing the mean square error of $Ax=b$.  That is, we seek to minimize\n",
    "$$ MSE = \\frac{1}{n} \\sum_{i=1}^n \\left ( b_i - A_i x \\right )^2 $$\n",
    "It turns out the gradient of $MSE$ can be written\n",
    "$$ \\nabla MSE = A'(b-Ax)$$\n",
    "This means that each iteration of our gradient descent can be written as\n",
    "$$x^+ = x^c + \\alpha A'(b-Ax^c)$$"
   ]
  },
  {
   "cell_type": "code",
   "execution_count": 1,
   "metadata": {},
   "outputs": [
    {
     "data": {
      "text/plain": [
       "grlinearupdate (generic function with 1 method)"
      ]
     },
     "execution_count": 1,
     "metadata": {},
     "output_type": "execute_result"
    }
   ],
   "source": [
    "function grlinearupdate(A, b, xc, alpha)\n",
    "    x = xc + alpha*A'*(b-A*xc)\n",
    "    return(x)\n",
    "end"
   ]
  },
  {
   "cell_type": "code",
   "execution_count": 41,
   "metadata": {},
   "outputs": [
    {
     "data": {
      "text/plain": [
       "grl_fixed (generic function with 1 method)"
      ]
     },
     "execution_count": 41,
     "metadata": {},
     "output_type": "execute_result"
    }
   ],
   "source": [
    "function grl_fixed(A, b, x0; alpha=0.01, eps=10e-8, maxiter=25)\n",
    "    delta = 1\n",
    "    xc = copy(x0)\n",
    "    check = norm(A*xc-b)^2\n",
    "    iter = 1\n",
    "    xlog = Matrix{Float64}(undef, maxiter, 2)\n",
    "    xlog[iter,1] = xc[1]\n",
    "    xlog[iter,2] = xc[2]\n",
    "    while delta>eps && iter<maxiter\n",
    "        iter += 1\n",
    "        xp = grlinearupdate(A, b,xc, alpha)\n",
    "#println(xp)\n",
    "        xlog[iter,1] = xp[1]\n",
    "        xlog[iter,2] = xp[2]\n",
    "        xc = copy(xp)\n",
    "        checkp = norm(A*xp-b)^2\n",
    "        delta = abs(check - checkp)\n",
    "        check = copy(checkp)\n",
    "    end\n",
    "    xlog = xlog[1:iter,:]\n",
    "    return xc, check, iter, xlog\n",
    "end"
   ]
  },
  {
   "cell_type": "code",
   "execution_count": 19,
   "metadata": {},
   "outputs": [],
   "source": [
    "x0 = [0,0]   # initial guess\n",
    "alpha = 0.01;    # fixed step size"
   ]
  },
  {
   "cell_type": "code",
   "execution_count": 20,
   "metadata": {},
   "outputs": [
    {
     "data": {
      "text/plain": [
       "2-element Array{Float64,1}:\n",
       " 0.9281162196210273\n",
       " 2.1056688608541716"
      ]
     },
     "execution_count": 20,
     "metadata": {},
     "output_type": "execute_result"
    }
   ],
   "source": [
    "include(\"../jl/gen_Axb.jl\")\n",
    "using LinearAlgebra\n",
    "\n",
    "A,x,b = gen_Axb(100);\n",
    "A\\b"
   ]
  },
  {
   "cell_type": "code",
   "execution_count": 21,
   "metadata": {},
   "outputs": [
    {
     "data": {
      "text/plain": [
       "88.18129059742935"
      ]
     },
     "execution_count": 21,
     "metadata": {},
     "output_type": "execute_result"
    }
   ],
   "source": [
    "norm(A*x-b)^2"
   ]
  },
  {
   "cell_type": "code",
   "execution_count": 22,
   "metadata": {},
   "outputs": [
    {
     "data": {
      "text/plain": [
       "2-element Array{Float64,1}:\n",
       " 2.0541669439436485\n",
       " 1.257774699945197 "
      ]
     },
     "execution_count": 22,
     "metadata": {},
     "output_type": "execute_result"
    }
   ],
   "source": [
    "xp = grlinearupdate(A, b, x0, alpha)"
   ]
  },
  {
   "cell_type": "code",
   "execution_count": 45,
   "metadata": {},
   "outputs": [
    {
     "name": "stdout",
     "output_type": "stream",
     "text": [
      "139\n",
      "[0.928294, 2.10536]\n"
     ]
    }
   ],
   "source": [
    "solution, sse, iters, sols = grl_fixed(A,b,x0; alpha=0.01, maxiter=200);\n",
    "println(iters)\n",
    "println(solution)"
   ]
  },
  {
   "cell_type": "code",
   "execution_count": 46,
   "metadata": {},
   "outputs": [
    {
     "data": {
      "image/png": "[encoded data removed]"
     },
     "metadata": {},
     "output_type": "display_data"
    }
   ],
   "source": [
    "using RCall\n",
    "@rput sols\n",
    "reval(\"plot(sols, type='l')\");"
   ]
  },
  {
   "cell_type": "markdown",
   "metadata": {},
   "source": [
    "## Pick a better alpha\n",
    "\n",
    "Is there a good way to pick the step size, $\\alpha$?\n",
    "\n",
    "We will consider 4 strategies:  two are based on the residuals of the next estimate, two are based on deviations from the exact solution.\n",
    "\n",
    "Let $r^+$ be the residuals from the next estimate, in other words\n",
    "$$r^+ = Ax^+-b$$"
   ]
  },
  {
   "cell_type": "markdown",
   "metadata": {},
   "source": [
    "### Strategy 1:  $\\min_{\\alpha} \\lVert r^+ \\rVert_2^2$\n",
    "\n",
    "***Lemma***: the $\\alpha$ that minimizes the next residuals in each step of our gradient update is\n",
    "$$\\alpha=\\frac{\\lVert A'r^c \\rVert_2^2}{\\lVert AA'r^c \\rVert_2^2}$$"
   ]
  },
  {
   "cell_type": "markdown",
   "metadata": {},
   "source": [
    "*Proof*:  $\\min_\\alpha \\lVert r^+ \\rVert_2^2 $\n",
    "$$=\\min_\\alpha \\lVert Ax^+ - b \\rVert_2^2$$\n",
    "$$=\\min_\\alpha \\lVert A(x^c+\\alpha A'(b-Ax^c)) - b \\rVert_2^2$$\n",
    "$$=\\min_\\alpha \\lVert Ax^c+\\alpha AA'(b-Ax^c) - b \\rVert_2^2$$\n",
    "$$=\\min_\\alpha \\lVert (Ax^c-b)+\\alpha AA'(b-Ax^c) \\rVert_2^2$$\n",
    "$$=\\min_\\alpha \\lVert r^c+\\alpha AA'(-r^c) \\rVert_2^2$$\n",
    "Somehow this ends up\n",
    "$$=\\min_\\alpha \\left (\\lVert r^c \\rVert_2^2 -2\\alpha \\lVert A'r^c \\rVert_2^2 \n",
    "+ \\alpha^2 \\lVert AA'r^c \\rVert_2^2\\right )$$\n",
    "Taking the derivative with respect to $\\alpha$ and setting it equal to 0\n",
    "$$0= -2 \\lVert A'r^c \\rVert_2^2 + 2 \\alpha \\lVert AA'r^c \\rVert_2^2$$\n",
    "$$\\alpha\\lVert A'r^c \\rVert_2^2 = \\lVert AA'r^c \\rVert_2^2$$\n",
    "$$\\alpha = \\frac{\\lVert A'r^c \\rVert_2^2}{\\lVert AA'r^c \\rVert_2^2}$$"
   ]
  },
  {
   "cell_type": "markdown",
   "metadata": {},
   "source": [
    "Alpha adapts at each step.  The initial alpha is"
   ]
  },
  {
   "cell_type": "code",
   "execution_count": 47,
   "metadata": {},
   "outputs": [
    {
     "data": {
      "text/plain": [
       "0.007679118995846132"
      ]
     },
     "execution_count": 47,
     "metadata": {},
     "output_type": "execute_result"
    }
   ],
   "source": [
    "alpha = norm(A'*(A*x0-b))^2/norm(A*A'*(A*x0-b))^2"
   ]
  },
  {
   "cell_type": "markdown",
   "metadata": {},
   "source": [
    "While alpha at the solution would be"
   ]
  },
  {
   "cell_type": "code",
   "execution_count": 48,
   "metadata": {},
   "outputs": [
    {
     "data": {
      "text/plain": [
       "0.009844115468834524"
      ]
     },
     "execution_count": 48,
     "metadata": {},
     "output_type": "execute_result"
    }
   ],
   "source": [
    "alpha = norm(A'*(A*x-b))^2/norm(A*A'*(A*x-b))^2"
   ]
  },
  {
   "cell_type": "markdown",
   "metadata": {},
   "source": [
    "Using this final calculation to set a fixed alpha somewhat reduces the number of steps we take."
   ]
  },
  {
   "cell_type": "code",
   "execution_count": 49,
   "metadata": {},
   "outputs": [
    {
     "name": "stdout",
     "output_type": "stream",
     "text": [
      "141\n",
      "[0.928296, 2.10535]\n"
     ]
    }
   ],
   "source": [
    "solution, sse, iters, sols = grl_fixed(A,b,x0; alpha=alpha, maxiter=200);\n",
    "println(iters)\n",
    "println(solution)"
   ]
  },
  {
   "cell_type": "code",
   "execution_count": 50,
   "metadata": {},
   "outputs": [
    {
     "data": {
      "image/png": "[encoded data removed]"
     },
     "metadata": {},
     "output_type": "display_data"
    }
   ],
   "source": [
    "@rput sols\n",
    "reval(\"plot(sols, type='l')\");"
   ]
  },
  {
   "cell_type": "code",
   "execution_count": 59,
   "metadata": {},
   "outputs": [
    {
     "data": {
      "text/plain": [
       "grl_1 (generic function with 1 method)"
      ]
     },
     "execution_count": 59,
     "metadata": {},
     "output_type": "execute_result"
    }
   ],
   "source": [
    "function grl_1(A, b, x0; eps=10e-8, maxiter=25)\n",
    "    delta = 1\n",
    "    xc = copy(x0)\n",
    "    check = norm(A*xc-b)^2\n",
    "    iter = 1\n",
    "    xlog = Matrix{Float64}(undef, maxiter, 2)\n",
    "    xlog[iter,1] = xc[1]\n",
    "    xlog[iter,2] = xc[2]\n",
    "    while delta>eps && iter<maxiter\n",
    "        iter += 1\n",
    "        rc = A*xc-b\n",
    "        alpha = norm(A'*rc)^2/norm(A*A'*rc)^2\n",
    "        xp = grlinearupdate(A, b, xc, alpha)\n",
    "        xlog[iter,1] = xp[1]\n",
    "        xlog[iter,2] = xp[2]\n",
    "        xc = copy(xp)\n",
    "        checkp = norm(A*xp-b)^2\n",
    "        delta = abs(check - checkp)\n",
    "        check = copy(checkp)\n",
    "    end\n",
    "    xlog = xlog[1:iter,:]\n",
    "    return xc, check, iter, xlog\n",
    "end"
   ]
  },
  {
   "cell_type": "code",
   "execution_count": 60,
   "metadata": {},
   "outputs": [
    {
     "data": {
      "image/png": "[encoded data removed]"
     },
     "metadata": {},
     "output_type": "display_data"
    },
    {
     "name": "stdout",
     "output_type": "stream",
     "text": [
      "8\n",
      "[0.928123, 2.10566]\n"
     ]
    }
   ],
   "source": [
    "x0 = [0.,0]\n",
    "solution, sse, iters, sols = grl_1(A,b,x0; maxiter=100);\n",
    "println(iters)\n",
    "println(solution)\n",
    "@rput sols\n",
    "reval(\"plot(sols, type='l')\");"
   ]
  },
  {
   "cell_type": "code",
   "execution_count": 61,
   "metadata": {},
   "outputs": [
    {
     "data": {
      "image/png": "[encoded data removed]"
     },
     "metadata": {},
     "output_type": "display_data"
    },
    {
     "name": "stdout",
     "output_type": "stream",
     "text": [
      "13\n",
      "[0.928117, 2.10566]\n"
     ]
    }
   ],
   "source": [
    "x0 = [1,1]\n",
    "solution, sse, iters, sols = grl_1(A,b,x0; maxiter=100);\n",
    "println(iters)\n",
    "println(solution)\n",
    "@rput sols\n",
    "reval(\"plot(sols, type='l')\");"
   ]
  },
  {
   "cell_type": "markdown",
   "metadata": {},
   "source": [
    "### Strategy 2: $\\min_\\alpha \\lVert x^+-x^* \\rVert_2^2$\n",
    "\n",
    "This is not of practical use, because we won't know the true solution, $x^*$.\n",
    "\n",
    "The $\\alpha$ that minimizes this is\n",
    "$$\\alpha=\\frac{\\lVert x^c-x^* \\rVert_2^2}{\\lVert A'r^c \\rVert_2^2}$$"
   ]
  },
  {
   "cell_type": "code",
   "execution_count": 64,
   "metadata": {},
   "outputs": [
    {
     "data": {
      "text/plain": [
       "grl_2 (generic function with 1 method)"
      ]
     },
     "execution_count": 64,
     "metadata": {},
     "output_type": "execute_result"
    }
   ],
   "source": [
    "function grl_2(A, b, x0, x; eps=10e-8, maxiter=25)\n",
    "    delta = 1\n",
    "    xc = copy(x0)\n",
    "    check = norm(xc-x)^2\n",
    "    iter = 1\n",
    "    xlog = Matrix{Float64}(undef, maxiter, 2)\n",
    "    xlog[iter,1] = xc[1]\n",
    "    xlog[iter,2] = xc[2]\n",
    "    while delta>eps && iter<maxiter\n",
    "        iter += 1\n",
    "        rc = A*xc-b\n",
    "        alpha = norm(xc-x)^2/norm(A'*rc)^2\n",
    "        xp = grlinearupdate(A, b, xc, alpha)\n",
    "        xlog[iter,1] = xp[1]\n",
    "        xlog[iter,2] = xp[2]\n",
    "        xc = copy(xp)\n",
    "        checkp = norm(xc-x)^2\n",
    "        delta = abs(check - checkp)\n",
    "        check = copy(checkp)      \n",
    "    end\n",
    "    xlog = xlog[1:iter,:]\n",
    "    return xc, check, iter, xlog\n",
    "end"
   ]
  },
  {
   "cell_type": "code",
   "execution_count": 66,
   "metadata": {},
   "outputs": [
    {
     "data": {
      "image/png": "[encoded data removed]"
     },
     "metadata": {},
     "output_type": "display_data"
    },
    {
     "name": "stdout",
     "output_type": "stream",
     "text": [
      "218\n",
      "[0.991102, 1.99472]\n"
     ]
    }
   ],
   "source": [
    "x0 = [0,0]\n",
    "solution, sse, iters, sols = grl_2(A,b,x0,x; maxiter=500);\n",
    "println(iters)\n",
    "println(solution)\n",
    "@rput sols\n",
    "reval(\"plot(sols, type='l')\");"
   ]
  },
  {
   "cell_type": "markdown",
   "metadata": {},
   "source": [
    "### Strategy 3:  $\\min_\\alpha (\\lVert I - \\alpha AA' \\rVert_2^2 \\lVert r^c \\rVert_2^2)$"
   ]
  },
  {
   "cell_type": "markdown",
   "metadata": {},
   "source": [
    "This is a variant of Strategy 1, by the Triangle Inequality (for norms).\n",
    "\n",
    "Here \n",
    "$$\\alpha = \\frac{\\lVert A' \\rVert^2_2}{\\lVert AA' \\rVert^2_2}$$\n",
    "This $\\alpha$ does not update, so we can supply it to our fixed-step algorithm."
   ]
  },
  {
   "cell_type": "code",
   "execution_count": 68,
   "metadata": {},
   "outputs": [
    {
     "data": {
      "text/plain": [
       "0.007996683480629966"
      ]
     },
     "execution_count": 68,
     "metadata": {},
     "output_type": "execute_result"
    }
   ],
   "source": [
    "alpha = norm(A)^2/norm(A*A')^2"
   ]
  },
  {
   "cell_type": "code",
   "execution_count": 69,
   "metadata": {},
   "outputs": [
    {
     "data": {
      "image/png": "[encoded data removed]"
     },
     "metadata": {},
     "output_type": "display_data"
    },
    {
     "name": "stdout",
     "output_type": "stream",
     "text": [
      "172\n",
      "[0.928317, 2.10532]\n"
     ]
    }
   ],
   "source": [
    "solution, sse, iters, sols = grl_fixed(A,b,x0; alpha=alpha, maxiter=200);\n",
    "println(iters)\n",
    "println(solution)\n",
    "@rput sols\n",
    "reval(\"plot(sols, type='l')\");"
   ]
  },
  {
   "cell_type": "markdown",
   "metadata": {},
   "source": [
    "### Strategy 4:  $\\min_\\alpha \\lVert I - \\alpha AA'\\rVert_2^2 \\lVert x^+-x^* \\rVert^2_2$\n",
    "\n",
    "This produces the same $\\alpha$ as strategy 3."
   ]
  },
  {
   "cell_type": "code",
   "execution_count": null,
   "metadata": {},
   "outputs": [],
   "source": []
  }
 ],
 "metadata": {
  "kernelspec": {
   "display_name": "Julia 1.0.0",
   "language": "julia",
   "name": "julia-1.0"
  },
  "language_info": {
   "file_extension": ".jl",
   "mimetype": "application/julia",
   "name": "julia",
   "version": "1.0.0"
  }
 },
 "nbformat": 4,
 "nbformat_minor": 2
}
