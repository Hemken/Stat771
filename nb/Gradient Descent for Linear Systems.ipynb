{
 "cells": [
  {
   "cell_type": "markdown",
   "metadata": {},
   "source": [
    "# Gradient Descent for Linear Systems"
   ]
  },
  {
   "cell_type": "markdown",
   "metadata": {},
   "source": [
    "## Gradient Descent for a Linear System\n",
    "\n",
    "Here we will be minimizing the mean square error of $Ax=b$.  That is, we seek to minimize\n",
    "$$ MSE = \\frac{1}{n} \\sum_{i=1}^n \\left ( b_i - A_i x \\right )^2 $$\n",
    "It turns out the gradient of $MSE$ can be written\n",
    "$$ \\nabla MSE = A'(b-Ax)$$\n",
    "This means that each iteration of our gradient descent can be written as\n",
    "$$x^+ = x^c + \\alpha A'(b-Ax^c)$$"
   ]
  },
  {
   "cell_type": "code",
   "execution_count": 27,
   "metadata": {},
   "outputs": [
    {
     "data": {
      "text/plain": [
       "grlinearupdate (generic function with 4 methods)"
      ]
     },
     "execution_count": 27,
     "metadata": {},
     "output_type": "execute_result"
    }
   ],
   "source": [
    "function grlinearupdate(xc, A, b, alpha)\n",
    "    x = xc + alpha*A'*(b-A*xc)\n",
    "    return(x)\n",
    "end"
   ]
  },
  {
   "cell_type": "code",
   "execution_count": 69,
   "metadata": {},
   "outputs": [
    {
     "data": {
      "text/plain": [
       "grl_fixed (generic function with 4 methods)"
      ]
     },
     "execution_count": 69,
     "metadata": {},
     "output_type": "execute_result"
    }
   ],
   "source": [
    "function grl_fixed(A, b, x0; alpha=0.01, eps=10e-8, maxiter=25)\n",
    "    delta = 1\n",
    "    xc = copy(x0)\n",
    "    check = norm(A*x-b)\n",
    "    iter = 0\n",
    "    while delta>eps && iter<maxiter\n",
    "        xp = grlinearupdate(xc, A, b, alpha)\n",
    "#        println(xp)\n",
    "        xc = xp\n",
    "        checkp = norm(A*xp-b)\n",
    "        delta = check - checkp\n",
    "        check = checkp\n",
    "        iter += 1\n",
    "    end\n",
    "    return xp, check, iter\n",
    "end"
   ]
  },
  {
   "cell_type": "code",
   "execution_count": 61,
   "metadata": {},
   "outputs": [
    {
     "data": {
      "text/plain": [
       "0.01"
      ]
     },
     "execution_count": 61,
     "metadata": {},
     "output_type": "execute_result"
    }
   ],
   "source": [
    "x = [0,0.0]   # initial guess\n",
    "alpha = 0.01    # fixed step size"
   ]
  },
  {
   "cell_type": "code",
   "execution_count": 62,
   "metadata": {},
   "outputs": [
    {
     "data": {
      "text/plain": [
       "2×2 Array{Float64,2}:\n",
       "  1.05392   -0.225857\n",
       " -0.225857   1.94608 "
      ]
     },
     "execution_count": 62,
     "metadata": {},
     "output_type": "execute_result"
    }
   ],
   "source": [
    "include(\"../jl/gen_eigm.jl\")\n",
    "using LinearAlgebra\n",
    "\n",
    "A = gen_eigm([1,2])"
   ]
  },
  {
   "cell_type": "code",
   "execution_count": 63,
   "metadata": {},
   "outputs": [
    {
     "data": {
      "text/plain": [
       "0.5620989829778662"
      ]
     },
     "execution_count": 63,
     "metadata": {},
     "output_type": "execute_result"
    }
   ],
   "source": [
    "b = rand(2)\n",
    "norm(A*x-b)"
   ]
  },
  {
   "cell_type": "code",
   "execution_count": 64,
   "metadata": {},
   "outputs": [
    {
     "data": {
      "text/plain": [
       "2-element Array{Float64,1}:\n",
       " 0.0024929809633145745\n",
       " 0.008052144176404423 "
      ]
     },
     "execution_count": 64,
     "metadata": {},
     "output_type": "execute_result"
    }
   ],
   "source": [
    "xp = grlinearupdate(x, A, b, alpha)"
   ]
  },
  {
   "cell_type": "code",
   "execution_count": 71,
   "metadata": {},
   "outputs": [
    {
     "data": {
      "text/plain": [
       "([0.00249298, 0.00805214], 0.36265896079057564, 12)"
      ]
     },
     "execution_count": 71,
     "metadata": {},
     "output_type": "execute_result"
    }
   ],
   "source": [
    "grl_fixed(A,b,x; alpha=0.5, maxiter=100)"
   ]
  },
  {
   "cell_type": "markdown",
   "metadata": {},
   "source": [
    "## Pick a better alpha"
   ]
  },
  {
   "cell_type": "code",
   "execution_count": 72,
   "metadata": {},
   "outputs": [
    {
     "data": {
      "text/plain": [
       "0.31043632066076726"
      ]
     },
     "execution_count": 72,
     "metadata": {},
     "output_type": "execute_result"
    }
   ],
   "source": [
    "alpha = norm(A'*(A*x-b))^2/norm(A*A'*(A*x-b))^2"
   ]
  },
  {
   "cell_type": "code",
   "execution_count": 73,
   "metadata": {},
   "outputs": [
    {
     "data": {
      "text/plain": [
       "([0.00249298, 0.00805214], 2.1743074721612347e-7, 39)"
      ]
     },
     "execution_count": 73,
     "metadata": {},
     "output_type": "execute_result"
    }
   ],
   "source": [
    "grl_fixed(A,b,x; alpha=alpha, maxiter=100)"
   ]
  },
  {
   "cell_type": "code",
   "execution_count": 81,
   "metadata": {},
   "outputs": [
    {
     "data": {
      "text/plain": [
       "grl_1 (generic function with 1 method)"
      ]
     },
     "execution_count": 81,
     "metadata": {},
     "output_type": "execute_result"
    }
   ],
   "source": [
    "function grl_1(A, b, x0; eps=10e-8, maxiter=25)\n",
    "    delta = 1\n",
    "    xc = copy(x0)\n",
    "    check = norm(A*x-b)\n",
    "    iter = 0\n",
    "    while delta>eps && iter<maxiter\n",
    "        rc = A*xc-b\n",
    "        alpha = norm(A'*rc)^2/norm(A*A'*rc)^2\n",
    "        xp = grlinearupdate(xc, A, b, alpha)\n",
    "#        println(xp)\n",
    "        xc = xp\n",
    "        checkp = norm(A*xp-b)\n",
    "        delta = check - checkp\n",
    "        check = checkp\n",
    "        iter += 1\n",
    "    end\n",
    "    return xp, check, iter\n",
    "end"
   ]
  },
  {
   "cell_type": "code",
   "execution_count": 82,
   "metadata": {},
   "outputs": [
    {
     "data": {
      "text/plain": [
       "([0.00249298, 0.00805214], 9.72453152041342e-8, 26)"
      ]
     },
     "execution_count": 82,
     "metadata": {},
     "output_type": "execute_result"
    }
   ],
   "source": [
    "x = [0,0]\n",
    "grl_1(A,b,x; maxiter=100)"
   ]
  },
  {
   "cell_type": "code",
   "execution_count": 83,
   "metadata": {},
   "outputs": [
    {
     "data": {
      "text/plain": [
       "([0.00249298, 0.00805214], 4.180010425352371e-8, 20)"
      ]
     },
     "execution_count": 83,
     "metadata": {},
     "output_type": "execute_result"
    }
   ],
   "source": [
    "x = [1,1]\n",
    "grl_1(A,b,x; maxiter=100)"
   ]
  },
  {
   "cell_type": "code",
   "execution_count": null,
   "metadata": {},
   "outputs": [],
   "source": []
  }
 ],
 "metadata": {
  "kernelspec": {
   "display_name": "Julia 1.0.0",
   "language": "julia",
   "name": "julia-1.0"
  },
  "language_info": {
   "file_extension": ".jl",
   "mimetype": "application/julia",
   "name": "julia",
   "version": "1.0.0"
  }
 },
 "nbformat": 4,
 "nbformat_minor": 2
}
