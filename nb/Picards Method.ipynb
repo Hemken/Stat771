{
 "cells": [
  {
   "cell_type": "markdown",
   "metadata": {},
   "source": [
    "# Picard's Method (Fixed-point Iteration)\n",
    "\n",
    "_Picard's Method_\n",
    "\n",
    "We seek to solve $x = G(x)$.  Our iterative method is\n",
    "$$x_+=G(x_c)$$\n",
    "forming a sequence $x_0, x_1=G(x+0), x_2=G(x_1), ....\n",
    "\n",
    "(see https://en.wikipedia.org/wiki/Fixed-point_iteration )"
   ]
  },
  {
   "cell_type": "markdown",
   "metadata": {},
   "source": [
    "_Example: Babylonian Square-Root Algorithm_\n",
    "\n",
    "To find the square root of $a$, iterate $G(a)=\\frac{1}{2}(x+\\frac{a}{x})$.  Pick an arbitrary starting value, $x_0$."
   ]
  },
  {
   "cell_type": "code",
   "execution_count": 8,
   "metadata": {},
   "outputs": [
    {
     "data": {
      "text/plain": [
       "G (generic function with 2 methods)"
      ]
     },
     "execution_count": 8,
     "metadata": {},
     "output_type": "execute_result"
    }
   ],
   "source": [
    "function G(a, x, iter)\n",
    "    for i in 1:iter\n",
    "        x = 0.5*(x + a/x)\n",
    "        println(x)\n",
    "    end\n",
    "    return x\n",
    "end"
   ]
  },
  {
   "cell_type": "code",
   "execution_count": 9,
   "metadata": {},
   "outputs": [
    {
     "data": {
      "text/plain": [
       "2.00000927130158"
      ]
     },
     "execution_count": 9,
     "metadata": {},
     "output_type": "execute_result"
    },
    {
     "name": "stdout",
     "output_type": "stream",
     "text": [
      "5.2\n",
      "2.9846153846153847\n",
      "2.1624107850911973\n",
      "2.006099040777959\n",
      "2.00000927130158\n"
     ]
    }
   ],
   "source": [
    "G(4, 10,5)"
   ]
  },
  {
   "cell_type": "markdown",
   "metadata": {},
   "source": [
    "Solving by hand\n",
    "$$\n",
    "\\begin{align*}\n",
    "x &= G(x) \\\\\n",
    "x &= \\frac{1}{2}(x+\\frac{a}{x}) \\\\\n",
    "2x &= x + \\frac{a}{x} \\\\\n",
    "x &=\\frac{a}{x} \\\\\n",
    "x^2 &=a \\\\\n",
    "x &=\\sqrt{a}\n",
    "\\end{align*}\n",
    "$$\n",
    "we see that we are solving square roots."
   ]
  },
  {
   "cell_type": "markdown",
   "metadata": {},
   "source": [
    "_Example_: Golden Ratio algorithm"
   ]
  },
  {
   "cell_type": "code",
   "execution_count": 1,
   "metadata": {},
   "outputs": [
    {
     "data": {
      "text/plain": [
       "golden (generic function with 1 method)"
      ]
     },
     "execution_count": 1,
     "metadata": {},
     "output_type": "execute_result"
    }
   ],
   "source": [
    "function golden(x, iter)\n",
    "    for i in 1:iter\n",
    "        x = 1 + 1/x\n",
    "    end\n",
    "    return x\n",
    "end"
   ]
  },
  {
   "cell_type": "markdown",
   "metadata": {},
   "source": [
    "This converges to the Golden Ratio, $1+\\frac{\\sqrt{5}}{2}$."
   ]
  },
  {
   "cell_type": "code",
   "execution_count": 2,
   "metadata": {},
   "outputs": [
    {
     "data": {
      "text/plain": [
       "1.6181506849315068"
      ]
     },
     "execution_count": 2,
     "metadata": {},
     "output_type": "execute_result"
    }
   ],
   "source": [
    "x0 = 10\n",
    "golden(10, 10)"
   ]
  },
  {
   "cell_type": "markdown",
   "metadata": {},
   "source": [
    "*Definition*: a function $G: \\mathbb{R}^m \\rightarrow \\mathbb{R}^m$ is a contraction on a *closed* set $D \\subseteq \\mathbb{R}^m$ if\n",
    "\n",
    "- $x \\in D \\Rightarrow G(x) \\in \\mathbb{R}$\n",
    "- $\\exists \\alpha \\in (0,1)$ with $\\forall x,y \\in D$, $\\Rightarrow \\lVert G(x)-G(y)\\rVert \\leq \\alpha \\lVert x-y \\rVert$"
   ]
  },
  {
   "cell_type": "markdown",
   "metadata": {},
   "source": [
    "_Theorem_: Solutions on Contractions\n",
    "\n",
    "(This is why Picard's method works.)\n",
    "\n",
    "If $G(x)$ is a contraction on a closed set $D \\subseteq \\mathbb{R}^m$ then\n",
    " \n",
    " - There is a unique $x^* = G(x^*)$, with $x^* \\in D$ (the solution is unique)\n",
    " - If $x_0 \\in D$ and $x_{k+1}=G(x_k)$, then $x_k \\rightarrow x^*$ (the $x_i$ converge to $x^*$)"
   ]
  },
  {
   "cell_type": "code",
   "execution_count": null,
   "metadata": {},
   "outputs": [],
   "source": []
  }
 ],
 "metadata": {
  "kernelspec": {
   "display_name": "Julia 1.0.0",
   "language": "julia",
   "name": "julia-1.0"
  },
  "language_info": {
   "file_extension": ".jl",
   "mimetype": "application/julia",
   "name": "julia",
   "version": "1.0.0"
  }
 },
 "nbformat": 4,
 "nbformat_minor": 2
}
