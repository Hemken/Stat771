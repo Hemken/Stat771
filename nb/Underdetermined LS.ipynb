{
 "cells": [
  {
   "cell_type": "markdown",
   "metadata": {},
   "source": [
    "# Under-determined Least Squares\n"
   ]
  },
  {
   "cell_type": "code",
   "execution_count": 19,
   "metadata": {},
   "outputs": [
    {
     "data": {
      "text/plain": [
       "underLS (generic function with 1 method)"
      ]
     },
     "execution_count": 19,
     "metadata": {},
     "output_type": "execute_result"
    }
   ],
   "source": [
    "using LinearAlgebra\n",
    "function underLS(A,b; ϵ = 1e-14)\n",
    "    \"\"\"\n",
    "    Solves an underdetermined linear system given\n",
    "    the coefficient matrix A and the constant\n",
    "    vector b. Returns the least norm solution.\n",
    "    \"\"\"\n",
    "    n, m = size(A)\n",
    "    s = min(n,m)\n",
    "    F = qr(A, Val(true))\n",
    "    \n",
    "    #Compute rank approximation r\n",
    "    Rtrm = F.R[1:s,1:s]  # trim R, it cannot be larger than min(rows,cols)\n",
    "    r = maximum(findall(abs.(diag(Rtrm)) .>= ϵ))  # check if it is smaller\n",
    "    l = m - r  # dimension of the remainder\n",
    "    \n",
    "    #Generate R and S\n",
    "    R, S = F.R[1:r,1:r], F.R[1:r,r+1:end] # partition R\n",
    "    d, P = R\\(F.Q'*b)[1:r], R\\S   # solve the partitioned parts\n",
    "    z2 = consistentLS(P'*P + Matrix(I,l,l), P'*d)\n",
    "    z1 = d - P*z2\n",
    "    return F.P*vcat(z1,z2)\n",
    "end"
   ]
  },
  {
   "cell_type": "markdown",
   "metadata": {},
   "source": [
    "## Step through an example\n",
    "\n",
    "### Generate a random problem\n",
    "Including it's solution."
   ]
  },
  {
   "cell_type": "code",
   "execution_count": 20,
   "metadata": {},
   "outputs": [
    {
     "data": {
      "text/plain": [
       "6-element Array{Float64,1}:\n",
       " 0.26813819034362996\n",
       " 0.3949843824463437 \n",
       " 0.5505346412945606 \n",
       " 0.27541289197084073\n",
       " 0.8113147053166976 \n",
       " 0.30453913484168216"
      ]
     },
     "metadata": {},
     "output_type": "display_data"
    },
    {
     "data": {
      "text/plain": [
       "1.1652583574210438"
      ]
     },
     "metadata": {},
     "output_type": "display_data"
    },
    {
     "data": {
      "text/plain": [
       "4-element Array{Float64,1}:\n",
       " 1.3936755236736698\n",
       " 1.1794543362485006\n",
       " 1.787046909380469 \n",
       " 1.3902133329570854"
      ]
     },
     "execution_count": 20,
     "metadata": {},
     "output_type": "execute_result"
    }
   ],
   "source": [
    "n,m = 4,6\n",
    "A = rand(n,m)\n",
    "x = rand(m)  # a solution\n",
    "display(x)\n",
    "display(norm(x))\n",
    "b = A*x"
   ]
  },
  {
   "cell_type": "markdown",
   "metadata": {},
   "source": [
    "### Initial QR solution\n",
    "After some setting up some book-keeping variables."
   ]
  },
  {
   "cell_type": "code",
   "execution_count": 21,
   "metadata": {},
   "outputs": [
    {
     "data": {
      "text/plain": [
       "4×4 LinearAlgebra.QRPackedQ{Float64,Array{Float64,2}}:\n",
       " -0.583062   0.397354   0.606697    0.366152\n",
       " -0.66993   -0.344704  -0.0214374  -0.657201\n",
       " -0.095447   0.83158   -0.440527   -0.324501\n",
       " -0.44958   -0.178225  -0.661358    0.57334 "
      ]
     },
     "metadata": {},
     "output_type": "display_data"
    },
    {
     "data": {
      "text/plain": [
       "4×6 Array{Float64,2}:\n",
       " -1.29186  -0.844453  -0.76269   -0.990148   -0.976032    -0.934128\n",
       "  0.0       0.971375   0.520253  -0.0172961   0.544682     0.377195\n",
       "  0.0       0.0       -0.733662  -0.626253   -0.379495    -0.529199\n",
       "  0.0       0.0        0.0       -0.370814    0.00707627   0.232929"
      ]
     },
     "metadata": {},
     "output_type": "display_data"
    }
   ],
   "source": [
    "ϵ = 1e-14\n",
    "n, m = size(A)\n",
    "s = min(n,m)\n",
    "F = qr(A, Val(true))\n",
    "display(F.Q)\n",
    "display(F.R)  # R is augmented"
   ]
  },
  {
   "cell_type": "markdown",
   "metadata": {},
   "source": [
    "### Find the rank of R"
   ]
  },
  {
   "cell_type": "code",
   "execution_count": 22,
   "metadata": {},
   "outputs": [
    {
     "name": "stdout",
     "output_type": "stream",
     "text": [
      "The rank of R = 4\n",
      "There is/are 2 remaining columns\n"
     ]
    }
   ],
   "source": [
    "Rtrm = F.R[1:s,1:s]  # trim R, it cannot be larger than min(rows,cols)\n",
    "r = maximum(findall(abs.(diag(Rtrm)) .>= ϵ))  # check if it is smaller\n",
    "l = m - r  # dimension of the remainder\n",
    "println(\"The rank of R = $r\")\n",
    "println(\"There is/are $l remaining columns\")"
   ]
  },
  {
   "cell_type": "markdown",
   "metadata": {},
   "source": [
    "### Generate R and S\n"
   ]
  },
  {
   "cell_type": "code",
   "execution_count": 23,
   "metadata": {},
   "outputs": [
    {
     "data": {
      "text/plain": [
       "4×4 Array{Float64,2}:\n",
       " -1.29186  -0.844453  -0.76269   -0.990148 \n",
       "  0.0       0.971375   0.520253  -0.0172961\n",
       "  0.0       0.0       -0.733662  -0.626253 \n",
       "  0.0       0.0        0.0       -0.370814 "
      ]
     },
     "metadata": {},
     "output_type": "display_data"
    },
    {
     "data": {
      "text/plain": [
       "4×2 Array{Float64,2}:\n",
       " -0.976032    -0.934128\n",
       "  0.544682     0.377195\n",
       " -0.379495    -0.529199\n",
       "  0.00707627   0.232929"
      ]
     },
     "metadata": {},
     "output_type": "display_data"
    }
   ],
   "source": [
    "R, S = F.R[1:r,1:r], F.R[1:r,r+1:end] # partition R\n",
    "display(R)  # this can now be used to backsub\n",
    "display(S)  # what's left"
   ]
  },
  {
   "cell_type": "code",
   "execution_count": 24,
   "metadata": {},
   "outputs": [
    {
     "data": {
      "text/plain": [
       "4-element Array{Float64,1}:\n",
       " 0.5601449271149894\n",
       " 0.840320490783169 \n",
       " 1.0984645562469506\n",
       " 0.1285689278047092"
      ]
     },
     "metadata": {},
     "output_type": "display_data"
    },
    {
     "data": {
      "text/plain": [
       "4×2 Array{Float64,2}:\n",
       "  0.275632    0.655862\n",
       "  0.274632   -0.296375\n",
       "  0.533551    1.25751 \n",
       " -0.0190831  -0.628156"
      ]
     },
     "execution_count": 24,
     "metadata": {},
     "output_type": "execute_result"
    }
   ],
   "source": [
    "include(\"../jl/backsub.jl\")\n",
    "d = backsub(R, F.Q'*b[1:r])\n",
    "display(d)\n",
    "P = R\\S   # solve the partitioned parts"
   ]
  },
  {
   "cell_type": "markdown",
   "metadata": {},
   "source": [
    "## Work with the remaining columns to find a minimum norm solution"
   ]
  },
  {
   "cell_type": "code",
   "execution_count": 25,
   "metadata": {},
   "outputs": [
    {
     "data": {
      "text/plain": [
       "2×2 Array{Float64,2}:\n",
       " 1.43644   0.782314\n",
       " 0.782314  3.4939  "
      ]
     },
     "metadata": {},
     "output_type": "display_data"
    },
    {
     "data": {
      "text/plain": [
       "2-element Array{Float64,1}:\n",
       " 0.9688063230484489\n",
       " 1.4188925616420773"
      ]
     },
     "metadata": {},
     "output_type": "display_data"
    }
   ],
   "source": [
    "display(P'*P + Matrix(I,l,l))\n",
    "display(P'*d)"
   ]
  },
  {
   "cell_type": "code",
   "execution_count": 26,
   "metadata": {},
   "outputs": [
    {
     "data": {
      "text/plain": [
       "2-element Array{Float64,1}:\n",
       " 0.516228729474596  \n",
       " 0.29051802624617584"
      ]
     },
     "metadata": {},
     "output_type": "display_data"
    },
    {
     "data": {
      "text/plain": [
       "6-element Array{Float64,1}:\n",
       " 0.29051802624617584\n",
       " 0.516228729474596  \n",
       " 0.4577017771803569 \n",
       " 0.22731595104375613\n",
       " 0.7846499946605625 \n",
       " 0.3209108850596343 "
      ]
     },
     "metadata": {},
     "output_type": "display_data"
    },
    {
     "data": {
      "text/plain": [
       "1.1535665101815724"
      ]
     },
     "execution_count": 26,
     "metadata": {},
     "output_type": "execute_result"
    }
   ],
   "source": [
    "include(\"../jl/consistentLS_dh.jl\")\n",
    "z2 = consistentLS(P'*P + Matrix(I,l,l), P'*d)\n",
    "display(z2)\n",
    "z1 = d - P*z2\n",
    "z = F.P*vcat(z1,z2)\n",
    "display(z)\n",
    "norm(z) # less than or equal to the norm(x)"
   ]
  },
  {
   "cell_type": "code",
   "execution_count": 27,
   "metadata": {},
   "outputs": [
    {
     "data": {
      "text/plain": [
       "6-element Array{Float64,1}:\n",
       " 0.29051802624617584\n",
       " 0.516228729474596  \n",
       " 0.45770177718035665\n",
       " 0.22731595104375624\n",
       " 0.7846499946605625 \n",
       " 0.3209108850596343 "
      ]
     },
     "execution_count": 27,
     "metadata": {},
     "output_type": "execute_result"
    }
   ],
   "source": [
    "underLS(A,b)"
   ]
  },
  {
   "cell_type": "code",
   "execution_count": 29,
   "metadata": {},
   "outputs": [
    {
     "data": {
      "text/plain": [
       "4-element Array{Float64,1}:\n",
       "  0.0                  \n",
       " -2.220446049250313e-16\n",
       "  0.0                  \n",
       " -2.220446049250313e-16"
      ]
     },
     "execution_count": 29,
     "metadata": {},
     "output_type": "execute_result"
    }
   ],
   "source": [
    "y = underLS(A,b)\n",
    "A*y-b  # all zero"
   ]
  },
  {
   "cell_type": "code",
   "execution_count": 30,
   "metadata": {},
   "outputs": [
    {
     "name": "stdout",
     "output_type": "stream",
     "text": [
      "\u001b[31mEXAMPLE 2: Fat Matrix\u001b[39m\n",
      "A is an 4 by 10 matrix\n",
      "Error between underLS and 'truth':\n",
      "    3.286019147154656e-16\n"
     ]
    }
   ],
   "source": [
    "# Example 2\n",
    "\n",
    "printstyled(\n",
    "\"EXAMPLE 2: Fat Matrix\\n\", color=:red)\n",
    "n, m = 4, 10\n",
    "A = rand(n,m)\n",
    "b = rand(n)\n",
    "println(\"A is an $n by $m matrix\")\n",
    "println(\"Error between underLS and 'truth':\n",
    "    $(norm(underLS(A,b) - A\\b))\")"
   ]
  },
  {
   "cell_type": "code",
   "execution_count": 31,
   "metadata": {},
   "outputs": [
    {
     "name": "stdout",
     "output_type": "stream",
     "text": [
      "\u001b[31mEXAMPLE 3: Repeating Tall Matrix\u001b[39m\n",
      "A is an 20 by 10 matrix.\n",
      "Error between underLS and 'truth':\n",
      "    1.852827602846592e-16\n"
     ]
    }
   ],
   "source": [
    "# Example 3\n",
    "\n",
    "printstyled(\n",
    "\"EXAMPLE 3: Repeating Tall Matrix\\n\", color=:red)\n",
    "n, m = 5,10\n",
    "A = rand(n,m)\n",
    "b = rand(n)\n",
    "A = vcat(A,A,A,A)\n",
    "b = vcat(b,b,b,b)\n",
    "println(\"A is an $(size(A,1)) by $(size(A,2)) matrix.\")\n",
    "println(\"Error between underLS and 'truth':\n",
    "    $(norm(underLS(A,b) - A\\b))\")"
   ]
  },
  {
   "cell_type": "code",
   "execution_count": null,
   "metadata": {},
   "outputs": [],
   "source": []
  }
 ],
 "metadata": {
  "kernelspec": {
   "display_name": "Julia 1.0.0",
   "language": "julia",
   "name": "julia-1.0"
  },
  "language_info": {
   "file_extension": ".jl",
   "mimetype": "application/julia",
   "name": "julia",
   "version": "1.0.0"
  }
 },
 "nbformat": 4,
 "nbformat_minor": 2
}
