{
 "cells": [
  {
   "cell_type": "markdown",
   "metadata": {},
   "source": [
    "# Non-linear Systems\n",
    "\n",
    "(This is where iterative methods become especially useful.)"
   ]
  },
  {
   "cell_type": "markdown",
   "metadata": {},
   "source": [
    "### Outline\n",
    "- Review Jacobians\n",
    "- Motivating example - clustered data\n",
    "- Nonlinear systems of equations\n",
    "- Picard's method\n",
    "- Newton's method\n",
    "- Inexact Newton methods\n",
    "- Line search\n",
    "- Semi-smooth Newton's method"
   ]
  },
  {
   "cell_type": "markdown",
   "metadata": {},
   "source": [
    "## Jacobians\n",
    "\n",
    "**Gradient**:  Let $f: \\mathbb{R}^m \\rightarrow \\mathbb{R}$.  The gradient of $f$ at $x$ in $\\mathbb{R}^m$ (if it exists) is a vector $g$ such that\n",
    "$$\\lim_{h \\rightarrow 0} \\frac{\\left | f(x+h)-f(x) - \\langle g,h \\rangle \\right |}{\\| h \\|} = 0$$"
   ]
  },
  {
   "cell_type": "markdown",
   "metadata": {},
   "source": [
    "*Example*: take $f(z)=z_1 z_2 z_3 \\dots z_m$.  At a point $x$, the gradient of $f$, call it $g$, has elements\n",
    "$$\\begin{align}\n",
    "g_1 &=x_2 x_3 \\dots x_m \\\\\n",
    "g_n &=x_1 x_2 \\dots x_{n-1} x_{n+1} \\dots x_m \\\\\n",
    "g_m &= x_1 x_2 \\dots x_{m-1}\n",
    "\\end{align}$$"
   ]
  },
  {
   "cell_type": "code",
   "execution_count": 5,
   "metadata": {},
   "outputs": [
    {
     "data": {
      "text/html": [
       "6"
      ],
      "text/latex": [
       "6"
      ],
      "text/markdown": [
       "6"
      ],
      "text/plain": [
       "[1] 6"
      ]
     },
     "metadata": {},
     "output_type": "display_data"
    }
   ],
   "source": [
    "Fz <- function(z) {prod(z)}\n",
    "x <- c(1,2,3)\n",
    "Fz(x)"
   ]
  },
  {
   "cell_type": "code",
   "execution_count": 11,
   "metadata": {},
   "outputs": [
    {
     "name": "stdout",
     "output_type": "stream",
     "text": [
      "[1] 6 3 2\n"
     ]
    }
   ],
   "source": [
    "g <- function(z) {\n",
    "    nz <- length(z)\n",
    "    gz <- rep(NA,nz)\n",
    "    for (i in 1:nz) {\n",
    "        gz[i] <- prod(z[-i])\n",
    "    }\n",
    "    return(gz)\n",
    "}\n",
    "print(g(x))"
   ]
  },
  {
   "cell_type": "markdown",
   "metadata": {},
   "source": [
    "The gradient, $g$, indicates the direction of fastest/steepest increase in $f$ at point $x$."
   ]
  },
  {
   "cell_type": "markdown",
   "metadata": {},
   "source": [
    "Going back to our definition, we have\n",
    "$$\\begin{align}\n",
    "& \\lim_{h \\rightarrow 0} \\frac{\\left | f(x+h)-f(x) - \\langle g,h \\rangle \\right |}{\\| h \\|} \\\\\n",
    "= & \\lim_{h \\rightarrow 0} \\frac{\\left | (x_1+h_1)(x_2+h_2)\\dots (x_m+h_m) - \n",
    " x_1x_2\\dots x_m - \\sum_{k=1}^m h_k \\prod_{i \\neq k} x_i \\right |}{\\sqrt{\\sum{h_i^2}}} \\\\\n",
    "& \\frac{\\left | \\sum{\\sum{O(h_k h_i)}} \\right |}{\\sqrt{\\sum{h_i^2}}}\n",
    "\\end{align} $$\n",
    "\n",
    "Why does this go to zero?"
   ]
  },
  {
   "cell_type": "markdown",
   "metadata": {},
   "source": [
    "**Homework**:  find a function whose partial derivatives exist, but whose gradient does not exist at some point."
   ]
  },
  {
   "cell_type": "markdown",
   "metadata": {},
   "source": [
    "The [Wikepedia example is](https://calculus.subwiki.org/wiki/Existence_of_partial_derivatives_not_implies_differentiable#Example_of_a_function_for_which_the_partial_derivatives_exist_but_it_is_not_continuous)\n",
    "\n",
    "$$f(x,y)=\\frac{xy}{x^2+y^2}$$\n",
    "\n",
    "The gradient is given by\n",
    "$$\\nabla{f}=\\left [ \\frac{y}{x^2+y^2} - \\frac{2x^2y}{(x^2+y^2)^2} ,\n",
    "\\frac{x}{x^2+y^2} - \\frac{2xy^2}{(x^2+y^2)^2} \\right ]$$"
   ]
  },
  {
   "cell_type": "code",
   "execution_count": 12,
   "metadata": {},
   "outputs": [
    {
     "data": {
      "text/html": [
       "0"
      ],
      "text/latex": [
       "0"
      ],
      "text/markdown": [
       "0"
      ],
      "text/plain": [
       "[1] 0"
      ]
     },
     "metadata": {},
     "output_type": "display_data"
    }
   ],
   "source": [
    "Fz <- function(z) {\n",
    "    x <- z[1]\n",
    "    y <- z[2]\n",
    "    return(x*y/(x^2+y^2))\n",
    "    }\n",
    "x <- c(0,1)\n",
    "Fz(x)"
   ]
  },
  {
   "cell_type": "code",
   "execution_count": 13,
   "metadata": {},
   "outputs": [
    {
     "name": "stdout",
     "output_type": "stream",
     "text": [
      "[1] 1 0\n"
     ]
    }
   ],
   "source": [
    "g <- function(z) {\n",
    "    x <- z[1]\n",
    "    y <- z[2]\n",
    "    g1 <- y/(x^2+y^2)-2*x^2*y/(x^2+y^2)^2\n",
    "    g2 <- x/(x^2+y^2)-2*x*y^2/(x^2+y^2)^2\n",
    "    return(c(g1,g2))\n",
    "}\n",
    "print(g(x))"
   ]
  },
  {
   "cell_type": "code",
   "execution_count": 16,
   "metadata": {},
   "outputs": [
    {
     "name": "stdout",
     "output_type": "stream",
     "text": [
      "[1] NaN\n",
      "[1] NaN NaN\n"
     ]
    }
   ],
   "source": [
    "x <- c(0,0)\n",
    "print(Fz(x))\n",
    "print(g(x))"
   ]
  },
  {
   "cell_type": "markdown",
   "metadata": {},
   "source": [
    "### Jacobians\n",
    "\n",
    "**Jacobian**: Let $f: \\mathbb{R}^m \\rightarrow \\mathbb{R}^n$.  The *Jacobian* at a point $x \\in \\mathbb{R}^m$ (if it exists) satisfies\n",
    "$$\\lim_{h \\rightarrow 0} \\frac{\\left \\| f(x+h)-f(x) - J(h) \\right \\|_{(n)}}{\\| h \\|_{(m)}} = 0 $$"
   ]
  },
  {
   "cell_type": "markdown",
   "metadata": {},
   "source": [
    "**Example**: Consider the function $f(z): \\mathbb{R}^m \\rightarrow \\mathbb{R}^{m-1}$ where the elements of $z$ are given by $f_k(z_k)=z_kz_{k+1}$.\n",
    "\n",
    "Then the *Jacobian* elements at $x$ are given by:\n",
    "\n",
    "$$ J_{ij} = \\left \\{ \\begin{array}{rl} 0, & i\\neq j, i+1 \\neq j \\\\\n",
    "x_{i+1}, & i=j \\\\\n",
    "x_i, & i+1=j\n",
    "\\end{array} \\right. $$\n"
   ]
  },
  {
   "cell_type": "code",
   "execution_count": 19,
   "metadata": {},
   "outputs": [
    {
     "name": "stdout",
     "output_type": "stream",
     "text": [
      "[1]  2  6 12 20\n"
     ]
    }
   ],
   "source": [
    "Fz <- function(z) {\n",
    "    nz <- length(z)\n",
    "    f <- rep(NA, nz-1)\n",
    "    for (i in 1:(nz-1)){\n",
    "        f[i] <- z[i]*z[i+1]\n",
    "    }\n",
    "    return(f)\n",
    "    }\n",
    "x <- c(1:5)\n",
    "print(Fz(x))"
   ]
  },
  {
   "cell_type": "code",
   "execution_count": 25,
   "metadata": {},
   "outputs": [
    {
     "name": "stdout",
     "output_type": "stream",
     "text": [
      "     [,1] [,2] [,3] [,4] [,5]\n",
      "[1,]    2    1    0    0    0\n",
      "[2,]    0    3    2    0    0\n",
      "[3,]    0    0    4    3    0\n",
      "[4,]    0    0    0    5    4\n"
     ]
    }
   ],
   "source": [
    "J <- function(z) {\n",
    "    nz <- length(z)\n",
    "    g <- matrix(0, ncol=nz, nrow=nz-1)\n",
    "    for (i in 1:(nz-1)){\n",
    "        g[i,i] <- z[i+1]\n",
    "        g[i,i+1] <- z[i]\n",
    "    }\n",
    "    return(g)\n",
    "}\n",
    "print(J(x))"
   ]
  },
  {
   "cell_type": "markdown",
   "metadata": {},
   "source": [
    "**Homework**:  What is the relationship between the Jacobian and the gradient?  Each row of the Jacobian *is* a gradient."
   ]
  },
  {
   "cell_type": "code",
   "execution_count": null,
   "metadata": {},
   "outputs": [],
   "source": []
  }
 ],
 "metadata": {
  "kernelspec": {
   "display_name": "R",
   "language": "R",
   "name": "ir"
  },
  "language_info": {
   "codemirror_mode": "r",
   "file_extension": ".r",
   "mimetype": "text/x-r-source",
   "name": "R",
   "pygments_lexer": "r",
   "version": "3.5.1"
  }
 },
 "nbformat": 4,
 "nbformat_minor": 2
}
