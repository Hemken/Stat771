{
 "cells": [
  {
   "cell_type": "markdown",
   "metadata": {},
   "source": [
    "# Minimizers in Unconstrained Optimization"
   ]
  },
  {
   "cell_type": "markdown",
   "metadata": {},
   "source": [
    "*Definition* An unconstrained optimization (minimization) problem has this form\n",
    "$$\\min_{\\theta \\in\\mathbb{R}^p} f(\\theta) \\text{    such that    } f:\\mathbb{R}^p \\rightarrow \\mathbb{R}$$\n",
    "In other words, we seek a set of p parameters."
   ]
  },
  {
   "cell_type": "markdown",
   "metadata": {},
   "source": [
    "1. **Global minimizer**\n",
    "  Let $f^*=\\inf_{\\theta\\in\\mathbb{R}^p}f(\\theta)$, the globally minimum returned value.  Then the global minimizer, if it exists, is a point $\\theta^*\\in\\mathbb{R}^p$ such that $f^*=f(\\theta^*)$."
   ]
  },
  {
   "cell_type": "markdown",
   "metadata": {},
   "source": [
    "2. **Local minimizer**  A local minimizer of $f$ is a point $\\theta^*$ *and* a neighborhood of $\\theta^*$, $U$, such that\n",
    "$f(\\theta^*)\\leq f(\\theta)$ for all $\\theta$ in that neighborhood.  We call $f^*=f(\\theta^*)$ a local minimum.  Notice this is a neighborhood of the solution."
   ]
  },
  {
   "cell_type": "markdown",
   "metadata": {},
   "source": [
    "3. **Strict minimizer**  $\\theta^*$ and a neighborhood $U$ are such that $f(\\theta^*)\\lt f(\\theta)$ for all $\\theta$ in that neighborhood.  \"Strictly less than\".\n"
   ]
  },
  {
   "cell_type": "markdown",
   "metadata": {},
   "source": [
    "4. **Isolated minimizer**  $\\theta^*$ is a local minimizer such that it is the only minimizer in $U$."
   ]
  },
  {
   "cell_type": "code",
   "execution_count": null,
   "metadata": {},
   "outputs": [],
   "source": []
  }
 ],
 "metadata": {
  "kernelspec": {
   "display_name": "Julia 1.0.0",
   "language": "julia",
   "name": "julia-1.0"
  },
  "language_info": {
   "file_extension": ".jl",
   "mimetype": "application/julia",
   "name": "julia",
   "version": "1.0.0"
  }
 },
 "nbformat": 4,
 "nbformat_minor": 2
}
