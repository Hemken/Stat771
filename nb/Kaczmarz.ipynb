{
 "cells": [
  {
   "cell_type": "markdown",
   "metadata": {},
   "source": [
    "# Kaczmarz Method(s)"
   ]
  },
  {
   "cell_type": "code",
   "execution_count": 13,
   "metadata": {},
   "outputs": [
    {
     "data": {
      "text/plain": [
       "4-element Array{Float64,1}:\n",
       "  0.49079115665873596\n",
       "  0.36605810351764684\n",
       " -0.25998470633963633\n",
       " -0.377332333672407  "
      ]
     },
     "metadata": {},
     "output_type": "display_data"
    },
    {
     "data": {
      "text/plain": [
       "3.090730095650652e-16"
      ]
     },
     "execution_count": 13,
     "metadata": {},
     "output_type": "execute_result"
    }
   ],
   "source": [
    "using LinearAlgebra\n",
    "n, m = 10, 4\n",
    "A = randn(n,m)\n",
    "x = randn(m)\n",
    "display(x)\n",
    "b = A*x\n",
    "norm(A\\b -x)"
   ]
  },
  {
   "cell_type": "code",
   "execution_count": 15,
   "metadata": {},
   "outputs": [],
   "source": [
    "x0 = zeros(size(x));\n",
    "x1 = copy(x0);"
   ]
  },
  {
   "cell_type": "markdown",
   "metadata": {},
   "source": [
    "The Kaczmarz update step is:\n",
    "$$x_{k+1}=x_k+\\frac{(b_j - A[j,:]'*x_k}{\\|A[j,:]\\|^2}*A[j,:]$$\n",
    "where \n",
    "$j \\in {1, ..., n}$ \n",
    "is a row number."
   ]
  },
  {
   "cell_type": "markdown",
   "metadata": {},
   "source": [
    "## Cyclical Kaczmarz"
   ]
  },
  {
   "cell_type": "code",
   "execution_count": 16,
   "metadata": {},
   "outputs": [
    {
     "data": {
      "text/plain": [
       "4-element Array{Float64,1}:\n",
       "  0.490791156658736  \n",
       "  0.36605810351764684\n",
       " -0.25998470633963633\n",
       " -0.37733233367240704"
      ]
     },
     "execution_count": 16,
     "metadata": {},
     "output_type": "execute_result"
    }
   ],
   "source": [
    "for j in 1:(n*100)\n",
    "    i = mod1(j,n)\n",
    "#    println(j)\n",
    "    x1 = x0+((b[i] - A[i,:]'*x0)/norm(A[i,:])^2)*A[i,:]\n",
    "    x0 = copy(x1)\n",
    "#    println(x1)\n",
    "end\n",
    "x1"
   ]
  },
  {
   "cell_type": "markdown",
   "metadata": {},
   "source": [
    "## Random Permutation Kaczmarz"
   ]
  },
  {
   "cell_type": "code",
   "execution_count": 17,
   "metadata": {},
   "outputs": [
    {
     "data": {
      "text/plain": [
       "4-element Array{Float64,1}:\n",
       "  0.29747942473191047\n",
       "  0.3766460747269807 \n",
       " -0.5874133576138836 \n",
       " -0.5416332304392768 "
      ]
     },
     "execution_count": 17,
     "metadata": {},
     "output_type": "execute_result"
    }
   ],
   "source": [
    "using Random\n",
    "x0=zeros(size(x))\n",
    "norms=zeros(1,100)\n",
    "for k in 1:100\n",
    "    B = A[randperm(n),:]\n",
    "    for i in 1:n\n",
    "        x1 = x0+((b[i] - B[i,:]'*x0)/norm(B[i,:])^2)*B[i,:]\n",
    "        x0 = copy(x1)\n",
    "    end\n",
    "    norms[k] = norm(x-x1)\n",
    "end\n",
    "x1"
   ]
  },
  {
   "cell_type": "code",
   "execution_count": null,
   "metadata": {},
   "outputs": [],
   "source": []
  }
 ],
 "metadata": {
  "kernelspec": {
   "display_name": "Julia 1.0.0",
   "language": "julia",
   "name": "julia-1.0"
  },
  "language_info": {
   "file_extension": ".jl",
   "mimetype": "application/julia",
   "name": "julia",
   "version": "1.0.0"
  }
 },
 "nbformat": 4,
 "nbformat_minor": 2
}
