{
 "cells": [
  {
   "cell_type": "markdown",
   "metadata": {},
   "source": [
    "# Kaczmarz Method(s)"
   ]
  },
  {
   "cell_type": "code",
   "execution_count": 89,
   "metadata": {},
   "outputs": [
    {
     "data": {
      "text/plain": [
       "4-element Array{Float64,1}:\n",
       " -2.3575138956180073 \n",
       "  0.15031097384931766\n",
       "  1.1251094035874853 \n",
       " -1.3925871725029235 "
      ]
     },
     "metadata": {},
     "output_type": "display_data"
    },
    {
     "data": {
      "text/plain": [
       "5.688200336284365e-16"
      ]
     },
     "execution_count": 89,
     "metadata": {},
     "output_type": "execute_result"
    }
   ],
   "source": [
    "using LinearAlgebra\n",
    "n, m = 10, 4\n",
    "A = randn(n,m)\n",
    "x = randn(m)\n",
    "display(x)\n",
    "b = A*x\n",
    "norm(A\\b -x)"
   ]
  },
  {
   "cell_type": "code",
   "execution_count": 90,
   "metadata": {},
   "outputs": [],
   "source": [
    "x0 = zeros(size(x));\n",
    "x1 = copy(x0);\n",
    "normscyc = zeros(1,100);"
   ]
  },
  {
   "cell_type": "markdown",
   "metadata": {},
   "source": [
    "The Kaczmarz update step is:\n",
    "$$x_{k+1}=x_k+\\frac{(b_j - A[j,:]'*x_k}{\\|A[j,:]\\|^2}*A[j,:]$$\n",
    "where \n",
    "$j \\in {1, ..., n}$ \n",
    "is a row number."
   ]
  },
  {
   "cell_type": "markdown",
   "metadata": {},
   "source": [
    "## Cyclical Kaczmarz"
   ]
  },
  {
   "cell_type": "code",
   "execution_count": 91,
   "metadata": {},
   "outputs": [
    {
     "data": {
      "text/plain": [
       "4-element Array{Float64,1}:\n",
       " -2.3575138956180073 \n",
       "  0.15031097384931744\n",
       "  1.1251094035874853 \n",
       " -1.3925871725029235 "
      ]
     },
     "execution_count": 91,
     "metadata": {},
     "output_type": "execute_result"
    }
   ],
   "source": [
    "rep = 20\n",
    "\n",
    "for j in 1:rep\n",
    "    for i in 1:n\n",
    "    x1 = x0+((b[i] - A[i,:]'*x0)/norm(A[i,:])^2)*A[i,:]\n",
    "    x0 = copy(x1)\n",
    "    end\n",
    "    normscyc[j] = norm(b-A*x0)\n",
    "end\n",
    "x1"
   ]
  },
  {
   "cell_type": "markdown",
   "metadata": {},
   "source": [
    "## Random Permutation Kaczmarz"
   ]
  },
  {
   "cell_type": "code",
   "execution_count": 92,
   "metadata": {},
   "outputs": [
    {
     "data": {
      "text/plain": [
       "4-element Array{Float64,1}:\n",
       " -2.3575138956180073\n",
       "  0.1503109738493176\n",
       "  1.1251094035874856\n",
       " -1.3925871725029235"
      ]
     },
     "execution_count": 92,
     "metadata": {},
     "output_type": "execute_result"
    }
   ],
   "source": [
    "using Random\n",
    "x0=zeros(size(x))\n",
    "norms=zeros(1,rep)\n",
    "for k in 1:rep\n",
    "    pk = randperm(n)\n",
    "    B = A[pk,:]\n",
    "    c = b[pk]\n",
    "    for i in 1:n\n",
    "        x1 = x0+((c[i] - B[i,:]'*x0)/norm(B[i,:])^2)*B[i,:]\n",
    "        x0 = copy(x1)\n",
    "    end\n",
    "    norms[k] = norm(b-A*x0)\n",
    "end\n",
    "x1"
   ]
  },
  {
   "cell_type": "markdown",
   "metadata": {},
   "source": [
    "## Randomized Kaczmarz"
   ]
  },
  {
   "cell_type": "code",
   "execution_count": 93,
   "metadata": {},
   "outputs": [],
   "source": [
    "pr = zeros(1,n)\n",
    "Anorm = norm(A)^2\n",
    "for i in 1:n\n",
    "    pr[i] = norm(A[i,:])^2/Anorm\n",
    "end\n",
    "cumpr = cumsum(pr, dims=2)\n",
    "rn = rand(n*rep)\n",
    "rows = ones(1,n*rep)\n",
    "for j in 1:(n*rep)\n",
    "    for i in 1:n\n",
    "        if (rn[j]>cumpr[i]) \n",
    "            rows[j] = i + 1\n",
    "        end\n",
    "    end\n",
    "end\n",
    "    "
   ]
  },
  {
   "cell_type": "code",
   "execution_count": 95,
   "metadata": {},
   "outputs": [
    {
     "data": {
      "text/plain": [
       "4-element Array{Float64,1}:\n",
       " -2.35751389563988   \n",
       "  0.15031097383254122\n",
       "  1.1251094035993225 \n",
       " -1.3925871725018175 "
      ]
     },
     "execution_count": 95,
     "metadata": {},
     "output_type": "execute_result"
    }
   ],
   "source": [
    "x0=zeros(size(x))\n",
    "normsrnd=zeros(1,rep)\n",
    "for k in 0:(rep-1)\n",
    "    for i in 1:n\n",
    "        r = convert(Int64, rows[k*10+i])\n",
    " #       display([k i r])\n",
    "        x1 = x0+((b[r] - A[r,:]'*x0)/norm(A[r,:])^2)*A[r,:]\n",
    "        x0 = copy(x1)\n",
    "    end\n",
    "    normsrnd[k+1] = norm(b-A*x0)\n",
    "end\n",
    "x0"
   ]
  },
  {
   "cell_type": "code",
   "execution_count": 96,
   "metadata": {},
   "outputs": [
    {
     "data": {
      "text/plain": [
       "1×20 Array{Float64,2}:\n",
       " 0.316111  0.0362922  0.0221352  0.00693504  …  1.33804e-10  6.69898e-11"
      ]
     },
     "execution_count": 96,
     "metadata": {},
     "output_type": "execute_result"
    }
   ],
   "source": [
    "using RCall\n",
    "@rput norms\n",
    "@rput normscyc\n",
    "@rput normsrnd"
   ]
  },
  {
   "cell_type": "code",
   "execution_count": 97,
   "metadata": {},
   "outputs": [
    {
     "data": {
      "image/png": "[encoded data removed]"
     },
     "metadata": {},
     "output_type": "display_data"
    },
    {
     "data": {
      "text/plain": [
       "RObject{NilSxp}\n",
       "NULL\n"
      ]
     },
     "execution_count": 97,
     "metadata": {},
     "output_type": "execute_result"
    }
   ],
   "source": [
    "R\"plot(norms, normsrnd)\""
   ]
  },
  {
   "cell_type": "code",
   "execution_count": null,
   "metadata": {},
   "outputs": [],
   "source": []
  }
 ],
 "metadata": {
  "kernelspec": {
   "display_name": "Julia 1.0.0",
   "language": "julia",
   "name": "julia-1.0"
  },
  "language_info": {
   "file_extension": ".jl",
   "mimetype": "application/julia",
   "name": "julia",
   "version": "1.0.0"
  }
 },
 "nbformat": 4,
 "nbformat_minor": 2
}
