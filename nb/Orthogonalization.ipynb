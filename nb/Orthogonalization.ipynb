{
 "cells": [
  {
   "cell_type": "markdown",
   "metadata": {},
   "source": [
    "# Solving Linear Systems\n",
    "Code from class"
   ]
  },
  {
   "cell_type": "code",
   "execution_count": 9,
   "metadata": {},
   "outputs": [
    {
     "data": {
      "text/plain": [
       "consistentLS (generic function with 1 method)"
      ]
     },
     "execution_count": 9,
     "metadata": {},
     "output_type": "execute_result"
    }
   ],
   "source": [
    "#Solving a Consistent Linear System\n",
    "using LinearAlgebra\n",
    "function consistentLS(A,b)\n",
    "    \"\"\"\n",
    "    Solves a consistent linear system given\n",
    "    the coefficient matrix A and the constant\n",
    "    vector b. Assumes A is consistent.\n",
    "    \"\"\"\n",
    "    n, m = size(A)\n",
    "    F = qr(A,Val(true))\n",
    "    d = F.Q'*b\n",
    "    c = F.R\\d[1:m]\n",
    "    return F.P*c\n",
    "end"
   ]
  },
  {
   "cell_type": "code",
   "execution_count": 10,
   "metadata": {},
   "outputs": [
    {
     "name": "stdout",
     "output_type": "stream",
     "text": [
      "\u001b[31mEXAMPLE 1: Randomly Generated System\u001b[39m\n",
      "Dimension of A: 10 by 4\n",
      "Error between consistentLS and  'truth':\n",
      "    3.764949453935611e-16\n"
     ]
    }
   ],
   "source": [
    "#Example 1\n",
    "printstyled(\n",
    "\"EXAMPLE 1: Randomly Generated System\\n\", color=:red)\n",
    "n, m = 10, 4\n",
    "println(\"Dimension of A: $n by $m\")\n",
    "A = rand(n,m)\n",
    "x = rand(m)\n",
    "b = A*x\n",
    "println(\"Error between consistentLS and  'truth':\n",
    "    $(norm(consistentLS(A,b) - x))\")"
   ]
  },
  {
   "cell_type": "code",
   "execution_count": 11,
   "metadata": {},
   "outputs": [
    {
     "data": {
      "text/plain": [
       "underLS (generic function with 1 method)"
      ]
     },
     "execution_count": 11,
     "metadata": {},
     "output_type": "execute_result"
    }
   ],
   "source": [
    "# Under determined Least Squares\n",
    "function underLS(A,b; ϵ = 1e-14)\n",
    "    \"\"\"\n",
    "    Solves an underdetermined linear system given\n",
    "    the coefficient matrix A and the constant\n",
    "    vector b. Returns the least norm solution.\n",
    "    \"\"\"\n",
    "    n, m = size(A)\n",
    "    s = min(n,m)\n",
    "    F = qr(A, Val(true))\n",
    "    \n",
    "    #Compute rank approximation r\n",
    "    Rtrm = F.R[1:s,1:s]\n",
    "    r = maximum(findall(abs.(diag(Rtrm)) .>= ϵ))\n",
    "    l = m - r\n",
    "    \n",
    "    #Generate R and S\n",
    "    R, S = F.R[1:r,1:r], F.R[1:r,r+1:end]\n",
    "    d, P = R\\(F.Q'*b)[1:r], R\\S\n",
    "    z2 = consistentLS(P'*P + Matrix(I,l,l), P'*d)\n",
    "    z1 = d - P*z2\n",
    "    return F.P*vcat(z1,z2)\n",
    "end"
   ]
  },
  {
   "cell_type": "code",
   "execution_count": 12,
   "metadata": {},
   "outputs": [
    {
     "name": "stdout",
     "output_type": "stream",
     "text": [
      "\u001b[31mEXAMPLE 2: Fat Matrix\u001b[39m\n",
      "A is an 4 by 10 matrix\n",
      "Error between underLS and 'truth':\n",
      "    3.1432500083045447e-16\n",
      "\u001b[31mEXAMPLE 3: Repeating Tall Matrix\u001b[39m\n",
      "A is an 20 by 10 matrix.\n",
      "Error between underLS and 'truth':\n",
      "    6.442436961877095e-16\n"
     ]
    }
   ],
   "source": [
    "# Example 2\n",
    "\n",
    "printstyled(\n",
    "\"EXAMPLE 2: Fat Matrix\\n\", color=:red)\n",
    "n, m = 4, 10\n",
    "A = rand(n,m)\n",
    "b = rand(n)\n",
    "println(\"A is an $n by $m matrix\")\n",
    "println(\"Error between underLS and 'truth':\n",
    "    $(norm(underLS(A,b) - A\\b))\")\n",
    "\n",
    "# Example 3\n",
    "\n",
    "printstyled(\n",
    "\"EXAMPLE 3: Repeating Tall Matrix\\n\", color=:red)\n",
    "n, m = 5,10\n",
    "A = rand(n,m)\n",
    "b = rand(n)\n",
    "A = vcat(A,A,A,A)\n",
    "b = vcat(b,b,b,b)\n",
    "println(\"A is an $(size(A,1)) by $(size(A,2)) matrix.\")\n",
    "println(\"Error between underLS and 'truth':\n",
    "    $(norm(underLS(A,b) - A\\b))\")"
   ]
  },
  {
   "cell_type": "code",
   "execution_count": 13,
   "metadata": {},
   "outputs": [
    {
     "data": {
      "text/plain": [
       "householder (generic function with 1 method)"
      ]
     },
     "execution_count": 13,
     "metadata": {},
     "output_type": "execute_result"
    }
   ],
   "source": [
    "# Householder Reflection\n",
    "function householder(a)\n",
    "    \"\"\"\n",
    "    Computes the householder reflection \n",
    "    given a nonzero vector a.\n",
    "    \"\"\"\n",
    "    nrm_a = norm(a,2)\n",
    "    nrm_a == 0 && error(\"Input vector is zero.\")\n",
    "    \n",
    "    d = length(a)\n",
    "    v = copy(a)\n",
    "    v[1] = v[1] - nrm_a\n",
    "    H = Matrix(I,d,d) - (2/dot(v,v))*v*v'\n",
    "    return H\n",
    "end"
   ]
  },
  {
   "cell_type": "code",
   "execution_count": 14,
   "metadata": {},
   "outputs": [
    {
     "name": "stdout",
     "output_type": "stream",
     "text": [
      "\u001b[31mEXAMPLE 4: Householder Reflection\u001b[39m\n",
      "Householder reflection for random 10\n",
      "dimensional vector applied to the vector.\n",
      "Norm excluding first element:\n",
      "    3.554048457861637e-16\n"
     ]
    }
   ],
   "source": [
    "#Example of Householder Reflection\n",
    "\n",
    "printstyled(\n",
    "\"EXAMPLE 4: Householder Reflection\\n\", color=:red)\n",
    "println(\"Householder reflection for random 10\n",
    "dimensional vector applied to the vector.\")\n",
    "a = rand(10)\n",
    "H = householder(a)\n",
    "println(\"Norm excluding first element:\n",
    "    $(norm((H*a)[2:end]))\")"
   ]
  },
  {
   "cell_type": "code",
   "execution_count": 15,
   "metadata": {},
   "outputs": [
    {
     "data": {
      "text/plain": [
       "givens (generic function with 1 method)"
      ]
     },
     "execution_count": 15,
     "metadata": {},
     "output_type": "execute_result"
    }
   ],
   "source": [
    "function givens(a,i,j)\n",
    "    \"\"\"\n",
    "    Computes the Givens Rotation for a\n",
    "    vector a at indices i and j, where\n",
    "    the index at j is set to zero.\n",
    "    \"\"\"\n",
    "    d = length(a)\n",
    "    (i > d || j > d) && error(\"Index out of range.\")\n",
    "    l = sqrt(a[i]^2 + a[j]^2)\n",
    "    λ = a[i]/l\n",
    "    σ = a[j]/l\n",
    "    G = ones(d)\n",
    "    G[i] = λ\n",
    "    G[j] = λ\n",
    "    G = diagm(0 => G)\n",
    "    G[i,j] = σ\n",
    "    G[j,i] = -σ\n",
    "    return G\n",
    "end"
   ]
  },
  {
   "cell_type": "code",
   "execution_count": 16,
   "metadata": {},
   "outputs": [
    {
     "name": "stdout",
     "output_type": "stream",
     "text": [
      "\u001b[31mEXAMPLE 5: Givens Rotation\u001b[39m\n",
      "Givens Rotations for random 10\n",
      "dimensional vector applied to the vector.\n",
      "Norm excluding first element:\n",
      "    1.1456667315220755e-16\n"
     ]
    }
   ],
   "source": [
    "#Example of Givens Rotations\n",
    "\n",
    "printstyled(\n",
    "\"EXAMPLE 5: Givens Rotation\\n\", color=:red)\n",
    "println(\"Givens Rotations for random 10\n",
    "dimensional vector applied to the vector.\")\n",
    "n = 10\n",
    "a = rand(n)\n",
    "for i = 2:n\n",
    "    G = givens(a,1,i)\n",
    "    a = G*a\n",
    "end\n",
    "println(\"Norm excluding first element:\n",
    "    $(norm(a[2:end]))\")"
   ]
  },
  {
   "cell_type": "code",
   "execution_count": 17,
   "metadata": {},
   "outputs": [
    {
     "name": "stdout",
     "output_type": "stream",
     "text": [
      "Error between estimate and truth:\n",
      "0.011662035279977117\n"
     ]
    }
   ],
   "source": [
    "# Example of Large Scale Linear Regression\n",
    "\n",
    "# Generate Generic Linear Regression\n",
    "m = 10\n",
    "n = 100000\n",
    "x₀ = randn(m)\n",
    "\n",
    "# Generate Data\n",
    "using Random\n",
    "Random.seed!(3940)\n",
    "\n",
    "function data(x)\n",
    "    a = randn(m)\n",
    "    b = dot(a,x) + randn()\n",
    "    return hcat(a',b)\n",
    "end\n",
    "\n",
    "# Incremental QR\n",
    "\n",
    "RC = zeros(m+1,m+1)\n",
    "RC[1,:] = data(x₀)\n",
    "for i = 2:n\n",
    "    ind = min(i,m+1)\n",
    "    RC[ind,:] = data(x₀)\n",
    "    for j = 1:ind\n",
    "        G = givens(RC[:,j],j,ind)\n",
    "        RC = G*RC\n",
    "    end\n",
    "end\n",
    "\n",
    "x = RC[1:m,1:m]\\RC[1:m,end]\n",
    "\n",
    "println(\"Error between estimate and truth:\n",
    "$(norm(x - x₀))\")"
   ]
  },
  {
   "cell_type": "code",
   "execution_count": null,
   "metadata": {},
   "outputs": [],
   "source": []
  }
 ],
 "metadata": {
  "kernelspec": {
   "display_name": "Julia 1.0.0",
   "language": "julia",
   "name": "julia-1.0"
  },
  "language_info": {
   "file_extension": ".jl",
   "mimetype": "application/julia",
   "name": "julia",
   "version": "1.0.0"
  }
 },
 "nbformat": 4,
 "nbformat_minor": 2
}
