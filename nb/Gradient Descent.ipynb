{
 "cells": [
  {
   "cell_type": "markdown",
   "metadata": {},
   "source": [
    "# Gradient Descent"
   ]
  },
  {
   "cell_type": "code",
   "execution_count": 3,
   "metadata": {},
   "outputs": [
    {
     "name": "stdout",
     "output_type": "stream",
     "text": [
      "0.5999999999999996\n",
      "0.6237599999999996\n",
      "0.6490692731402646\n",
      "0.6760475763767438\n",
      "0.704821965498881\n",
      "0.7355261366038248\n",
      "0.7682992721113444\n",
      "0.8032842278686305\n",
      "0.840624861847519\n",
      "0.8804622684298664\n",
      "0.9229296507309586\n",
      "0.9681455460305634\n",
      "1.016205130521792\n",
      "1.067169389942697\n",
      "1.1210520795330405\n",
      "1.1778046421472836\n",
      "1.237299637824332\n",
      "1.2993137782331108\n",
      "1.3635123370474889\n",
      "1.429437442158506\n",
      "1.4965033788967752\n",
      "1.5640022802344904\n",
      "1.6311231270849003\n",
      "1.6969855549473505\n",
      "1.7606875094969714\n",
      "1.821362659674955\n",
      "1.8782404675959476\n",
      "1.930700009196379\n",
      "1.9783089472809865\n",
      "2.0208417065692057\n",
      "2.0582751831448975\n",
      "2.090764845528107\n",
      "2.118607415721545\n",
      "2.1421976265432066\n",
      "2.1619858762300224\n",
      "2.178441640823547\n",
      "2.1920251576443675\n",
      "2.203167862727841\n",
      "2.2122606942724694\n",
      "2.2196486877629633\n",
      "2.2256301304909205\n",
      "2.2304587076907274\n",
      "2.234347382687595\n",
      "2.2374730902946083\n",
      "2.239981621916576\n",
      "2.2419923174775156\n",
      "2.243602351591089\n",
      "2.2448905184851697\n",
      "2.2459204946033684\n",
      "2.2467436015363202\n",
      "2.2474011148628947\n",
      "2.2479261740485823\n",
      "2.2483453500247714\n",
      "2.2486799240099864\n",
      "2.2489469258218673\n",
      "2.2491599737759116\n",
      "2.2493299520940697\n",
      "2.249465555993498\n",
      "2.24957372949745\n",
      "2.249660016570137\n",
      "2.2497288424102844\n",
      "2.24978373858824\n",
      "2.2498275231061067\n",
      "2.249862444322635\n",
      "2.249890295941524\n",
      "2.249912508847122\n",
      "2.24993022442776\n",
      "2.249944353104799\n",
      "2.2499556210437\n",
      "2.2499646074278457\n",
      "The local minimum occurs at 2.2499646074278457\n"
     ]
    }
   ],
   "source": [
    "xc = 6\n",
    "alpha = 0.01\n",
    "stop_precision = 0.00001\n",
    "delta = 1\n",
    "\n",
    "function df(x)\n",
    "   return 4x^3 - 9x^2\n",
    "end\n",
    "\n",
    "while delta > stop_precision\n",
    "    xprev = xc\n",
    "    xc -= alpha * df(xprev) # Picard's Method\n",
    "    println(xc)\n",
    "    delta = abs(xc - xprev)\n",
    "end\n",
    "\n",
    "println(\"The local minimum occurs at $xc\")"
   ]
  },
  {
   "cell_type": "code",
   "execution_count": 24,
   "metadata": {},
   "outputs": [
    {
     "data": {
      "text/plain": [
       "0.01"
      ]
     },
     "execution_count": 24,
     "metadata": {},
     "output_type": "execute_result"
    }
   ],
   "source": [
    "x = [0,0]   # initial guess\n",
    "alpha = 0.01    # fixed step size"
   ]
  },
  {
   "cell_type": "code",
   "execution_count": 25,
   "metadata": {},
   "outputs": [
    {
     "data": {
      "text/plain": [
       "2×2 Array{Float64,2}:\n",
       "  1.69751   -0.459338\n",
       " -0.459338   1.30249 "
      ]
     },
     "execution_count": 25,
     "metadata": {},
     "output_type": "execute_result"
    }
   ],
   "source": [
    "include(\"gen_eigm.jl\")\n",
    "using LinearAlgebra\n",
    "\n",
    "A = gen_eigm([1,2])"
   ]
  },
  {
   "cell_type": "code",
   "execution_count": 28,
   "metadata": {},
   "outputs": [
    {
     "data": {
      "text/plain": [
       "0.909601642647314"
      ]
     },
     "execution_count": 28,
     "metadata": {},
     "output_type": "execute_result"
    }
   ],
   "source": [
    "b = rand(2)\n",
    "norm(A*x-b)"
   ]
  },
  {
   "cell_type": "code",
   "execution_count": 29,
   "metadata": {},
   "outputs": [
    {
     "data": {
      "text/plain": [
       "2-element Array{Float64,1}:\n",
       " 0.006022973776384799\n",
       " 0.014891049242924484"
      ]
     },
     "execution_count": 29,
     "metadata": {},
     "output_type": "execute_result"
    }
   ],
   "source": [
    "xnext = x + alpha*A'*(b-A*x)"
   ]
  },
  {
   "cell_type": "code",
   "execution_count": 30,
   "metadata": {},
   "outputs": [
    {
     "data": {
      "text/plain": [
       "2-element Array{Float64,1}:\n",
       " 0.006022973776384799\n",
       " 0.014891049242924484"
      ]
     },
     "execution_count": 30,
     "metadata": {},
     "output_type": "execute_result"
    }
   ],
   "source": [
    "x = xnext"
   ]
  },
  {
   "cell_type": "code",
   "execution_count": 31,
   "metadata": {},
   "outputs": [
    {
     "data": {
      "text/plain": [
       "0.8987747905118636"
      ]
     },
     "execution_count": 31,
     "metadata": {},
     "output_type": "execute_result"
    }
   ],
   "source": [
    "norm(A*x-b)"
   ]
  },
  {
   "cell_type": "code",
   "execution_count": 35,
   "metadata": {},
   "outputs": [
    {
     "name": "stdout",
     "output_type": "stream",
     "text": [
      "0.28547408699071375\n",
      "0.2826187574405508\n",
      "0.27979202185723606\n",
      "0.2769935914912188\n",
      "0.274223180674564\n",
      "0.2714805067767261\n",
      "0.26876529016169187\n",
      "0.2660772541464136\n",
      "0.2634161249604611\n",
      "0.26078163170682384\n"
     ]
    }
   ],
   "source": [
    "for i in 1:10\n",
    "    xnext = x + alpha*A'*(b-A*x)\n",
    "    x = xnext\n",
    "    println(norm(A*x-b))\n",
    "end"
   ]
  },
  {
   "cell_type": "code",
   "execution_count": 36,
   "metadata": {},
   "outputs": [
    {
     "data": {
      "text/plain": [
       "2-element Array{Float64,1}:\n",
       " 0.24986698503218854\n",
       " 0.5850328263896201 "
      ]
     },
     "execution_count": 36,
     "metadata": {},
     "output_type": "execute_result"
    }
   ],
   "source": [
    "x"
   ]
  },
  {
   "cell_type": "markdown",
   "metadata": {},
   "source": [
    "## Pick a better alpha"
   ]
  },
  {
   "cell_type": "code",
   "execution_count": 37,
   "metadata": {},
   "outputs": [
    {
     "data": {
      "text/plain": [
       "0.49285293704339844"
      ]
     },
     "execution_count": 37,
     "metadata": {},
     "output_type": "execute_result"
    }
   ],
   "source": [
    "alpha = norm(A'*(A*x-b))^2/norm(A*A'*(A*x-b))^2"
   ]
  },
  {
   "cell_type": "code",
   "execution_count": 65,
   "metadata": {},
   "outputs": [
    {
     "data": {
      "text/plain": [
       "0.6405016951508659"
      ]
     },
     "execution_count": 65,
     "metadata": {},
     "output_type": "execute_result"
    }
   ],
   "source": [
    "x = [0,0]   # initial guess\n",
    "A = gen_eigm([1,2])\n",
    "b = rand(2)\n",
    "norm(A*x-b)"
   ]
  },
  {
   "cell_type": "code",
   "execution_count": 66,
   "metadata": {},
   "outputs": [
    {
     "data": {
      "text/plain": [
       "2-element Array{Float64,1}:\n",
       " 0.12618332951250405\n",
       " 0.26975849090142756"
      ]
     },
     "execution_count": 66,
     "metadata": {},
     "output_type": "execute_result"
    }
   ],
   "source": [
    "alpha = norm(A'*(A*x-b))^2/norm(A*A'*(A*x-b))^2\n",
    "xnext = x + alpha*A'*(b-A*x)\n",
    "x = xnext"
   ]
  },
  {
   "cell_type": "code",
   "execution_count": 67,
   "metadata": {},
   "outputs": [
    {
     "name": "stdout",
     "output_type": "stream",
     "text": [
      "0.18695251323272505\n",
      "0.10100359225017792\n",
      "0.05456853973789979\n",
      "0.029481382422034647\n",
      "0.015927710612908257\n",
      "0.008605158392400851\n",
      "0.0046490517537590035\n",
      "0.0025117123036591704\n",
      "0.0013569861189977367\n",
      "0.0007331298749740776\n",
      "0.00039608320678809005\n",
      "0.00021398924263597635\n",
      "0.00011561054641843978\n",
      "6.246014182076746e-5\n",
      "3.374492584920202e-5\n",
      "1.8231146894178925e-5\n",
      "9.849620608539573e-6\n",
      "5.321389087352569e-6\n",
      "2.87495152801881e-6\n",
      "1.5532309614512009e-6\n"
     ]
    }
   ],
   "source": [
    "for i in 1:20\n",
    "    alpha = norm(A'*(A*x-b))^2/norm(A*A'*(A*x-b))^2\n",
    "    xnext = x + alpha*A'*(b-A*x)\n",
    "    x = xnext\n",
    "    println(norm(A*x-b))\n",
    "#    println(x)\n",
    "end"
   ]
  },
  {
   "cell_type": "code",
   "execution_count": null,
   "metadata": {},
   "outputs": [],
   "source": []
  },
  {
   "cell_type": "code",
   "execution_count": null,
   "metadata": {},
   "outputs": [],
   "source": []
  }
 ],
 "metadata": {
  "kernelspec": {
   "display_name": "Julia 1.0.0",
   "language": "julia",
   "name": "julia-1.0"
  },
  "language_info": {
   "file_extension": ".jl",
   "mimetype": "application/julia",
   "name": "julia",
   "version": "1.0.0"
  }
 },
 "nbformat": 4,
 "nbformat_minor": 2
}
