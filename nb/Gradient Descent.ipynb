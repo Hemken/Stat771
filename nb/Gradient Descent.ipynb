{
 "cells": [
  {
   "cell_type": "markdown",
   "metadata": {},
   "source": [
    "# Gradient Descent"
   ]
  },
  {
   "cell_type": "code",
   "execution_count": null,
   "metadata": {},
   "outputs": [],
   "source": [
    "cur_x = 6;\n",
    "gamma = 0.01;\n",
    "precision = 0.00001;\n",
    "previous_step_size = 1;\n",
    "\n",
    "df = (x) -> 4x^3 - 9x^2;\n",
    "\n",
    "while previous_step_size > precision\n",
    "    prev_x = cur_x;\n",
    "    cur_x -= gamma * df(prev_x);\n",
    "    previous_step_size = abs(cur_x - prev_x);\n",
    "end\n",
    "\n",
    "println(\"The local minimum occurs at $cur_x\");"
   ]
  },
  {
   "cell_type": "code",
   "execution_count": 24,
   "metadata": {},
   "outputs": [
    {
     "data": {
      "text/plain": [
       "0.01"
      ]
     },
     "execution_count": 24,
     "metadata": {},
     "output_type": "execute_result"
    }
   ],
   "source": [
    "x = [0,0]   # initial guess\n",
    "alpha = 0.01    # fixed step size"
   ]
  },
  {
   "cell_type": "code",
   "execution_count": 25,
   "metadata": {},
   "outputs": [
    {
     "data": {
      "text/plain": [
       "2×2 Array{Float64,2}:\n",
       "  1.69751   -0.459338\n",
       " -0.459338   1.30249 "
      ]
     },
     "execution_count": 25,
     "metadata": {},
     "output_type": "execute_result"
    }
   ],
   "source": [
    "include(\"gen_eigm.jl\")\n",
    "using LinearAlgebra\n",
    "\n",
    "A = gen_eigm([1,2])"
   ]
  },
  {
   "cell_type": "code",
   "execution_count": 28,
   "metadata": {},
   "outputs": [
    {
     "data": {
      "text/plain": [
       "0.909601642647314"
      ]
     },
     "execution_count": 28,
     "metadata": {},
     "output_type": "execute_result"
    }
   ],
   "source": [
    "b = rand(2)\n",
    "norm(A*x-b)"
   ]
  },
  {
   "cell_type": "code",
   "execution_count": 29,
   "metadata": {},
   "outputs": [
    {
     "data": {
      "text/plain": [
       "2-element Array{Float64,1}:\n",
       " 0.006022973776384799\n",
       " 0.014891049242924484"
      ]
     },
     "execution_count": 29,
     "metadata": {},
     "output_type": "execute_result"
    }
   ],
   "source": [
    "xnext = x + alpha*A'*(b-A*x)"
   ]
  },
  {
   "cell_type": "code",
   "execution_count": 30,
   "metadata": {},
   "outputs": [
    {
     "data": {
      "text/plain": [
       "2-element Array{Float64,1}:\n",
       " 0.006022973776384799\n",
       " 0.014891049242924484"
      ]
     },
     "execution_count": 30,
     "metadata": {},
     "output_type": "execute_result"
    }
   ],
   "source": [
    "x = xnext"
   ]
  },
  {
   "cell_type": "code",
   "execution_count": 31,
   "metadata": {},
   "outputs": [
    {
     "data": {
      "text/plain": [
       "0.8987747905118636"
      ]
     },
     "execution_count": 31,
     "metadata": {},
     "output_type": "execute_result"
    }
   ],
   "source": [
    "norm(A*x-b)"
   ]
  },
  {
   "cell_type": "code",
   "execution_count": 35,
   "metadata": {},
   "outputs": [
    {
     "name": "stdout",
     "output_type": "stream",
     "text": [
      "0.28547408699071375\n",
      "0.2826187574405508\n",
      "0.27979202185723606\n",
      "0.2769935914912188\n",
      "0.274223180674564\n",
      "0.2714805067767261\n",
      "0.26876529016169187\n",
      "0.2660772541464136\n",
      "0.2634161249604611\n",
      "0.26078163170682384\n"
     ]
    }
   ],
   "source": [
    "for i in 1:10\n",
    "    xnext = x + alpha*A'*(b-A*x)\n",
    "    x = xnext\n",
    "    println(norm(A*x-b))\n",
    "end"
   ]
  },
  {
   "cell_type": "code",
   "execution_count": 36,
   "metadata": {},
   "outputs": [
    {
     "data": {
      "text/plain": [
       "2-element Array{Float64,1}:\n",
       " 0.24986698503218854\n",
       " 0.5850328263896201 "
      ]
     },
     "execution_count": 36,
     "metadata": {},
     "output_type": "execute_result"
    }
   ],
   "source": [
    "x"
   ]
  },
  {
   "cell_type": "markdown",
   "metadata": {},
   "source": [
    "## Pick a better alpha"
   ]
  },
  {
   "cell_type": "code",
   "execution_count": 37,
   "metadata": {},
   "outputs": [
    {
     "data": {
      "text/plain": [
       "0.49285293704339844"
      ]
     },
     "execution_count": 37,
     "metadata": {},
     "output_type": "execute_result"
    }
   ],
   "source": [
    "alpha = norm(A'*(A*x-b))^2/norm(A*A'*(A*x-b))^2"
   ]
  },
  {
   "cell_type": "code",
   "execution_count": 65,
   "metadata": {},
   "outputs": [
    {
     "data": {
      "text/plain": [
       "0.6405016951508659"
      ]
     },
     "execution_count": 65,
     "metadata": {},
     "output_type": "execute_result"
    }
   ],
   "source": [
    "x = [0,0]   # initial guess\n",
    "A = gen_eigm([1,2])\n",
    "b = rand(2)\n",
    "norm(A*x-b)"
   ]
  },
  {
   "cell_type": "code",
   "execution_count": 66,
   "metadata": {},
   "outputs": [
    {
     "data": {
      "text/plain": [
       "2-element Array{Float64,1}:\n",
       " 0.12618332951250405\n",
       " 0.26975849090142756"
      ]
     },
     "execution_count": 66,
     "metadata": {},
     "output_type": "execute_result"
    }
   ],
   "source": [
    "alpha = norm(A'*(A*x-b))^2/norm(A*A'*(A*x-b))^2\n",
    "xnext = x + alpha*A'*(b-A*x)\n",
    "x = xnext"
   ]
  },
  {
   "cell_type": "code",
   "execution_count": 67,
   "metadata": {},
   "outputs": [
    {
     "name": "stdout",
     "output_type": "stream",
     "text": [
      "0.18695251323272505\n",
      "0.10100359225017792\n",
      "0.05456853973789979\n",
      "0.029481382422034647\n",
      "0.015927710612908257\n",
      "0.008605158392400851\n",
      "0.0046490517537590035\n",
      "0.0025117123036591704\n",
      "0.0013569861189977367\n",
      "0.0007331298749740776\n",
      "0.00039608320678809005\n",
      "0.00021398924263597635\n",
      "0.00011561054641843978\n",
      "6.246014182076746e-5\n",
      "3.374492584920202e-5\n",
      "1.8231146894178925e-5\n",
      "9.849620608539573e-6\n",
      "5.321389087352569e-6\n",
      "2.87495152801881e-6\n",
      "1.5532309614512009e-6\n"
     ]
    }
   ],
   "source": [
    "for i in 1:20\n",
    "    alpha = norm(A'*(A*x-b))^2/norm(A*A'*(A*x-b))^2\n",
    "    xnext = x + alpha*A'*(b-A*x)\n",
    "    x = xnext\n",
    "    println(norm(A*x-b))\n",
    "#    println(x)\n",
    "end"
   ]
  },
  {
   "cell_type": "code",
   "execution_count": null,
   "metadata": {},
   "outputs": [],
   "source": []
  },
  {
   "cell_type": "code",
   "execution_count": null,
   "metadata": {},
   "outputs": [],
   "source": []
  }
 ],
 "metadata": {
  "kernelspec": {
   "display_name": "Julia 1.0.0",
   "language": "julia",
   "name": "julia-1.0"
  },
  "language_info": {
   "file_extension": ".jl",
   "mimetype": "application/julia",
   "name": "julia",
   "version": "1.0.0"
  }
 },
 "nbformat": 4,
 "nbformat_minor": 2
}
