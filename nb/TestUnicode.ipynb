{
 "cells": [
  {
   "cell_type": "markdown",
   "metadata": {},
   "source": [
    "# Test\n",
    "\n",
    "This file shows how certain Unicode characters break Jupyter $\\rightarrow$ PDF conversion.  A partial work around is Jupyter $\\rightarrow$ LaTeX conversion, followed by LaTeX $\\rightarrow$ PDF conversion in batch mode using MikTeX, or using Overleaf.\n",
    "\n",
    "Using Overleaf has the advantage that the editor shows you ***interactively*** which lines of text are broken, with a red symbol in the left margin.\n",
    "\n",
    "Both paths produce PDFs, but with defects, i.e. text not rendered as intended.\n",
    "\n",
    "In the following code block, symbols for a norm, e.g. $\\lVert S \\rVert$ are not interpreted, and a subscripting letter, e.g. $S_a$ is not interpreted.  (The symbols you see *here* are created with LaTeX code, and not directly as Unicode.)\n"
   ]
  },
  {
   "cell_type": "code",
   "execution_count": 2,
   "metadata": {},
   "outputs": [
    {
     "data": {
      "text/plain": [
       "backtrack"
      ]
     },
     "execution_count": 2,
     "metadata": {},
     "output_type": "execute_result"
    }
   ],
   "source": [
    "\"\"\"\n",
    "Name: backtrack \\n\n",
    "Description: implements backtracking line search on 0.5‖S‖² \\n\n",
    "INPUTS: \\n\n",
    "1. S (Function), evaluates the system\n",
    "2. ∇S₀ (Function), Jacobian evaluated at a point X₀\n",
    "3. p (Array{Float64,1}), search direction\n",
    "4. X₀ (Array{Float64,1}), starting point\n",
    "5. α₀ (Float64), starting search length defaults to 1\n",
    "6. ρ (Float64), decay of search length, defaults to 0.5\n",
    "7. c (Float64), slope relaxation value, defaults to 0.2 \\n\n",
    "\n",
    "OUTPUTS: \\n\n",
    "1. α (Float64), step length\n",
    "2. funcEvals (Int64), number of function evaluations\n",
    "\"\"\"\n",
    "function backtrack(S,∇S₀,p,X₀,α₀ = 1.0, ρ = 0.5, c = 0.2)\n",
    "  S₀ = S(X₀)\n",
    "  relaxSlope = c*p'*(∇S₀'*S₀)\n",
    "  condition(step) = 0.5*dot(S₀,S₀) + step*relaxSlope[1]\n",
    "\n",
    "  α = deepcopy(α₀)\n",
    "  Sₐ = S₀ #Ensures appropriate scope of Sₐ\n",
    "  try\n",
    "    Sₐ = S(X₀ + α*p)\n",
    "  catch\n",
    "  end\n",
    "  funcEvals = 2\n",
    "  while 0.5*dot(Sₐ,Sₐ) > condition(α)\n",
    "    α = ρ*α\n",
    "    try\n",
    "      Sₐ = S(X₀ + α*p)\n",
    "    catch\n",
    "      continue\n",
    "    end\n",
    "    funcEvals += 1\n",
    "  end\n",
    "\n",
    "  return α, funcEvals\n",
    "end"
   ]
  },
  {
   "cell_type": "code",
   "execution_count": null,
   "metadata": {},
   "outputs": [],
   "source": []
  }
 ],
 "metadata": {
  "kernelspec": {
   "display_name": "Julia 1.0.0",
   "language": "julia",
   "name": "julia-1.0"
  },
  "language_info": {
   "file_extension": ".jl",
   "mimetype": "application/julia",
   "name": "julia",
   "version": "1.0.0"
  }
 },
 "nbformat": 4,
 "nbformat_minor": 2
}
