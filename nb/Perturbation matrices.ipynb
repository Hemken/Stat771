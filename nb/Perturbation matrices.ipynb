{
 "cells": [
  {
   "cell_type": "markdown",
   "metadata": {},
   "source": [
    "# Perturbed Matrix\n",
    "\n",
    "(The ordering of these perturbations seems to matter.)"
   ]
  },
  {
   "cell_type": "code",
   "execution_count": 12,
   "metadata": {},
   "outputs": [
    {
     "data": {
      "text/plain": [
       "pertmat (generic function with 1 method)"
      ]
     },
     "execution_count": 12,
     "metadata": {},
     "output_type": "execute_result"
    }
   ],
   "source": [
    "function pertmat(n,m, delta)\n",
    "    P = zeros(n,m)\n",
    "    P[1,:] = repeat(1:1, inner=m)\n",
    "    for i = 1:(min(n,m)-1)\n",
    "        P[i+1,i] = delta\n",
    "    end\n",
    "    return P\n",
    "end"
   ]
  },
  {
   "cell_type": "code",
   "execution_count": 13,
   "metadata": {},
   "outputs": [
    {
     "data": {
      "text/plain": [
       "5×5 Array{Float64,2}:\n",
       " 1.0     1.0     1.0     1.0     1.0\n",
       " 1.0e-8  0.0     0.0     0.0     0.0\n",
       " 0.0     1.0e-8  0.0     0.0     0.0\n",
       " 0.0     0.0     1.0e-8  0.0     0.0\n",
       " 0.0     0.0     0.0     1.0e-8  0.0"
      ]
     },
     "execution_count": 13,
     "metadata": {},
     "output_type": "execute_result"
    }
   ],
   "source": [
    "pertmat(5,5,1e-8)"
   ]
  },
  {
   "cell_type": "code",
   "execution_count": null,
   "metadata": {},
   "outputs": [],
   "source": []
  }
 ],
 "metadata": {
  "kernelspec": {
   "display_name": "Julia 1.0.0",
   "language": "julia",
   "name": "julia-1.0"
  },
  "language_info": {
   "file_extension": ".jl",
   "mimetype": "application/julia",
   "name": "julia",
   "version": "1.0.0"
  }
 },
 "nbformat": 4,
 "nbformat_minor": 2
}
