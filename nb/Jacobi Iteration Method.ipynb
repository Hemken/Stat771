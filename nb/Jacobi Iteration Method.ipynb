{
 "cells": [
  {
   "cell_type": "markdown",
   "metadata": {},
   "source": [
    "# Jacobi Method"
   ]
  },
  {
   "cell_type": "code",
   "execution_count": 199,
   "metadata": {},
   "outputs": [
    {
     "data": {
      "text/plain": [
       "jim (generic function with 1 method)"
      ]
     },
     "execution_count": 199,
     "metadata": {},
     "output_type": "execute_result"
    }
   ],
   "source": [
    "function jacobiIteration(A, b, x; iterMax=100)\n",
    "    \"\"\"Implements the Jacobi iteration.\n",
    "    A is the coefficient matrix.\n",
    "    b is the constant matrix.\n",
    "    x is an initial guess.\"\"\"\n",
    "\n",
    "    D = Diagonal(A)\n",
    "    f = D\\b  # x1, with x0 = zeros\n",
    "    G = D\\(D - A)\n",
    "#    println(x)\n",
    "    for j=1:iterMax\n",
    "        x = G*x + f\n",
    "#        println(x)\n",
    "    end\n",
    "    return x, maximum(abs.(eigvals(G)))\n",
    "end\n",
    "\n",
    "function jim(A, b, x; iterMax=20)\n",
    "    \"\"\"The Jacobi iteration method.\n",
    "    A is the predictor matrix.\n",
    "    b is the outcome matrix.\n",
    "    x is an initial guess (not used).\"\"\"\n",
    "\n",
    "    D = Diagonal(A)\n",
    "    G = A-D\n",
    "    x = diag(A).\\b\n",
    "    \n",
    "    steps = Matrix{Float64}(undef, iterMax, 3)\n",
    "    \n",
    "    j = 1\n",
    "    while (j<=iterMax) && !(j>=2 && (steps[j-1,2]-steps[j,2]<1e-5))\n",
    "#    for j=1:iterMax\n",
    "        x = (b.-(G*x))./diag(A)\n",
    "        steps[j,1] = j\n",
    "        steps[j,2] = norm(b-A*x)\n",
    "        steps[j,3] = norm(b-A*x, 1)\n",
    "        j = j + 1\n",
    "    end\n",
    "    return x, steps, maximum(abs.(eigvals(D\\(G))))\n",
    "end"
   ]
  },
  {
   "cell_type": "markdown",
   "metadata": {},
   "source": [
    "# Random, Diagonal Dominant, Consistent Linear Equation Systems\n",
    "We fill matrix A with random numbers, adding a constant signal along the diagonal.  We fill x with random coefficients.  We calculate b, the outcome, with no error term."
   ]
  },
  {
   "cell_type": "code",
   "execution_count": 150,
   "metadata": {},
   "outputs": [
    {
     "data": {
      "text/plain": [
       "generateProblem (generic function with 2 methods)"
      ]
     },
     "execution_count": 150,
     "metadata": {},
     "output_type": "execute_result"
    }
   ],
   "source": [
    "using LinearAlgebra\n",
    "function generateProblem(n, cons=sqrt(n))\n",
    "    A = randn(n,n)  + cons*I\n",
    "    x = randn(n)\n",
    "    b = A*x\n",
    "    return A, b, x\n",
    "end"
   ]
  },
  {
   "cell_type": "code",
   "execution_count": 205,
   "metadata": {},
   "outputs": [
    {
     "data": {
      "text/plain": [
       "([2.88831 -2.41962 … 1.06711 -0.86444; -1.61088 2.59538 … 1.14407 1.35948; … ; 0.408235 0.513893 … 3.38976 1.78083; -0.134781 1.00677 … 0.974208 2.9924], [7.38369, -3.3194, 4.24042, 0.356399, 5.27012, -1.22696, -9.96831, -6.31753, 2.37757, 0.913604], [0.927309, -0.597019, 0.720918, 0.323335, 2.14422, -0.80356, -2.47435, 1.14933, 0.17129, 0.0380224])"
      ]
     },
     "execution_count": 205,
     "metadata": {},
     "output_type": "execute_result"
    }
   ],
   "source": [
    "A,b,x = generateProblem(10)"
   ]
  },
  {
   "cell_type": "code",
   "execution_count": 206,
   "metadata": {},
   "outputs": [
    {
     "data": {
      "text/plain": [
       "([0.713691, -0.446763, 0.761174, 0.284817, 2.14675, -0.801762, -2.47503, 1.16357, 0.23962, 0.143287], 0.9983801697374812)"
      ]
     },
     "execution_count": 206,
     "metadata": {},
     "output_type": "execute_result"
    }
   ],
   "source": [
    "jacobiIteration(A,b,zeros(length(b)))"
   ]
  },
  {
   "cell_type": "code",
   "execution_count": 207,
   "metadata": {},
   "outputs": [
    {
     "name": "stdout",
     "output_type": "stream",
     "text": [
      "[0.927309, -0.597019, 0.720918, 0.323335, 2.14422, -0.80356, -2.47435, 1.14933, 0.17129, 0.0380224]"
     ]
    }
   ],
   "source": [
    "show(x)"
   ]
  },
  {
   "cell_type": "code",
   "execution_count": 208,
   "metadata": {},
   "outputs": [
    {
     "data": {
      "text/plain": [
       "([1.07318, -0.821946, 0.650927, 0.303154, 2.13373, -0.847816, -2.47774, 1.15841, 0.111324, -0.0699269], [1.0 10.1468 28.5118; 2.0 7.95831 20.8269; … ; 99.0 1.65363 3.65592; 100.0 1.65135 3.64934], 0.9983801697374812)"
      ]
     },
     "execution_count": 208,
     "metadata": {},
     "output_type": "execute_result"
    }
   ],
   "source": [
    "y, steps, radius = jim(A,b,zeros(length(b)); iterMax=100)"
   ]
  },
  {
   "cell_type": "code",
   "execution_count": 209,
   "metadata": {},
   "outputs": [
    {
     "name": "stdout",
     "output_type": "stream",
     "text": [
      "[1.07318, -0.821946, 0.650927, 0.303154, 2.13373, -0.847816, -2.47774, 1.15841, 0.111324, -0.0699269]\n",
      "[0.927309, -0.597019, 0.720918, 0.323335, 2.14422, -0.80356, -2.47435, 1.14933, 0.17129, 0.0380224]\n"
     ]
    }
   ],
   "source": [
    "println(y)\n",
    "println(x)"
   ]
  },
  {
   "cell_type": "code",
   "execution_count": 156,
   "metadata": {},
   "outputs": [
    {
     "data": {
      "text/plain": [
       "3-element Array{Int64,1}:\n",
       "   8\n",
       " -14\n",
       "  27"
      ]
     },
     "execution_count": 156,
     "metadata": {},
     "output_type": "execute_result"
    }
   ],
   "source": [
    "A = [4 2 3;3 -5 2;-2 3 8]\n",
    "b = [8;-14;27]"
   ]
  },
  {
   "cell_type": "code",
   "execution_count": 157,
   "metadata": {},
   "outputs": [
    {
     "data": {
      "text/plain": [
       "([-1.0, 3.0, 2.0], 0.8179284347670843)"
      ]
     },
     "execution_count": 157,
     "metadata": {},
     "output_type": "execute_result"
    }
   ],
   "source": [
    "jacobiIteration(A,b,zeros(3))"
   ]
  },
  {
   "cell_type": "code",
   "execution_count": 159,
   "metadata": {},
   "outputs": [
    {
     "data": {
      "text/plain": [
       "([-1.0, 3.0, 2.0], [1.0 20.4643 31.8563; 2.0 14.0849 23.4516; … ; 99.0 4.8202e-8 6.83482e-8; 100.0 4.67491e-8 7.57667e-8], 0.8179284347670843)"
      ]
     },
     "execution_count": 159,
     "metadata": {},
     "output_type": "execute_result"
    }
   ],
   "source": [
    "jim(A,b,zeros(3);iterMax=100)"
   ]
  },
  {
   "cell_type": "code",
   "execution_count": null,
   "metadata": {},
   "outputs": [],
   "source": []
  },
  {
   "cell_type": "code",
   "execution_count": null,
   "metadata": {},
   "outputs": [],
   "source": []
  }
 ],
 "metadata": {
  "kernelspec": {
   "display_name": "Julia 1.0.0",
   "language": "julia",
   "name": "julia-1.0"
  },
  "language_info": {
   "file_extension": ".jl",
   "mimetype": "application/julia",
   "name": "julia",
   "version": "1.0.0"
  }
 },
 "nbformat": 4,
 "nbformat_minor": 2
}
