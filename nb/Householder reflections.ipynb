{
 "cells": [
  {
   "cell_type": "markdown",
   "metadata": {},
   "source": [
    "# Householder Reflections\n",
    "\n",
    "Given a vector, $v$, find the matrix that calculates $v$'s reflection such that the first element is the norm of $v$ and the remaining elements are all zero.\n",
    "\n",
    "## An Arbitrary Reflection\n",
    "First, given a vector, we will find the matrix which gives projections across a plane orthogonal to our vector.\n"
   ]
  },
  {
   "cell_type": "code",
   "execution_count": 8,
   "metadata": {},
   "outputs": [
    {
     "data": {
      "text/plain": [
       "2-element Array{Float64,1}:\n",
       " 1.0\n",
       " 1.0"
      ]
     },
     "execution_count": 8,
     "metadata": {},
     "output_type": "execute_result"
    }
   ],
   "source": [
    "v = [1.,1.]"
   ]
  },
  {
   "cell_type": "markdown",
   "metadata": {},
   "source": [
    "The reflector matrix orthogonal to $v$, $H$, is given by"
   ]
  },
  {
   "cell_type": "code",
   "execution_count": 9,
   "metadata": {},
   "outputs": [
    {
     "data": {
      "text/plain": [
       "2×2 Array{Float64,2}:\n",
       "  0.0  -1.0\n",
       " -1.0   0.0"
      ]
     },
     "execution_count": 9,
     "metadata": {},
     "output_type": "execute_result"
    }
   ],
   "source": [
    "using LinearAlgebra\n",
    "H = I - 2/(v'*v)*v*v' # Househoulder matrix H, based on Householder vector v"
   ]
  },
  {
   "cell_type": "markdown",
   "metadata": {},
   "source": [
    "The reflection of $v$ itself ($v$ reversed) is given by"
   ]
  },
  {
   "cell_type": "code",
   "execution_count": 10,
   "metadata": {},
   "outputs": [
    {
     "data": {
      "text/plain": [
       "2-element Array{Float64,1}:\n",
       " -1.0\n",
       " -1.0"
      ]
     },
     "execution_count": 10,
     "metadata": {},
     "output_type": "execute_result"
    }
   ],
   "source": [
    "H*v"
   ]
  },
  {
   "cell_type": "markdown",
   "metadata": {},
   "source": [
    "$H$ is orthogonal (and symmetric)"
   ]
  },
  {
   "cell_type": "code",
   "execution_count": 11,
   "metadata": {},
   "outputs": [
    {
     "data": {
      "text/plain": [
       "2×2 Array{Float64,2}:\n",
       "  1.0  -0.0\n",
       " -0.0   1.0"
      ]
     },
     "execution_count": 11,
     "metadata": {},
     "output_type": "execute_result"
    }
   ],
   "source": [
    "H*H'"
   ]
  },
  {
   "cell_type": "markdown",
   "metadata": {},
   "source": [
    "Apply $H$ to an arbitrary $x$.  Then $x$ is reflected across the line orthogonal to $v$."
   ]
  },
  {
   "cell_type": "code",
   "execution_count": 12,
   "metadata": {},
   "outputs": [
    {
     "data": {
      "text/plain": [
       "2-element Array{Float64,1}:\n",
       " -2.0\n",
       " -1.0"
      ]
     },
     "execution_count": 12,
     "metadata": {},
     "output_type": "execute_result"
    }
   ],
   "source": [
    "x = [1;2]\n",
    "H*x"
   ]
  },
  {
   "cell_type": "markdown",
   "metadata": {},
   "source": [
    "## Reflection onto a standard basis vector\n",
    "Next, given an arbitrary vector $a$, we want a reflection matrix $H$ which generates a reflection whose first element is the norm of $a$ and whose remaining elements are all zero."
   ]
  },
  {
   "cell_type": "code",
   "execution_count": 6,
   "metadata": {},
   "outputs": [
    {
     "data": {
      "text/plain": [
       "householder (generic function with 1 method)"
      ]
     },
     "execution_count": 6,
     "metadata": {},
     "output_type": "execute_result"
    }
   ],
   "source": [
    "# Householder Reflection\n",
    "using LinearAlgebra\n",
    "function householder(a)\n",
    "    \"\"\"\n",
    "    Computes the householder reflection (matrix)\n",
    "    given a nonzero vector a.\n",
    "    \"\"\"\n",
    "    nrm_a = norm(a,2)\n",
    "#    display(nrm_a)\n",
    "    nrm_a == 0 && error(\"Input vector is zero.\")\n",
    "    \n",
    "    d = length(a)\n",
    "    v = copy(a)\n",
    "    v[1] = v[1] - nrm_a\n",
    "    H = Matrix(I,d,d) - (2/dot(v,v))*v*v'\n",
    "    return H\n",
    "end"
   ]
  },
  {
   "cell_type": "code",
   "execution_count": 15,
   "metadata": {},
   "outputs": [
    {
     "data": {
      "text/plain": [
       "10-element Array{Float64,1}:\n",
       "  1.7450015906792058    \n",
       " -9.475249361165505e-17 \n",
       " -2.6105555434377536e-17\n",
       " -3.290214780314604e-17 \n",
       " -1.5576935900006583e-18\n",
       " -5.3998350387461647e-17\n",
       " -2.856353916819111e-19 \n",
       "  2.1836509380215863e-18\n",
       " -9.706828168944831e-17 \n",
       " -1.8214596497756474e-17"
      ]
     },
     "metadata": {},
     "output_type": "display_data"
    },
    {
     "name": "stdout",
     "output_type": "stream",
     "text": [
      "\u001b[31mEXAMPLE: Householder Reflection\u001b[39m\n",
      "Householder reflection, applied to the vector.\n",
      "Norm of the original vector:\n",
      "    1.745001590679206\n",
      "Norm of the projection:\n",
      "    1.7450015906792058\n"
     ]
    }
   ],
   "source": [
    "#Example of Householder Reflection\n",
    "\n",
    "printstyled(\n",
    "\"EXAMPLE: Householder Reflection\\n\", color=:red)\n",
    "println(\"Householder reflection, applied to the vector.\")\n",
    "a = rand(10)\n",
    "H = householder(a)\n",
    "\n",
    "display(H*a)\n",
    "println(\"Norm of the original vector:\n",
    "    $(norm(a))\")\n",
    "println(\"Norm of the projection:\n",
    "    $(norm(H*a))\")"
   ]
  },
  {
   "cell_type": "markdown",
   "metadata": {},
   "source": [
    "## A Series of Reflections"
   ]
  },
  {
   "cell_type": "code",
   "execution_count": 31,
   "metadata": {},
   "outputs": [
    {
     "data": {
      "text/plain": [
       "house (generic function with 1 method)"
      ]
     },
     "execution_count": 31,
     "metadata": {},
     "output_type": "execute_result"
    }
   ],
   "source": [
    "function house(x)\n",
    "    # from Golub & Van Loan 2013\n",
    "    m = length(x)\n",
    "    σ = x[2:m]'*x[2:m]\n",
    "    v = [1; x[2:m]]\n",
    "    \n",
    "    if σ == 0 \n",
    "        if x[1] >= 0\n",
    "            β = 0\n",
    "        else  \n",
    "            β = -2\n",
    "        end\n",
    "    else\n",
    "        μ = sqrt(x[1]^2 + σ )\n",
    "        if x[1] <= 0\n",
    "            v[1] = x[1] - μ\n",
    "        else\n",
    "            v[1] = -σ + v[1]^2\n",
    "        end\n",
    "    end\n",
    "    β = 2*v[1]^2/(σ+v[1]^2)\n",
    "    v = v/v[1]\n",
    "    return v, β\n",
    "end"
   ]
  },
  {
   "cell_type": "code",
   "execution_count": 120,
   "metadata": {},
   "outputs": [
    {
     "data": {
      "text/plain": [
       "([1.0, -0.0786823, -0.739686, -1.22818, -0.92047], 0.511637654188873)"
      ]
     },
     "execution_count": 120,
     "metadata": {},
     "output_type": "execute_result"
    }
   ],
   "source": [
    "A = rand(5,5)\n",
    "house(A[:,1])"
   ]
  },
  {
   "cell_type": "code",
   "execution_count": 196,
   "metadata": {},
   "outputs": [
    {
     "data": {
      "text/plain": [
       "house_gen (generic function with 1 method)"
      ]
     },
     "execution_count": 196,
     "metadata": {},
     "output_type": "execute_result"
    }
   ],
   "source": [
    "function house_gen(x)\n",
    "    \"\"\" Generate Householder reflection (Moler)\n",
    "    \"\"\"\n",
    "    nu = norm(x)\n",
    "    if nu == 0\n",
    "        u = x\n",
    "        u[1] = sqrt[2]\n",
    "    else\n",
    "        u = x/nu\n",
    "        u[1] = u[1] + sign(u[1])\n",
    "        u = u/sqrt(abs(u[1]))\n",
    "    end\n",
    "    return u\n",
    "end"
   ]
  },
  {
   "cell_type": "code",
   "execution_count": 198,
   "metadata": {},
   "outputs": [
    {
     "data": {
      "text/plain": [
       "6-element Array{Float64,1}:\n",
       " 1.273243714530443   \n",
       " 0.041815553422623115\n",
       " 0.43209405203377216 \n",
       " 0.11150814246032831 \n",
       " 0.4181555342262312  \n",
       " 0.055754071230164154"
      ]
     },
     "metadata": {},
     "output_type": "display_data"
    },
    {
     "data": {
      "text/plain": [
       "([1.0, -0.00153925, -0.0159056, -0.00410467, -0.0153925, -0.00205233], 1.9989738330047406)"
      ]
     },
     "execution_count": 198,
     "metadata": {},
     "output_type": "execute_result"
    }
   ],
   "source": [
    "display(house_gen(A[:,1]))\n",
    "#house(A[:,1])"
   ]
  },
  {
   "cell_type": "code",
   "execution_count": 206,
   "metadata": {},
   "outputs": [
    {
     "data": {
      "text/plain": [
       "house_qr (generic function with 1 method)"
      ]
     },
     "execution_count": 206,
     "metadata": {},
     "output_type": "execute_result"
    }
   ],
   "source": [
    "function Hvec(u,x)\n",
    "    return x - u*(u'*x)\n",
    "end\n",
    "\n",
    "function house_qr(A)\n",
    "    \"\"\" Householder reflections for QR decomposition.\n",
    "    % R, the upper triangular factor, and\n",
    "    % U, the reflector generators for use by house_apply.\n",
    "    from Moler \"\"\"\n",
    "\n",
    "    m,n = size(A)\n",
    "    U = zeros(m,n)\n",
    "    R = copy(A)\n",
    "    for j = 1:min(m,n)\n",
    "        u = house_gen(R[j:m,j])\n",
    "        U[j:m,j] = u\n",
    "        R[j:m,j:n] = Hvec(u,R[j:m,j:n])\n",
    "        R[j+1:m,j] = repeat([0], m-j)\n",
    "    end\n",
    "    return R, U\n",
    "end"
   ]
  },
  {
   "cell_type": "code",
   "execution_count": 210,
   "metadata": {},
   "outputs": [
    {
     "data": {
      "text/plain": [
       "6×6 Array{Float64,2}:\n",
       " -56.3471  -16.4693  -30.0459  -39.0969   -38.0321   -38.671      \n",
       "   0.0     -54.2196  -34.8797  -23.1669   -25.2609   -23.2963     \n",
       "   0.0       0.0      32.4907   -8.91816  -11.2895    -7.9245     \n",
       "   0.0       0.0       0.0      -7.62831    3.91136   -7.4339     \n",
       "   0.0       0.0       0.0       0.0       -3.41967   -6.83935    \n",
       "   0.0       0.0       0.0       0.0        0.0        8.88178e-16"
      ]
     },
     "metadata": {},
     "output_type": "display_data"
    },
    {
     "data": {
      "text/plain": [
       "6×6 Array{Float64,2}:\n",
       " 1.27324     0.0         0.0        0.0        0.0        0.0    \n",
       " 0.0418156   1.25683     0.0        0.0        0.0        0.0    \n",
       " 0.432094    0.0450736  -1.16613    0.0        0.0        0.0    \n",
       " 0.111508    0.38844     0.455693   1.07392    0.0        0.0    \n",
       " 0.418156   -0.0108187   0.59417   -0.645475   1.07958    0.0    \n",
       " 0.0557541   0.517063    0.281857  -0.655788  -0.913516  -1.41421"
      ]
     },
     "metadata": {},
     "output_type": "display_data"
    }
   ],
   "source": [
    "A =[35.     1     6    26    19    24;\n",
    "     3    32     7    21    23    25;\n",
    "    31     9     2    22    27    20;\n",
    "     8    28    33    17    10    15;\n",
    "    30     5    34    12    14    16;\n",
    "     4    36    29    13    18    11]\n",
    "\n",
    "R, U = house_qr(A)\n",
    "display(R)  # The R of QR\n",
    "display(U)  # generators for Q"
   ]
  },
  {
   "cell_type": "code",
   "execution_count": 222,
   "metadata": {},
   "outputs": [
    {
     "data": {
      "text/plain": [
       "house_apply (generic function with 1 method)"
      ]
     },
     "execution_count": 222,
     "metadata": {},
     "output_type": "execute_result"
    }
   ],
   "source": [
    "function house_apply(U,X)\n",
    "    \"\"\" Apply Householder reflections.\n",
    "     without actually computing Q.  continuing from Moler\n",
    "    \"\"\"\n",
    "    Z = copy(X)\n",
    "    m,n = size(U)\n",
    "    for j = n:-1:1\n",
    "        Z = Hvec(U[:,j],Z)\n",
    "    end\n",
    "    return Z\n",
    "end"
   ]
  },
  {
   "cell_type": "code",
   "execution_count": 223,
   "metadata": {},
   "outputs": [
    {
     "data": {
      "text/plain": [
       "6×6 Array{Float64,2}:\n",
       " 35.0   1.0   6.0  26.0  19.0  24.0\n",
       "  3.0  32.0   7.0  21.0  23.0  25.0\n",
       " 31.0   9.0   2.0  22.0  27.0  20.0\n",
       "  8.0  28.0  33.0  17.0  10.0  15.0\n",
       " 30.0   5.0  34.0  12.0  14.0  16.0\n",
       "  4.0  36.0  29.0  13.0  18.0  11.0"
      ]
     },
     "metadata": {},
     "output_type": "display_data"
    },
    {
     "data": {
      "text/plain": [
       "6×6 Array{Float64,2}:\n",
       " 1.27324     0.0         0.0        0.0        0.0        0.0    \n",
       " 0.0418156   1.25683     0.0        0.0        0.0        0.0    \n",
       " 0.432094    0.0450736  -1.16613    0.0        0.0        0.0    \n",
       " 0.111508    0.38844     0.455693   1.07392    0.0        0.0    \n",
       " 0.418156   -0.0108187   0.59417   -0.645475   1.07958    0.0    \n",
       " 0.0557541   0.517063    0.281857  -0.655788  -0.913516  -1.41421"
      ]
     },
     "metadata": {},
     "output_type": "display_data"
    },
    {
     "data": {
      "text/plain": [
       "6×6 Array{Float64,2}:\n",
       " -23.4576    7.9998     2.06914  -16.6508    -6.58604  -13.489  \n",
       " -38.6814  -31.6133   -34.2437   -34.7041   -37.5524   -38.1671 \n",
       " -25.2613   -8.79278    3.30004  -20.4045   -24.0447   -17.4901 \n",
       "   9.2354  -42.3318   -23.2065   -16.4155   -12.7971   -15.4389 \n",
       " -12.92     10.6076   -12.2839    -1.25324    3.24531   -3.67503\n",
       "  15.4316   12.8756    36.0244     5.83078    5.74418    2.55992"
      ]
     },
     "execution_count": 223,
     "metadata": {},
     "output_type": "execute_result"
    }
   ],
   "source": [
    "display(A)\n",
    "display(U)\n",
    "house_apply(U, A)"
   ]
  },
  {
   "cell_type": "code",
   "execution_count": 224,
   "metadata": {},
   "outputs": [
    {
     "data": {
      "text/plain": [
       "6×6 Array{Float64,2}:\n",
       " -0.62115     0.170232    -0.206992  -0.499813   0.206242   0.5        \n",
       " -0.0532414  -0.574021    -0.450017  -0.210639  -0.648677  -2.46331e-16\n",
       " -0.550161    0.00112113  -0.446003   0.453726   0.206242  -0.5        \n",
       " -0.141977   -0.473293     0.376287  -0.503413   0.332896  -0.5        \n",
       " -0.532414    0.0695045    0.628716   0.209555  -0.522022  -2.77556e-16\n",
       " -0.0709885  -0.642404     0.137276   0.450126   0.332896   0.5        "
      ]
     },
     "execution_count": 224,
     "metadata": {},
     "output_type": "execute_result"
    }
   ],
   "source": [
    "\n",
    "Q = house_apply(U,Matrix{Float64}(I, size(U)))\n",
    "Q"
   ]
  },
  {
   "cell_type": "code",
   "execution_count": 225,
   "metadata": {},
   "outputs": [
    {
     "data": {
      "text/plain": [
       "6×6 Array{Float64,2}:\n",
       "  1.0           2.7924e-16    7.49401e-16  …   2.31315e-16  -5.27356e-16\n",
       "  2.7924e-16    1.0          -1.99099e-16      5.71261e-17   3.28016e-17\n",
       "  7.49401e-16  -1.99099e-16   1.0              3.789e-16     5.55112e-16\n",
       "  4.71845e-16  -1.4472e-16   -1.94289e-16     -1.80238e-16   5.55112e-17\n",
       "  2.31315e-16   5.71261e-17   3.789e-16        1.0           1.38521e-16\n",
       " -5.27356e-16   3.28016e-17   5.55112e-16  …   1.38521e-16   1.0        "
      ]
     },
     "execution_count": 225,
     "metadata": {},
     "output_type": "execute_result"
    }
   ],
   "source": [
    "Q*Q'"
   ]
  },
  {
   "cell_type": "code",
   "execution_count": 226,
   "metadata": {},
   "outputs": [
    {
     "data": {
      "text/plain": [
       "6×6 Array{Float64,2}:\n",
       " 35.0   1.0   6.0  26.0  19.0  24.0\n",
       "  3.0  32.0   7.0  21.0  23.0  25.0\n",
       " 31.0   9.0   2.0  22.0  27.0  20.0\n",
       "  8.0  28.0  33.0  17.0  10.0  15.0\n",
       " 30.0   5.0  34.0  12.0  14.0  16.0\n",
       "  4.0  36.0  29.0  13.0  18.0  11.0"
      ]
     },
     "execution_count": 226,
     "metadata": {},
     "output_type": "execute_result"
    }
   ],
   "source": [
    "Q*R"
   ]
  },
  {
   "cell_type": "code",
   "execution_count": null,
   "metadata": {},
   "outputs": [],
   "source": []
  }
 ],
 "metadata": {
  "kernelspec": {
   "display_name": "Julia 1.0.0",
   "language": "julia",
   "name": "julia-1.0"
  },
  "language_info": {
   "file_extension": ".jl",
   "mimetype": "application/julia",
   "name": "julia",
   "version": "1.0.0"
  }
 },
 "nbformat": 4,
 "nbformat_minor": 2
}
