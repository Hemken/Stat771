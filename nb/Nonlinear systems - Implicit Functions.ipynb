{
 "cells": [
  {
   "cell_type": "markdown",
   "metadata": {},
   "source": [
    "# Solving Nonlinear Equations\n",
    "\n",
    "We will be looking for the roots of non-linear systems\n",
    "\n",
    "$$F(x)=0, F:\\mathbb{R}^m \\rightarrow \\mathbb{R}^n$$\n",
    "\n",
    "or if the problem is \"nice\", perhaps\n",
    "$$G(x)=z, G:\\mathbb{R}^m \\rightarrow \\mathbb{R}^m$$\n",
    "\n",
    "We will often ask the question:  is the solution unique?"
   ]
  },
  {
   "cell_type": "markdown",
   "metadata": {},
   "source": [
    "## Linear Case of the Implicit Function Theorem\n",
    "\n",
    "Let $M \\in \\mathbb{R}^{n\\times m}$ where $m>n$ and the rank of $M$ is $n$.  Without loss of generality write $M$ in block form\n",
    "$$M=[ \\begin{array} & A & B \\end{array} ]$$\n",
    "where $A \\in \\mathbb{R}^{n\\times n}$ and is invertible, and $B \\in \\mathbb{R}^{n\\times (m-n)}$.\n",
    "\n",
    "Then for any $x$ in $\\mathbb{R}^{m-n}$,\n",
    "\n",
    "$$ z = \\left [ \\begin{array}{c} -A^{-1}Bx \\\\ x \\end{array} \\right ] $$\n",
    "\n",
    "satisfies $Mz=0$."
   ]
  },
  {
   "cell_type": "code",
   "execution_count": 3,
   "metadata": {},
   "outputs": [
    {
     "name": "stdout",
     "output_type": "stream",
     "text": [
      "     [,1] [,2] [,3]\n",
      "[1,]    1    3    5\n",
      "[2,]    2    4    6\n",
      "     [,1] [,2]\n",
      "[1,]    1    3\n",
      "[2,]    2    4\n",
      "[1] 5 6\n"
     ]
    }
   ],
   "source": [
    "M <- matrix(1:6,ncol=3)\n",
    "print(M)\n",
    "n <- dim(M)[1]\n",
    "m <- dim(M)[2]  # m > n\n",
    "A <- M[1:n,1:n] # this must be invertible\n",
    "print(A)\n",
    "B <- M[1:n,(n+1):m]\n",
    "print(B)"
   ]
  },
  {
   "cell_type": "code",
   "execution_count": 4,
   "metadata": {},
   "outputs": [
    {
     "name": "stdout",
     "output_type": "stream",
     "text": [
      "   [,1]\n",
      "      3\n",
      "     -6\n",
      "z2    3\n"
     ]
    }
   ],
   "source": [
    "x <- 3 # *any* value will do, here\n",
    "z1 <- -solve(A)%*%B%*%x\n",
    "z2 <- x\n",
    "z <- rbind(z1,z2)\n",
    "print(z)"
   ]
  },
  {
   "cell_type": "code",
   "execution_count": 5,
   "metadata": {},
   "outputs": [
    {
     "data": {
      "text/html": [
       "<table>\n",
       "<tbody>\n",
       "\t<tr><td>0</td></tr>\n",
       "\t<tr><td>0</td></tr>\n",
       "</tbody>\n",
       "</table>\n"
      ],
      "text/latex": [
       "\\begin{tabular}{l}\n",
       "\t 0\\\\\n",
       "\t 0\\\\\n",
       "\\end{tabular}\n"
      ],
      "text/markdown": [
       "\n",
       "| 0 | \n",
       "| 0 | \n",
       "\n",
       "\n"
      ],
      "text/plain": [
       "     [,1]\n",
       "[1,] 0   \n",
       "[2,] 0   "
      ]
     },
     "metadata": {},
     "output_type": "display_data"
    }
   ],
   "source": [
    "M%*%z"
   ]
  },
  {
   "cell_type": "markdown",
   "metadata": {},
   "source": [
    "One way to view this is:  given one constraint, we can solve our system $M$."
   ]
  },
  {
   "cell_type": "code",
   "execution_count": 6,
   "metadata": {},
   "outputs": [
    {
     "data": {
      "text/html": [
       "<table>\n",
       "<tbody>\n",
       "\t<tr><td>0</td></tr>\n",
       "\t<tr><td>0</td></tr>\n",
       "</tbody>\n",
       "</table>\n"
      ],
      "text/latex": [
       "\\begin{tabular}{l}\n",
       "\t 0\\\\\n",
       "\t 0\\\\\n",
       "\\end{tabular}\n"
      ],
      "text/markdown": [
       "\n",
       "| 0 | \n",
       "| 0 | \n",
       "\n",
       "\n"
      ],
      "text/plain": [
       "     [,1]\n",
       "[1,] 0   \n",
       "[2,] 0   "
      ]
     },
     "metadata": {},
     "output_type": "display_data"
    }
   ],
   "source": [
    "x <- 0 # *any* value will do, here\n",
    "z <- rbind(-solve(A)%*%B%*%x, x)\n",
    "M%*%z"
   ]
  },
  {
   "cell_type": "code",
   "execution_count": null,
   "metadata": {},
   "outputs": [],
   "source": []
  }
 ],
 "metadata": {
  "kernelspec": {
   "display_name": "R",
   "language": "R",
   "name": "ir"
  },
  "language_info": {
   "codemirror_mode": "r",
   "file_extension": ".r",
   "mimetype": "text/x-r-source",
   "name": "R",
   "pygments_lexer": "r",
   "version": "3.5.1"
  }
 },
 "nbformat": 4,
 "nbformat_minor": 2
}
