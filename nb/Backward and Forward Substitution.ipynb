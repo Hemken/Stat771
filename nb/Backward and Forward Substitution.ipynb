{
 "cells": [
  {
   "cell_type": "markdown",
   "metadata": {},
   "source": [
    "# Backward Substition"
   ]
  },
  {
   "cell_type": "code",
   "execution_count": 2,
   "metadata": {},
   "outputs": [
    {
     "data": {
      "text/plain": [
       "backsub (generic function with 1 method)"
      ]
     },
     "execution_count": 2,
     "metadata": {},
     "output_type": "execute_result"
    }
   ],
   "source": [
    " function backsub(U,y)\n",
    "    # U is an upper triangular matrix\n",
    "    # y is a column vector\n",
    "    cols = size(U,2)\n",
    "    b = fill(0.0, cols)\n",
    "    Uf = convert(Array{Float64}, U)\n",
    "    yf = convert(Array{Float64}, y)\n",
    "    for i in range(cols, stop=1, step=-1)\n",
    "        if i==cols\n",
    "            b[i]=yf[i]/Uf[i,i]\n",
    "        else\n",
    "            yf[i] = yf[i] - transpose(Uf[i,:])*b\n",
    "            b[i] = yf[i]/Uf[i, i]\n",
    "        end\n",
    "    end\n",
    "    return b\n",
    "end"
   ]
  },
  {
   "cell_type": "markdown",
   "metadata": {},
   "source": [
    "# Forward Substitution"
   ]
  },
  {
   "cell_type": "code",
   "execution_count": 3,
   "metadata": {},
   "outputs": [
    {
     "data": {
      "text/plain": [
       "fwdsub (generic function with 1 method)"
      ]
     },
     "execution_count": 3,
     "metadata": {},
     "output_type": "execute_result"
    }
   ],
   "source": [
    "function fwdsub(L,y)\n",
    "    # L is a lower triangular matrix\n",
    "    # y is a column vector\n",
    "    cols = size(L,2)\n",
    "    b = fill(0.0, cols)\n",
    "    Lf = convert(Array{Float64}, L)\n",
    "    yf = convert(Array{Float64}, y)\n",
    "    for i in range(1, stop=cols)\n",
    "        if i==1\n",
    "            b[i]=yf[i]/Lf[i,i]\n",
    "        else\n",
    "            yf[i] = yf[i] - transpose(Lf[i,:])*b\n",
    "            b[i] = yf[i]/Lf[i, i]\n",
    "        end\n",
    "    end\n",
    "    return b\n",
    "end"
   ]
  },
  {
   "cell_type": "markdown",
   "metadata": {},
   "source": [
    "# Examples"
   ]
  },
  {
   "cell_type": "code",
   "execution_count": 4,
   "metadata": {},
   "outputs": [
    {
     "data": {
      "text/plain": [
       "4×4 Array{Int64,2}:\n",
       " 4  3  2   1\n",
       " 0  1  2  -1\n",
       " 0  0  3  -1\n",
       " 0  0  0   2"
      ]
     },
     "metadata": {},
     "output_type": "display_data"
    },
    {
     "data": {
      "text/plain": [
       "4-element Array{Float64,1}:\n",
       " -1.0\n",
       "  5.0\n",
       "  1.0\n",
       "  2.0"
      ]
     },
     "execution_count": 4,
     "metadata": {},
     "output_type": "execute_result"
    }
   ],
   "source": [
    "A = [4 3 2 1; 0 1 2 -1; 0 0 3 -1; 0 0 0 2]\n",
    "display(A)\n",
    "x = [15; 5; 1; 4]\n",
    "A\\x"
   ]
  },
  {
   "cell_type": "code",
   "execution_count": 5,
   "metadata": {},
   "outputs": [
    {
     "data": {
      "text/plain": [
       "4-element Array{Float64,1}:\n",
       " -1.0\n",
       "  5.0\n",
       "  1.0\n",
       "  2.0"
      ]
     },
     "execution_count": 5,
     "metadata": {},
     "output_type": "execute_result"
    }
   ],
   "source": [
    "backsub(A,x)"
   ]
  },
  {
   "cell_type": "code",
   "execution_count": 6,
   "metadata": {},
   "outputs": [
    {
     "data": {
      "text/plain": [
       "4×4 LinearAlgebra.Transpose{Int64,Array{Int64,2}}:\n",
       " 4   0   0  0\n",
       " 3   1   0  0\n",
       " 2   2   3  0\n",
       " 1  -1  -1  2"
      ]
     },
     "execution_count": 6,
     "metadata": {},
     "output_type": "execute_result"
    }
   ],
   "source": [
    "transpose(A)"
   ]
  },
  {
   "cell_type": "code",
   "execution_count": 7,
   "metadata": {},
   "outputs": [
    {
     "data": {
      "text/plain": [
       "4-element Array{Float64,1}:\n",
       "  3.75\n",
       " -6.25\n",
       "  2.0 \n",
       " -2.0 "
      ]
     },
     "execution_count": 7,
     "metadata": {},
     "output_type": "execute_result"
    }
   ],
   "source": [
    "fwdsub(transpose(A),x)"
   ]
  },
  {
   "cell_type": "code",
   "execution_count": 8,
   "metadata": {},
   "outputs": [
    {
     "data": {
      "text/plain": [
       "4-element Array{Float64,1}:\n",
       "  3.75\n",
       " -6.25\n",
       "  2.0 \n",
       " -2.0 "
      ]
     },
     "execution_count": 8,
     "metadata": {},
     "output_type": "execute_result"
    }
   ],
   "source": [
    "transpose(A)\\x"
   ]
  },
  {
   "cell_type": "code",
   "execution_count": null,
   "metadata": {},
   "outputs": [],
   "source": []
  }
 ],
 "metadata": {
  "kernelspec": {
   "display_name": "Julia 1.0.0",
   "language": "julia",
   "name": "julia-1.0"
  },
  "language_info": {
   "file_extension": ".jl",
   "mimetype": "application/julia",
   "name": "julia",
   "version": "1.0.0"
  }
 },
 "nbformat": 4,
 "nbformat_minor": 2
}
