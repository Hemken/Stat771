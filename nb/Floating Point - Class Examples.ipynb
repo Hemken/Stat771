{
 "cells": [
  {
   "cell_type": "markdown",
   "metadata": {},
   "source": [
    "# Algorithm to Generate Decimal Representation\n",
    "A function that takes a _base_, a vector of _digits_ and an _exponent_,\n",
    "    then returns a decimal represetntation of the number.\n",
    "\n"
   ]
  },
  {
   "cell_type": "code",
   "execution_count": 18,
   "metadata": {},
   "outputs": [
    {
     "data": {
      "text/plain": [
       "getDecimal (generic function with 1 method)"
      ]
     },
     "execution_count": 18,
     "metadata": {},
     "output_type": "execute_result"
    }
   ],
   "source": [
    "function getDecimal(base :: Int64, d :: Vector{Int64}, e :: Int64)\n",
    "    \"\"\"\n",
    "    A function that takes a base, a vector of digits and an exponent,\n",
    "    then returns a decimal represetntation of the number.\n",
    "    \"\"\"\n",
    "    num = 0\n",
    "    base = float(base)\n",
    "    for i = 0:length(d)-1\n",
    "        num += d[i+1]*base^(-i)\n",
    "    end\n",
    "    return num*base^e\n",
    "end"
   ]
  },
  {
   "cell_type": "markdown",
   "metadata": {},
   "source": [
    "# Algorithm to Generate a Base Representation\n"
   ]
  },
  {
   "cell_type": "code",
   "execution_count": 19,
   "metadata": {},
   "outputs": [
    {
     "data": {
      "text/plain": [
       "16.625"
      ]
     },
     "execution_count": 19,
     "metadata": {},
     "output_type": "execute_result"
    }
   ],
   "source": [
    "function getDigits(decimalNum, base :: Int64, digits :: Int64)\n",
    "    \"\"\"\n",
    "    A function that takes a decimal representation of a number and\n",
    "    returns its representation in a specific base up to a certain\n",
    "    number of digits.\n",
    "    \"\"\"\n",
    "    base = float(base)\n",
    "    e = floor(Int64,log(base,decimalNum))\n",
    "    d = zeros(Int64,digits)\n",
    "    num = decimalNum/(base^e)\n",
    "    for j = 1:digits\n",
    "        d[j] = floor(Int64,num)\n",
    "        num = (num - d[j])*base\n",
    "    end\n",
    "\n",
    "    return d, e\n",
    "end\n",
    "\n",
    "decimal = 16.625"
   ]
  },
  {
   "cell_type": "code",
   "execution_count": 20,
   "metadata": {},
   "outputs": [
    {
     "name": "stdout",
     "output_type": "stream",
     "text": [
      "\u001b[31mEXAMPLE 1:\u001b[39m\n",
      "16.625 has a expansion in base 2 with precision 4 \n",
      "of [1, 0, 0, 0] with exponent 4\n",
      "\n",
      "The decimal representation of 2-ary representation is 16.0.\n",
      "\n"
     ]
    }
   ],
   "source": [
    "#Example 1\n",
    "base, digits = 2, 4\n",
    "d, e = getDigits(decimal, base, digits)\n",
    "printstyled(\"EXAMPLE 1:\\n\", color=:red)\n",
    "println(\"$decimal has a expansion in base $base with precision $digits \\nof $d with exponent $e\\n\")\n",
    "approx = getDecimal(base,d,e)\n",
    "println(\"The decimal representation of $base-ary representation is $approx.\\n\")\n"
   ]
  },
  {
   "cell_type": "code",
   "execution_count": 8,
   "metadata": {},
   "outputs": [
    {
     "name": "stdout",
     "output_type": "stream",
     "text": [
      "\u001b[31mEXAMPLE 2:\u001b[39m\n",
      "16.625 has a expansion in base 2 with precision 8 \n",
      "of [1, 0, 0, 0, 0, 1, 0, 1] with exponent 4\n",
      "\n",
      "The decimal representation of 2-ary representation is 16.625.\n",
      "\n"
     ]
    }
   ],
   "source": [
    "#Example 2\n",
    "base, digits = 2, 8\n",
    "d, e = getDigits(decimal, base, digits)\n",
    "printstyled(\"EXAMPLE 2:\\n\", color=:red)\n",
    "println(\"$decimal has a expansion in base $base with precision $digits \\nof $d with exponent $e\\n\")\n",
    "approx = getDecimal(base,d,e)\n",
    "println(\"The decimal representation of $base-ary representation is $approx.\\n\")\n"
   ]
  },
  {
   "cell_type": "code",
   "execution_count": 9,
   "metadata": {},
   "outputs": [
    {
     "name": "stdout",
     "output_type": "stream",
     "text": [
      "\u001b[31mEXAMPLE 3:\u001b[39m\n",
      "16.625 has a expansion in base 3 with precision 8 \n",
      "of [1, 2, 1, 1, 2, 1, 2, 1] with exponent 2\n",
      "\n",
      "The decimal representation of 3-ary representation is 16.62139917695473.\n",
      "\n"
     ]
    }
   ],
   "source": [
    "#Example 3\n",
    "base, digits = 3, 8\n",
    "d, e = getDigits(decimal, base, digits)\n",
    "printstyled(\"EXAMPLE 3:\\n\", color=:red)\n",
    "println(\"$decimal has a expansion in base $base with precision $digits \\nof $d with exponent $e\\n\")\n",
    "approx = getDecimal(base,d,e)\n",
    "println(\"The decimal representation of $base-ary representation is $approx.\\n\")\n"
   ]
  },
  {
   "cell_type": "code",
   "execution_count": 11,
   "metadata": {},
   "outputs": [
    {
     "name": "stdout",
     "output_type": "stream",
     "text": [
      "\u001b[31mNonnormalized Smallest Positive 16 Bit Float\u001b[39m\n",
      "6.0e-8 == 2.0^(-24) => true\n",
      "\n",
      "\u001b[31mLargest Positive 16 Bit Float\u001b[39m\n",
      "6.55e4 == getDecimal(2, ones(Int64,11),15) => true\n",
      "\n",
      "\u001b[31mExample representation\u001b[39m\n",
      "Float16(1.391) has representation\n",
      "0011110110010000\n",
      "\n",
      "\u001b[31mNote: Binary Representation\u001b[39m\n",
      "Digits: [1, 0, 1, 1, 0, 0, 1, 0, 0, 0, 0]\n",
      "Exponent: 0\n"
     ]
    }
   ],
   "source": [
    "#Half Precision Values\n",
    "\n",
    "printstyled(\"Nonnormalized Smallest Positive 16 Bit Float\\n\", color=:red)\n",
    "num1 = nextfloat(Float16(0.0))\n",
    "num2 = 2.0^(-24)\n",
    "println(\"$num1 == 2.0^(-24) => $(num1 == num2)\\n\")\n",
    "\n",
    "printstyled(\"Largest Positive 16 Bit Float\\n\", color=:red)\n",
    "num1 = prevfloat(Inf16)\n",
    "num2 = getDecimal(2, ones(Int64,11),15)\n",
    "println(\"$num1 == getDecimal(2, ones(Int64,11),15) => $(num1 == num2)\\n\")\n",
    "\n",
    "printstyled(\"Example representation\\n\", color=:red)\n",
    "println(\"Float16(1.391) has representation\\n$(bitstring(Float16(1.391)))\\n\")\n",
    "\n",
    "printstyled(\"Note: Binary Representation\\n\", color=:red)\n",
    "d,e = getDigits(1.391, 2, 11)\n",
    "println(\"Digits: $d\")\n",
    "println(\"Exponent: $e\")"
   ]
  },
  {
   "cell_type": "code",
   "execution_count": 12,
   "metadata": {},
   "outputs": [
    {
     "name": "stdout",
     "output_type": "stream",
     "text": [
      "\u001b[31mNonnormalized Smallest Positive 32 Bit Float\u001b[39m\n",
      "1.0e-45 == 2.0^(-149) => true\n",
      "\n",
      "\u001b[31mLargest Positive 32 Bit Float\u001b[39m\n",
      "3.4028235e38 == getDecimal(2, ones(Int64,24),127) => true\n",
      "\n"
     ]
    }
   ],
   "source": [
    "#Single Precision Values\n",
    "\n",
    "printstyled(\"Nonnormalized Smallest Positive 32 Bit Float\\n\", color=:red)\n",
    "num1 = nextfloat(Float32(0.0))\n",
    "num2 = 2.0^(-149)\n",
    "println(\"$num1 == 2.0^(-149) => $(num1 == num2)\\n\")\n",
    "\n",
    "printstyled(\"Largest Positive 32 Bit Float\\n\", color=:red)\n",
    "num1 = prevfloat(Inf32)\n",
    "num2 = getDecimal(2, ones(Int64,24),127)\n",
    "println(\"$num1 == getDecimal(2, ones(Int64,24),127) => $(num1 == num2)\\n\")"
   ]
  },
  {
   "cell_type": "code",
   "execution_count": 13,
   "metadata": {},
   "outputs": [
    {
     "name": "stdout",
     "output_type": "stream",
     "text": [
      "\u001b[31mEXAMPLE 1:\u001b[39m\n",
      "32 Bit: 1.0e8 == 1.0e8 + 4.0?\n",
      "    true\n",
      "\n",
      "\u001b[31mEXAMPLE 2:\u001b[39m\n",
      "32 Bit: 1000.0 == 1000.0 + 4.0? false\n",
      "\n",
      "32 Bit: 1000.0 == 1000.0 + 1.0e-5? true\n",
      "\n"
     ]
    }
   ],
   "source": [
    "#Floating Point Approximation Errors\n",
    "\n",
    "#Example 1\n",
    "printstyled(\"EXAMPLE 1:\\n\", color=:red)\n",
    "val1 = 1f8\n",
    "pert1 = 4f0\n",
    "println(\"32 Bit: $val1 == $val1 + $pert1?\n",
    "    $(val1+pert1 == val1)\\n\")\n",
    "\n",
    "#Example 2\n",
    "printstyled(\"EXAMPLE 2:\\n\", color=:red)\n",
    "val1 = 1f3\n",
    "pert1 = 4f0\n",
    "pert2 = 1f-5\n",
    "println(\"32 Bit: $val1 == $val1 + $pert1? $(val1+pert1 == val1)\\n\")\n",
    "println(\"32 Bit: $val1 == $val1 + $pert2? $(val1+pert2 == val1)\\n\")\n"
   ]
  },
  {
   "cell_type": "code",
   "execution_count": 14,
   "metadata": {},
   "outputs": [
    {
     "name": "stdout",
     "output_type": "stream",
     "text": [
      "\u001b[31mEXAMPLE 3:\u001b[39m\n",
      "The value corresponding to 1 ULP for 1438.0 is 2.2737367544323206e-13 \n",
      "\n"
     ]
    }
   ],
   "source": [
    "# Values corresponding to 1 ULP\n",
    "\n",
    "#Example 3\n",
    "printstyled(\"EXAMPLE 3:\\n\", color=:red)\n",
    "val1 = 1.438e3\n",
    "eps1 = eps(val1)\n",
    "println(\"The value corresponding to 1 ULP for $val1 is $eps1 \\n\")\n"
   ]
  },
  {
   "cell_type": "code",
   "execution_count": 16,
   "metadata": {},
   "outputs": [
    {
     "name": "stdout",
     "output_type": "stream",
     "text": [
      "\u001b[31mEXAMPLE 4:\u001b[39m\n",
      "The value corresponding to 64 bit machine epsilon is 2.220446049250313e-16 \n",
      "\n",
      "The value corresponding to 32 bit machine epsilon is 1.1920929e-7 \n",
      "\n",
      "The value corresponding to 16 bit machine epsilon is 0.000977 \n",
      "\n"
     ]
    }
   ],
   "source": [
    "# Machine Precision\n",
    "\n",
    "#Example 4\n",
    "printstyled(\"EXAMPLE 4:\\n\", color=:red)\n",
    "val1 = 1.0\n",
    "eps1 = eps(val1)\n",
    "println(\"The value corresponding to 64 bit machine epsilon is $eps1 \\n\")\n",
    "val1 = 1f0\n",
    "eps1 = eps(val1)\n",
    "println(\"The value corresponding to 32 bit machine epsilon is $eps1 \\n\")\n",
    "val1 = Float16(1.0)\n",
    "eps1 = eps(val1)\n",
    "println(\"The value corresponding to 16 bit machine epsilon is $eps1 \\n\")\n"
   ]
  },
  {
   "cell_type": "code",
   "execution_count": 17,
   "metadata": {},
   "outputs": [
    {
     "name": "stdout",
     "output_type": "stream",
     "text": [
      "\u001b[31mEXAMPLE 4:\u001b[39m\n",
      "1.1 + 0.1 = 1.2, but in floating point arithmetic, 1.1 + 0.1 = 1.2000000000000002, which is a relative error of 1.8503717077085943e-16.\n",
      "\n",
      "Note, twice 64 bit machine epsilon is 4.440892098500626e-16\n"
     ]
    }
   ],
   "source": [
    "# Addition Relative Error\n",
    "\n",
    "#Example 4\n",
    "printstyled(\"EXAMPLE 4:\\n\", color=:red)\n",
    "val1 = 1.1\n",
    "val2 = 0.1\n",
    "val3 = 1.2\n",
    "println(\"$val1 + $val2 = $val3, but in floating point arithmetic, $val1 + $val2 = $(val1 + val2), which is a relative error of $(((val1 + val2)- val3)/val3).\\n\")\n",
    "println(\"Note, twice 64 bit machine epsilon is $(2*eps(1.0))\")"
   ]
  },
  {
   "cell_type": "code",
   "execution_count": null,
   "metadata": {},
   "outputs": [],
   "source": []
  }
 ],
 "metadata": {
  "kernelspec": {
   "display_name": "Julia 1.0.0",
   "language": "julia",
   "name": "julia-1.0"
  },
  "language_info": {
   "file_extension": ".jl",
   "mimetype": "application/julia",
   "name": "julia",
   "version": "1.0.0"
  }
 },
 "nbformat": 4,
 "nbformat_minor": 2
}
