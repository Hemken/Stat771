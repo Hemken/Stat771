{
 "cells": [
  {
   "cell_type": "markdown",
   "metadata": {
    "slideshow": {
     "slide_type": "slide"
    }
   },
   "source": [
    "# Direct Computation of Standardized Coefficients\n",
    "\n",
    "### or\n",
    "\n",
    "## Standardizing a Model without Standardizing the Data"
   ]
  },
  {
   "cell_type": "markdown",
   "metadata": {
    "slideshow": {
     "slide_type": "slide"
    }
   },
   "source": [
    "Motivating Scenario\n",
    "---\n",
    "\n",
    "- A researcher is asked to include standardized coefficients in a revise-and-resubmit.\n",
    "- However, she has changed institutions and no longer has direct access to the data.\n",
    "- She *does* have her model estimates, and descriptive statistics.\n",
    "\n",
    "The point of her model is the **interaction term** it includes."
   ]
  },
  {
   "cell_type": "markdown",
   "metadata": {
    "slideshow": {
     "slide_type": "slide"
    }
   },
   "source": [
    "Additive Model == Simple Solution\n",
    "---\n",
    "\n",
    "If there are only first-order terms, like\n",
    "$$y = \\beta_0 + \\beta_1 x_1 + \\beta_2 x_2$$\n",
    "\n",
    "and all variables are standardized\n",
    "$$y^{std}=\\frac{y-\\mu_y}{\\sigma_y}, x_1^{std}= ... etc$$\n",
    "\n",
    "Then we have\n",
    "$$y^{std}=\\frac{\\sigma_{x_1}}{\\sigma_y} \\beta_1 x_1^{std} + \\frac{\\sigma_{x_2}}{\\sigma_y} \\beta_2 x_2^{std}$$"
   ]
  },
  {
   "cell_type": "markdown",
   "metadata": {
    "slideshow": {
     "slide_type": "slide"
    }
   },
   "source": [
    "Interaction Model == Choices\n",
    "---\n",
    "\n",
    "Now add an interaction term\n",
    "$$y = \\beta_0 + \\beta_1 x_1 + \\beta_2 x_2 + \\beta_3 (x_1 x_2)$$\n",
    "\n",
    "In common practice there are two solutions\n",
    "\n",
    "- treat $\\beta_3$ like another first-order term\n",
    "- go back to the data, standardize the data, re-estimate the model"
   ]
  },
  {
   "cell_type": "markdown",
   "metadata": {
    "slideshow": {
     "slide_type": "slide"
    }
   },
   "source": [
    "Use a \"First-Order\" Solution\n",
    "---\n",
    "\n",
    "Most software does this.\n",
    "$$(x_1 x_2)^{std} = \\frac{(x_1 x_2)-\\mu_{x_1 x_2}}{\\sigma_{x_1 x_2}}$$\n",
    "\n",
    "Then\n",
    "$$\\beta_3^{std} = \\frac{\\sigma_{x_1 x_2}}{\\sigma_y} \\beta_3$$"
   ]
  },
  {
   "cell_type": "markdown",
   "metadata": {
    "slideshow": {
     "slide_type": "slide"
    }
   },
   "source": [
    "\"First-Order\" Problems\n",
    "---\n",
    "\n",
    "In general, \n",
    "- $\\mu_{x_1 x_2} \\neq \\mu_{x_1} \\mu_{x_2}$\n",
    "- $\\sigma_{x_1 x_2} \\neq \\sigma_{x_1} \\sigma_{x_2}$\n",
    "\n",
    "Problems\n",
    "- Most researchers do not record $\\mu_{x_1 x_2}$ and $\\sigma_{x_1 x_2}$\n",
    "    - We cannot standardize later\n",
    "    - We cannot use the standardized model with new data\n",
    "- Interpreting $\\beta_3^{std}$ : now $(x_1 x_2)$ has it's own units"
   ]
  },
  {
   "cell_type": "markdown",
   "metadata": {
    "slideshow": {
     "slide_type": "slide"
    }
   },
   "source": [
    "\"Go Back to the Data\" Problems\n",
    "---\n",
    "\n",
    "- You can't always do this\n",
    "    - Restricted data\n",
    "    - Streaming data\n",
    "    - Old journal articles\n",
    "- It requires unnecessary computation"
   ]
  },
  {
   "cell_type": "code",
   "execution_count": null,
   "metadata": {},
   "outputs": [],
   "source": []
  }
 ],
 "metadata": {
  "kernelspec": {
   "display_name": "Julia 1.0.0",
   "language": "julia",
   "name": "julia-1.0"
  },
  "language_info": {
   "file_extension": ".jl",
   "mimetype": "application/julia",
   "name": "julia",
   "version": "1.0.0"
  }
 },
 "nbformat": 4,
 "nbformat_minor": 2
}
