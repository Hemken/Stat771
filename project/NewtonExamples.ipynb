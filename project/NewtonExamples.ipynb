{
 "cells": [
  {
   "cell_type": "markdown",
   "metadata": {},
   "source": [
    "# Newton's Method\n",
    "\n",
    "To find the roots of a function $f(x)$, which has deriviative $f(x)'$, we start with an initial guess, $x_0$.  We update our guess by\n",
    "$$x_{n+1} = x_n - \\frac{f(x_n)}{f'(x_n)}$$\n",
    "\n",
    "## One Variable\n",
    "\n",
    "A linear function is in some sense trivial, since we can solve for the root exactly.  But using Newton's Method would look like this."
   ]
  },
  {
   "cell_type": "code",
   "execution_count": 17,
   "metadata": {},
   "outputs": [
    {
     "data": {
      "image/png": "[encoded data removed]",
      "text/plain": [
       "plot without title"
      ]
     },
     "metadata": {},
     "output_type": "display_data"
    }
   ],
   "source": [
    "curve(2*x+3, -3,1)\n",
    "abline(0,0)"
   ]
  },
  {
   "cell_type": "code",
   "execution_count": 1,
   "metadata": {},
   "outputs": [
    {
     "data": {
      "text/html": [
       "-1.5"
      ],
      "text/latex": [
       "-1.5"
      ],
      "text/markdown": [
       "-1.5"
      ],
      "text/plain": [
       "[1] -1.5"
      ]
     },
     "metadata": {},
     "output_type": "display_data"
    }
   ],
   "source": [
    "F <- function (x) {2*x+3} # just an arbitrary linear function\n",
    "f <- function (x) {2} # the derivative function of F\n",
    "x0 <- 0               # the initial guess doesn't matter, in this case\n",
    "x <- x0 - F(x0)/f(x0)  # Newton's Method\n",
    "x"
   ]
  },
  {
   "cell_type": "markdown",
   "metadata": {},
   "source": [
    "A polynomial is a little more interesting."
   ]
  },
  {
   "cell_type": "code",
   "execution_count": 16,
   "metadata": {},
   "outputs": [
    {
     "data": {
      "image/png": "[encoded data removed]",
      "text/plain": [
       "plot without title"
      ]
     },
     "metadata": {},
     "output_type": "display_data"
    }
   ],
   "source": [
    "curve(3-2*x^2, -2,2)\n",
    "abline(0,0)"
   ]
  },
  {
   "cell_type": "code",
   "execution_count": 5,
   "metadata": {},
   "outputs": [
    {
     "name": "stdout",
     "output_type": "stream",
     "text": [
      "[1] 1.55\n",
      "[1] 1.258871\n",
      "[1] 1.225207\n",
      "[1] 1.224745\n"
     ]
    },
    {
     "data": {
      "text/html": [
       "1.22474495870569"
      ],
      "text/latex": [
       "1.22474495870569"
      ],
      "text/markdown": [
       "1.22474495870569"
      ],
      "text/plain": [
       "[1] 1.224745"
      ]
     },
     "metadata": {},
     "output_type": "display_data"
    }
   ],
   "source": [
    "F <- function (x) {3 - 2*x^2} # an quadratic function with two roots\n",
    "f <- function (x) {-4*x} # the derivative function of F\n",
    "x0 <- 2.5 # note we cannot start at x==0\n",
    "while (abs(F(x0))> 1e-8) {\n",
    "    x <- x0 - F(x0)/f(x0)  # Newton's Method\n",
    "    x0 <- x\n",
    "    print(x)\n",
    "}\n",
    "x"
   ]
  },
  {
   "cell_type": "markdown",
   "metadata": {},
   "source": [
    "Here, which root we find depends on where we start."
   ]
  },
  {
   "cell_type": "code",
   "execution_count": 7,
   "metadata": {},
   "outputs": [
    {
     "name": "stdout",
     "output_type": "stream",
     "text": [
      "[1] -7.55\n",
      "[1] -3.874338\n",
      "[1] -2.13075\n",
      "[1] -1.417364\n",
      "[1] -1.237833\n",
      "[1] -1.224814\n",
      "[1] -1.224745\n"
     ]
    },
    {
     "data": {
      "text/html": [
       "-1.22474487334621"
      ],
      "text/latex": [
       "-1.22474487334621"
      ],
      "text/markdown": [
       "-1.22474487334621"
      ],
      "text/plain": [
       "[1] -1.224745"
      ]
     },
     "metadata": {},
     "output_type": "display_data"
    }
   ],
   "source": [
    "x0 <- -0.1 # note we cannot start at x==0\n",
    "while (abs(F(x0))> 1e-8) {\n",
    "    x <- x0 - F(x0)/f(x0)  # Newton's Method\n",
    "    x0 <- x\n",
    "    print(x)\n",
    "}\n",
    "x"
   ]
  },
  {
   "cell_type": "markdown",
   "metadata": {},
   "source": [
    "One more example."
   ]
  },
  {
   "cell_type": "code",
   "execution_count": 15,
   "metadata": {},
   "outputs": [
    {
     "data": {
      "image/png": "[encoded data removed]",
      "text/plain": [
       "plot without title"
      ]
     },
     "metadata": {},
     "output_type": "display_data"
    }
   ],
   "source": [
    "curve(sin(x), -4,4)\n",
    "abline(0,0)"
   ]
  },
  {
   "cell_type": "code",
   "execution_count": 13,
   "metadata": {},
   "outputs": [
    {
     "name": "stdout",
     "output_type": "stream",
     "text": [
      "[1] 0.0003346721\n",
      "[1] -1.249503e-11\n"
     ]
    },
    {
     "data": {
      "text/html": [
       "-1.249502806994e-11"
      ],
      "text/latex": [
       "-1.249502806994e-11"
      ],
      "text/markdown": [
       "-1.249502806994e-11"
      ],
      "text/plain": [
       "[1] -1.249503e-11"
      ]
     },
     "metadata": {},
     "output_type": "display_data"
    }
   ],
   "source": [
    "F <- function (x) {sin(x)}\n",
    "f <- function (x) {cos(x)}\n",
    "x0 <- -0.1 # note we cannot start at x==pi/2\n",
    "while (abs(F(x0))> 1e-5) {\n",
    "    x <- x0 - F(x0)/f(x0)  # Newton's Method\n",
    "    x0 <- x\n",
    "    print(x)\n",
    "}\n",
    "x"
   ]
  },
  {
   "cell_type": "code",
   "execution_count": 14,
   "metadata": {},
   "outputs": [
    {
     "name": "stdout",
     "output_type": "stream",
     "text": [
      "[1] 4.18504\n",
      "[1] 2.467894\n",
      "[1] 3.266186\n",
      "[1] 3.140944\n",
      "[1] 3.141593\n"
     ]
    },
    {
     "data": {
      "text/html": [
       "3.1415926536808"
      ],
      "text/latex": [
       "3.1415926536808"
      ],
      "text/markdown": [
       "3.1415926536808"
      ],
      "text/plain": [
       "[1] 3.141593"
      ]
     },
     "metadata": {},
     "output_type": "display_data"
    }
   ],
   "source": [
    "x0 <- 2 # note we cannot start at x==pi/2\n",
    "while (abs(F(x0))> 1e-5) {\n",
    "    x <- x0 - F(x0)/f(x0)  # Newton's Method\n",
    "    x0 <- x\n",
    "    print(x)\n",
    "}\n",
    "x"
   ]
  },
  {
   "cell_type": "markdown",
   "metadata": {},
   "source": [
    "## Vector-valued Functions\n",
    "\n",
    "But consider a function that transforms two variables\n",
    "$$F(x_1,x_2)=\\left [ \\begin{array} & x_1x_2 \\\\\n",
    " x_1 + x_2 \\end{array} \\right ]$$\n",
    "which has the solution at $(0,0)$.\n",
    "\n",
    "Here, the  Jacobian is\n",
    "$$\\left [ \\begin{array}\n",
    "& x_2 & x_1 \\\\\n",
    "1 & 1\n",
    "\\end{array} \\right ]$$"
   ]
  },
  {
   "cell_type": "code",
   "execution_count": 18,
   "metadata": {},
   "outputs": [
    {
     "data": {
      "text/html": [
       "<dl class=dl-horizontal>\n",
       "\t<dt>x1</dt>\n",
       "\t\t<dd>-6.103515625e-05</dd>\n",
       "\t<dt>x2</dt>\n",
       "\t\t<dd>6.103515625e-05</dd>\n",
       "</dl>\n"
      ],
      "text/latex": [
       "\\begin{description*}\n",
       "\\item[x1] -6.103515625e-05\n",
       "\\item[x2] 6.103515625e-05\n",
       "\\end{description*}\n"
      ],
      "text/markdown": [
       "x1\n",
       ":   -6.103515625e-05x2\n",
       ":   6.103515625e-05\n",
       "\n"
      ],
      "text/plain": [
       "           x1            x2 \n",
       "-6.103516e-05  6.103516e-05 "
      ]
     },
     "metadata": {},
     "output_type": "display_data"
    }
   ],
   "source": [
    "Fx <- function (x) {\n",
    "  c(x[1]*x[2],\n",
    "    x[1]+x[2])\n",
    "  }\n",
    "J <- function (x) {\n",
    "  x1 <- c(x[2],1)\n",
    "  x2 <- c(x[1],1)\n",
    "  cbind(x1,x2)\n",
    "}\n",
    "\n",
    "x0 <- c(2,1) \n",
    "while (norm(as.matrix(Fx(x0)), \"F\") > 1e-8) {\n",
    "  x <- solve(J(x0),-Fx(x0))+x0 # Newton's Method\n",
    "  x0 <- x\n",
    "}\n",
    "x\n"
   ]
  },
  {
   "cell_type": "markdown",
   "metadata": {},
   "source": [
    "Another example.\n",
    "Let\n",
    "$$F(x_1,x_2,x_3) = \\left [\n",
    "\\begin{array}\n",
    "& x_1^2+x_2^2+x_3^2-3 \\\\\n",
    "x_1^2+x_2^2-x_3-1 \\\\\n",
    "x_1+x_2+x_3-3\n",
    "\\end{array}\n",
    "\\right ]$$\n",
    "\n",
    "Then the Jacobian is\n",
    "$$J(x_1,x_2,x_3)= \\left [\n",
    "\\begin{array}\n",
    "& 2x_1 & 2x_2 & 2x_3 \\\\\n",
    "2x_1 & 2x_2 & -1 \\\\\n",
    "1 & 1+x_3-3\n",
    "\\end{array}\n",
    "\\right ]$$"
   ]
  },
  {
   "cell_type": "code",
   "execution_count": null,
   "metadata": {},
   "outputs": [],
   "source": []
  }
 ],
 "metadata": {
  "kernelspec": {
   "display_name": "R",
   "language": "R",
   "name": "ir"
  },
  "language_info": {
   "codemirror_mode": "r",
   "file_extension": ".r",
   "mimetype": "text/x-r-source",
   "name": "R",
   "pygments_lexer": "r",
   "version": "3.5.1"
  }
 },
 "nbformat": 4,
 "nbformat_minor": 2
}
