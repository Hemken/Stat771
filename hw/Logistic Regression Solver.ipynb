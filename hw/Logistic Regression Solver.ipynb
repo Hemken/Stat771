{
 "cells": [
  {
   "cell_type": "markdown",
   "metadata": {},
   "source": [
    "# Logistic Regression Solver"
   ]
  },
  {
   "cell_type": "markdown",
   "metadata": {},
   "source": [
    "## Data Set Up"
   ]
  },
  {
   "cell_type": "code",
   "execution_count": 1,
   "metadata": {},
   "outputs": [],
   "source": [
    "# Implemented in Julia 1.0\n",
    "# Vivak Patel\n",
    "\n",
    "#Import Data\n",
    "using RDatasets\n",
    "UCBAdmit = RDatasets.dataset(\"datasets\",\"UCBAdmissions\")\n",
    "\n",
    "#Generate Observed Variables\n",
    "Y = map(y -> y == \"Admitted\" ? 1 : 0, UCBAdmit[1]);\n"
   ]
  },
  {
   "cell_type": "code",
   "execution_count": 2,
   "metadata": {},
   "outputs": [],
   "source": [
    "#Generate Explanatory Variables\n",
    "using LinearAlgebra\n",
    "X0 = ones(nrow(UCBAdmit))\n",
    "X1 = map(x -> x == \"Female\" ? 1 : 0, UCBAdmit[2])\n",
    "function proc_dept(val)\n",
    "    E = Matrix{Float64}(I,5,5)\n",
    "    if val == \"A\"; return zeros(5); end\n",
    "    if val == \"B\"; return E[:,1]; end\n",
    "    if val == \"C\"; return E[:,2]; end\n",
    "    if val == \"D\"; return E[:,3]; end\n",
    "    if val == \"E\"; return E[:,4]; end\n",
    "    if val == \"F\"; return E[:,5]; end\n",
    "end\n",
    "\n",
    "X2 = vcat(map(x -> proc_dept(x)', UCBAdmit[3])...)\n",
    "X = hcat(X0,X1,X2,Float64[UCBAdmit[4]...]);\n"
   ]
  },
  {
   "cell_type": "markdown",
   "metadata": {},
   "source": [
    "## Likelihood Function\n",
    "\n",
    "We have $Pr(y_i=1|X_i) = \\frac{e^{X_i^{'}\\beta}}{1+e^{X_i^{'}\\beta}}$, which may also be expressed as:\n",
    "\n",
    "$$Pr(y_i=1|X_i) =\\frac{1}{1+e^{-X_i^{'}\\beta}}$$\n",
    "\n",
    "At the same time we have:\n",
    "\n",
    "$$Pr(y_i=0|X_i) =1-\\frac{1}{1+e^{-X_i^{'}\\beta}}$$\n",
    "\n",
    "We use these to construct a log-likelihood function\n",
    "\n",
    "$$\\log l(\\beta|X)= \\sum_{i=1}^{N} y_i\\log \\left ( {\\frac{1}{1+e^{-X_i^{'}\\beta}}} \\right ) +(1-y_i)\\log\\left ({1-\\frac{1}{1+e^{-X_i^{'}\\beta}}}\\right ) $$\n",
    "\n",
    "After algebraic simplification this may be expressed as\n",
    "\n",
    "$$\\log l(\\beta|X)= \\sum_{i=1}^{N} [y_iX_i\\beta -\\log(1+e^{X_i\\beta})] $$"
   ]
  },
  {
   "cell_type": "code",
   "execution_count": 3,
   "metadata": {},
   "outputs": [
    {
     "data": {
      "text/plain": [
       "admitll (generic function with 1 method)"
      ]
     },
     "execution_count": 3,
     "metadata": {},
     "output_type": "execute_result"
    }
   ],
   "source": [
    "function admitll(B, Y, X, counts)\n",
    "    ll = zeros(24,1)\n",
    "    for i = 1:24\n",
    "        ll[i] = counts[i]*(Y[i]*dot(X[i,:],B)-log(1+exp(dot(X[i,:],B))))\n",
    "    end\n",
    "    return(sum(ll))\n",
    "end\n",
    "    "
   ]
  },
  {
   "cell_type": "code",
   "execution_count": 4,
   "metadata": {},
   "outputs": [
    {
     "data": {
      "text/plain": [
       "-7080.907142169214"
      ]
     },
     "execution_count": 4,
     "metadata": {},
     "output_type": "execute_result"
    }
   ],
   "source": [
    "B = [1 1 1 1 1 1 1]\n",
    "admitll(B, Y, X[:,1:7], X[:,8])"
   ]
  },
  {
   "cell_type": "markdown",
   "metadata": {},
   "source": [
    "## Gradient of the Loglikelihood\n",
    "\n",
    "$$\\nabla_\\beta \\log l(\\beta|X)= \\sum_{i=1}^{N} \\nabla_\\beta [y_iX_i\\beta -\\log(1+e^{X_i\\beta})] $$\n",
    "\n",
    "After a bit of algebraic manipulation, this is:\n",
    "\n",
    "$$\\nabla_\\beta \\log l(\\beta|X) = \\sum_{i=1}^{N} X_i \\left ( y_i - \\frac{1}{1+e^{-X_i\\beta}} \\right )$$"
   ]
  },
  {
   "cell_type": "code",
   "execution_count": 5,
   "metadata": {},
   "outputs": [
    {
     "data": {
      "text/plain": [
       "admitgr (generic function with 1 method)"
      ]
     },
     "execution_count": 5,
     "metadata": {},
     "output_type": "execute_result"
    }
   ],
   "source": [
    "function admitgr(B,Y,X,counts)\n",
    "    Yf = convert(Array{Float64,1}, Y)\n",
    "    gr = zeros(24,1)\n",
    "    for i in 1:24\n",
    "        gr[i,1] = (Yf[i].-1/(1+exp(-dot(X[i,:],B)))).*counts[i]\n",
    "    end\n",
    "    return((X[:,:]'*gr)./sum(counts))\n",
    "end\n"
   ]
  },
  {
   "cell_type": "code",
   "execution_count": 6,
   "metadata": {},
   "outputs": [
    {
     "data": {
      "text/plain": [
       "7×1 Array{Float64,2}:\n",
       " -0.4931313027663358 \n",
       " -0.261427662714086  \n",
       " -0.03249242528461664\n",
       " -0.11691018726215527\n",
       " -0.10064243903561411\n",
       " -0.08740474452827923\n",
       " -0.13419467241100308"
      ]
     },
     "execution_count": 6,
     "metadata": {},
     "output_type": "execute_result"
    }
   ],
   "source": [
    "admitgr(B, Y, X[:,1:7], X[:,8])"
   ]
  },
  {
   "cell_type": "markdown",
   "metadata": {},
   "source": [
    "## Newton Method for Logistic Regression"
   ]
  },
  {
   "cell_type": "code",
   "execution_count": 7,
   "metadata": {},
   "outputs": [
    {
     "data": {
      "text/plain": [
       "newtonMethod (generic function with 1 method)"
      ]
     },
     "execution_count": 7,
     "metadata": {},
     "output_type": "execute_result"
    }
   ],
   "source": [
    "function newtonMethod(S,∇S, B, alpha; \n",
    "        Y=Y, X=X[:,1:7], counts=X[:,8], ϵ=1e-8, maxiter = 25)\n",
    "  i = 0\n",
    "  S₀ = S(B, Y, X, counts)\n",
    "  ∇S₀ = ∇S(B, Y, X, counts)\n",
    "  while norm(∇S₀) > ϵ && i <= maxiter\n",
    "    i += 1\n",
    "    #Search Direction\n",
    "    ∇S₀ = ∇S(B, Y, X, counts)\n",
    "    p = ∇S₀'\n",
    "    #Step Length\n",
    "    α = alpha #, evals = backtrack(S,∇S₀,p,X)\n",
    "    #Update Parameter\n",
    "    B += α*p\n",
    "    #Update Gradient\n",
    "    S₀ = S(B, Y, X, counts)\n",
    "  end\n",
    "\n",
    "  return B, i\n",
    "end"
   ]
  },
  {
   "cell_type": "code",
   "execution_count": null,
   "metadata": {},
   "outputs": [],
   "source": []
  },
  {
   "cell_type": "code",
   "execution_count": 8,
   "metadata": {},
   "outputs": [
    {
     "data": {
      "text/plain": [
       "7×1 Adjoint{Float64,Array{Float64,2}}:\n",
       "  0.5820509441989553 \n",
       "  0.09986982421880027\n",
       " -0.04339737425335429\n",
       " -1.2625973212260113 \n",
       " -1.2946058038223807 \n",
       " -1.7393049376118885 \n",
       " -3.30647879307108   "
      ]
     },
     "execution_count": 8,
     "metadata": {},
     "output_type": "execute_result"
    }
   ],
   "source": [
    "sol, iters = newtonMethod(admitll, admitgr, B, 1; Y=Y, X=X[:,1:7], counts=X[:,8], maxiter=3000);\n",
    "sol'"
   ]
  },
  {
   "cell_type": "code",
   "execution_count": 9,
   "metadata": {},
   "outputs": [
    {
     "data": {
      "text/plain": [
       "2845"
      ]
     },
     "execution_count": 9,
     "metadata": {},
     "output_type": "execute_result"
    }
   ],
   "source": [
    "iters"
   ]
  },
  {
   "cell_type": "code",
   "execution_count": null,
   "metadata": {},
   "outputs": [],
   "source": []
  }
 ],
 "metadata": {
  "kernelspec": {
   "display_name": "Julia 1.0.0",
   "language": "julia",
   "name": "julia-1.0"
  },
  "language_info": {
   "file_extension": ".jl",
   "mimetype": "application/julia",
   "name": "julia",
   "version": "1.0.0"
  }
 },
 "nbformat": 4,
 "nbformat_minor": 2
}
