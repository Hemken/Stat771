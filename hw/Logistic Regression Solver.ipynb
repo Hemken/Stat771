{
 "cells": [
  {
   "cell_type": "markdown",
   "metadata": {},
   "source": [
    "# Logistic Regression Solver"
   ]
  },
  {
   "cell_type": "code",
   "execution_count": null,
   "metadata": {},
   "outputs": [
    {
     "name": "stderr",
     "output_type": "stream",
     "text": [
      "┌ Info: Precompiling RDatasets [ce6b1742-4840-55fa-b093-852dadbb1d8b]\n",
      "└ @ Base loading.jl:1186\n"
     ]
    }
   ],
   "source": [
    "# Implemented in Julia 1.0\n",
    "# Vivak Patel\n",
    "\n",
    "#Import Data\n",
    "using RDatasets\n",
    "UCBAdmit = RDatasets.dataset(\"datasets\",\"UCBAdmissions\")\n",
    "\n",
    "#Generate Observed Variables\n",
    "Y = map(y -> y == \"Admitted\" ? 1 : 0, UCBAdmit[1])\n"
   ]
  },
  {
   "cell_type": "code",
   "execution_count": null,
   "metadata": {},
   "outputs": [],
   "source": []
  }
 ],
 "metadata": {
  "kernelspec": {
   "display_name": "Julia 1.0.0",
   "language": "julia",
   "name": "julia-1.0"
  },
  "language_info": {
   "file_extension": ".jl",
   "mimetype": "application/julia",
   "name": "julia",
   "version": "1.0.0"
  }
 },
 "nbformat": 4,
 "nbformat_minor": 2
}
