{
 "cells": [
  {
   "cell_type": "markdown",
   "metadata": {},
   "source": [
    "# Logistic Regression Solver"
   ]
  },
  {
   "cell_type": "markdown",
   "metadata": {},
   "source": [
    "## Data Set Up"
   ]
  },
  {
   "cell_type": "code",
   "execution_count": 1,
   "metadata": {},
   "outputs": [
    {
     "name": "stderr",
     "output_type": "stream",
     "text": [
      "┌ Info: Precompiling RDatasets [ce6b1742-4840-55fa-b093-852dadbb1d8b]\n",
      "└ @ Base loading.jl:1186\n"
     ]
    },
    {
     "data": {
      "text/plain": [
       "24-element Array{Int64,1}:\n",
       " 1\n",
       " 0\n",
       " 1\n",
       " 0\n",
       " 1\n",
       " 0\n",
       " 1\n",
       " 0\n",
       " 1\n",
       " 0\n",
       " 1\n",
       " 0\n",
       " 1\n",
       " 0\n",
       " 1\n",
       " 0\n",
       " 1\n",
       " 0\n",
       " 1\n",
       " 0\n",
       " 1\n",
       " 0\n",
       " 1\n",
       " 0"
      ]
     },
     "execution_count": 1,
     "metadata": {},
     "output_type": "execute_result"
    }
   ],
   "source": [
    "# Implemented in Julia 1.0\n",
    "# Vivak Patel\n",
    "\n",
    "#Import Data\n",
    "using RDatasets\n",
    "UCBAdmit = RDatasets.dataset(\"datasets\",\"UCBAdmissions\")\n",
    "\n",
    "#Generate Observed Variables\n",
    "Y = map(y -> y == \"Admitted\" ? 1 : 0, UCBAdmit[1])\n"
   ]
  },
  {
   "cell_type": "code",
   "execution_count": 2,
   "metadata": {},
   "outputs": [
    {
     "data": {
      "text/plain": [
       "24×8 Array{Float64,2}:\n",
       " 1.0  0.0  0.0  0.0  0.0  0.0  0.0  512.0\n",
       " 1.0  0.0  0.0  0.0  0.0  0.0  0.0  313.0\n",
       " 1.0  1.0  0.0  0.0  0.0  0.0  0.0   89.0\n",
       " 1.0  1.0  0.0  0.0  0.0  0.0  0.0   19.0\n",
       " 1.0  0.0  1.0  0.0  0.0  0.0  0.0  353.0\n",
       " 1.0  0.0  1.0  0.0  0.0  0.0  0.0  207.0\n",
       " 1.0  1.0  1.0  0.0  0.0  0.0  0.0   17.0\n",
       " 1.0  1.0  1.0  0.0  0.0  0.0  0.0    8.0\n",
       " 1.0  0.0  0.0  1.0  0.0  0.0  0.0  120.0\n",
       " 1.0  0.0  0.0  1.0  0.0  0.0  0.0  205.0\n",
       " 1.0  1.0  0.0  1.0  0.0  0.0  0.0  202.0\n",
       " 1.0  1.0  0.0  1.0  0.0  0.0  0.0  391.0\n",
       " 1.0  0.0  0.0  0.0  1.0  0.0  0.0  138.0\n",
       " 1.0  0.0  0.0  0.0  1.0  0.0  0.0  279.0\n",
       " 1.0  1.0  0.0  0.0  1.0  0.0  0.0  131.0\n",
       " 1.0  1.0  0.0  0.0  1.0  0.0  0.0  244.0\n",
       " 1.0  0.0  0.0  0.0  0.0  1.0  0.0   53.0\n",
       " 1.0  0.0  0.0  0.0  0.0  1.0  0.0  138.0\n",
       " 1.0  1.0  0.0  0.0  0.0  1.0  0.0   94.0\n",
       " 1.0  1.0  0.0  0.0  0.0  1.0  0.0  299.0\n",
       " 1.0  0.0  0.0  0.0  0.0  0.0  1.0   22.0\n",
       " 1.0  0.0  0.0  0.0  0.0  0.0  1.0  351.0\n",
       " 1.0  1.0  0.0  0.0  0.0  0.0  1.0   24.0\n",
       " 1.0  1.0  0.0  0.0  0.0  0.0  1.0  317.0"
      ]
     },
     "execution_count": 2,
     "metadata": {},
     "output_type": "execute_result"
    }
   ],
   "source": [
    "#Generate Explanatory Variables\n",
    "using LinearAlgebra\n",
    "X0 = ones(nrow(UCBAdmit))\n",
    "X1 = map(x -> x == \"Female\" ? 1 : 0, UCBAdmit[2])\n",
    "function proc_dept(val)\n",
    "    E = Matrix{Float64}(I,5,5)\n",
    "    if val == \"A\"; return zeros(5); end\n",
    "    if val == \"B\"; return E[:,1]; end\n",
    "    if val == \"C\"; return E[:,2]; end\n",
    "    if val == \"D\"; return E[:,3]; end\n",
    "    if val == \"E\"; return E[:,4]; end\n",
    "    if val == \"F\"; return E[:,5]; end\n",
    "end\n",
    "\n",
    "X2 = vcat(map(x -> proc_dept(x)', UCBAdmit[3])...)\n",
    "X = hcat(X0,X1,X2,Float64[UCBAdmit[4]...])\n"
   ]
  },
  {
   "cell_type": "markdown",
   "metadata": {},
   "source": [
    "## Likelihood Function\n",
    "\n",
    "We have $Pr(y_i=1|X_i) = \\frac{e^{X_i^{'}\\beta}}{1+e^{X_i^{'}\\beta}}$, which may also be expressed as:\n",
    "\n",
    "$$Pr(y_i=1|X_i) =\\frac{1}{1+e^{-X_i^{'}\\beta}}$$\n",
    "\n",
    "At the same time we have:\n",
    "\n",
    "$$Pr(y_i=0|X_i) =1-\\frac{1}{1+e^{-X_i^{'}\\beta}}$$\n",
    "\n",
    "We use these to construct a log-likelihood function\n",
    "\n",
    "$$\\log l(\\beta|X)= \\sum_{i=1}^{N} y_i\\log \\left ( {\\frac{1}{1+e^{-X_i^{'}\\beta}}} \\right ) +(1-y_i)\\log\\left ({1-\\frac{1}{1+e^{-X_i^{'}\\beta}}}\\right ) $$\n",
    "\n",
    "After algebraic simplification this may be expressed as\n",
    "\n",
    "$$\\log l(\\beta|X)= \\sum_{i=1}^{N} [y_iX_i\\beta -\\log(1+e^{X_i\\beta})] $$"
   ]
  },
  {
   "cell_type": "code",
   "execution_count": 102,
   "metadata": {},
   "outputs": [
    {
     "data": {
      "text/plain": [
       "admitll (generic function with 1 method)"
      ]
     },
     "execution_count": 102,
     "metadata": {},
     "output_type": "execute_result"
    }
   ],
   "source": [
    "function admitll(B, Y, X, counts)\n",
    "    ll = zeros(24,1)\n",
    "    for i = 1:24\n",
    "#    counts[i]*Y[i]*(X[i,:]'*B')\n",
    "        #display(convert(Float64, X[i,:]'*B'))\n",
    "#        display(counts[i]*Y[i]*X[i,:]'*B')\n",
    "#        display(log(1 .+ exp(1).^(X[i,:]'*B')))\n",
    "        ll[i,1] = (counts[i]*Y[i]*X[i,:]'*B' - log(1 .+ exp(1).^(X[i,:]'*B')))\n",
    "    end\n",
    "#    return(sum(ll))\n",
    "end\n",
    "    "
   ]
  },
  {
   "cell_type": "code",
   "execution_count": 103,
   "metadata": {},
   "outputs": [
    {
     "ename": "MethodError",
     "evalue": "MethodError: Cannot `convert` an object of type Array{Float64,2} to an object of type Float64\nClosest candidates are:\n  convert(::Type{T<:Number}, !Matched::T<:Number) where T<:Number at number.jl:6\n  convert(::Type{T<:Number}, !Matched::Number) where T<:Number at number.jl:7\n  convert(::Type{T<:Number}, !Matched::Base.TwicePrecision) where T<:Number at twiceprecision.jl:250\n  ...",
     "output_type": "error",
     "traceback": [
      "MethodError: Cannot `convert` an object of type Array{Float64,2} to an object of type Float64\nClosest candidates are:\n  convert(::Type{T<:Number}, !Matched::T<:Number) where T<:Number at number.jl:6\n  convert(::Type{T<:Number}, !Matched::Number) where T<:Number at number.jl:7\n  convert(::Type{T<:Number}, !Matched::Base.TwicePrecision) where T<:Number at twiceprecision.jl:250\n  ...",
      "",
      "Stacktrace:",
      " [1] setindex! at .\\array.jl:771 [inlined]",
      " [2] admitll(::Array{Int64,2}, ::Array{Int64,1}, ::Array{Float64,2}, ::Adjoint{Float64,Array{Float64,1}}) at .\\In[102]:8",
      " [3] top-level scope at In[103]:2"
     ]
    }
   ],
   "source": [
    "B = [1 1 1 1 1 1 1]\n",
    "admitll(B, Y, X[:,1:7], X[:,8]')"
   ]
  },
  {
   "cell_type": "markdown",
   "metadata": {},
   "source": [
    "## Gradient of the Loglikelihood\n",
    "\n",
    "$$\\nabla_\\beta \\log l(\\beta|X)= \\sum_{i=1}^{N} \\nabla_\\beta [y_iX_i\\beta -\\log(1+e^{X_i\\beta})] $$\n",
    "\n",
    "After a bit of algebraic manipulation, this is:\n",
    "\n",
    "$$\\nabla_\\beta \\log l(\\beta|X) = \\sum_{i=1}^{N} \\left ( y_i - \\frac{1}{1+e^{-X_i\\beta}} \\right )X_i$$"
   ]
  },
  {
   "cell_type": "code",
   "execution_count": null,
   "metadata": {},
   "outputs": [],
   "source": []
  }
 ],
 "metadata": {
  "kernelspec": {
   "display_name": "Julia 1.0.0",
   "language": "julia",
   "name": "julia-1.0"
  },
  "language_info": {
   "file_extension": ".jl",
   "mimetype": "application/julia",
   "name": "julia",
   "version": "1.0.0"
  }
 },
 "nbformat": 4,
 "nbformat_minor": 2
}
