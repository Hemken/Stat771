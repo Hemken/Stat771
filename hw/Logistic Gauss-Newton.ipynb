{
 "cells": [
  {
   "cell_type": "markdown",
   "metadata": {},
   "source": [
    "# Gauss-Newton for Logistic Regression\n",
    "In addition to the gradient of the log-likelihood, we now also consider the Hessian of the log-likelihood.\n",
    "\n",
    "But first, we implement backtracking in our simple gradient descent approach to logistic regression."
   ]
  },
  {
   "cell_type": "code",
   "execution_count": 1,
   "metadata": {},
   "outputs": [
    {
     "name": "stdout",
     "output_type": "stream",
     "text": [
      "Variable `Y` has the observed variable.\n",
      "Variable `X` has the explanatory variables.\n"
     ]
    },
    {
     "data": {
      "text/plain": [
       "admitgr (generic function with 1 method)"
      ]
     },
     "execution_count": 1,
     "metadata": {},
     "output_type": "execute_result"
    }
   ],
   "source": [
    "include(\"../jl/UCBAdmit_Logit.jl\")\n",
    "include(\"../jl/admissionll.jl\")\n",
    "include(\"../jl/admissiongr.jl\")"
   ]
  },
  {
   "cell_type": "markdown",
   "metadata": {},
   "source": [
    "## Add Backtracking to Gradient Descent\n",
    "As long as we start with a large enough intial step size, this improves things.  Here, I use an initial step size of 7 from previous work."
   ]
  },
  {
   "cell_type": "code",
   "execution_count": 2,
   "metadata": {},
   "outputs": [
    {
     "data": {
      "text/plain": [
       "backtrack (generic function with 1 method)"
      ]
     },
     "execution_count": 2,
     "metadata": {},
     "output_type": "execute_result"
    }
   ],
   "source": [
    "function backtrack(S,∇S₀,p,X₀,Y, X, counts; α₀ = 7.0, ρ = 0.5, c = 0.2)\n",
    "  S₀ = S(X₀, Y, X, counts)\n",
    "  relaxSlope = norm(c*p'*(∇S₀'*S₀))\n",
    "  condition(step) = 0.5*dot(S₀,S₀) + step*relaxSlope\n",
    "  # Vivak Patel's condition, normed\n",
    "  α = deepcopy(α₀)\n",
    "  Sₐ = S₀ #Ensures appropriate scope of Sₐ\n",
    "  try\n",
    "    Sₐ = S(X₀ + α*p, Y, X, counts)\n",
    "  catch\n",
    "  end\n",
    "  while 0.5*dot(Sₐ,Sₐ) > condition(α)\n",
    "    α = ρ*α\n",
    "    try\n",
    "      Sₐ = S(X₀ + α*p, Y, X, counts)\n",
    "    catch\n",
    "      continue\n",
    "    end\n",
    "  end\n",
    "\n",
    "  return α\n",
    "end"
   ]
  },
  {
   "cell_type": "code",
   "execution_count": 3,
   "metadata": {},
   "outputs": [
    {
     "data": {
      "text/plain": [
       "logitback1 (generic function with 1 method)"
      ]
     },
     "execution_count": 3,
     "metadata": {},
     "output_type": "execute_result"
    }
   ],
   "source": [
    "function logitback1(S,∇S, B; \n",
    "        Y=Y, X=X[:,1:7], counts=X[:,8], ϵ=1e-8, maxiter = 25)\n",
    "  i = 0\n",
    "  S₀ = S(B, Y, X, counts)\n",
    "  ∇S₀ = ∇S(B, Y, X, counts)\n",
    "  while norm(∇S₀) > ϵ && i <= maxiter\n",
    "    i += 1\n",
    "    #Search Direction\n",
    "    ∇S₀ = ∇S(B, Y, X, counts)\n",
    "    p = ∇S₀'\n",
    "    #Step Length\n",
    "    α = backtrack(S,∇S₀,p,B,Y,X,counts, c=1e-4)\n",
    "    #Update Parameter\n",
    "    B += α*p\n",
    "    #Update Gradient\n",
    "    S₀ = S(B, Y, X, counts)\n",
    "  end\n",
    "\n",
    "  return B, i\n",
    "end"
   ]
  },
  {
   "cell_type": "code",
   "execution_count": 4,
   "metadata": {},
   "outputs": [
    {
     "data": {
      "text/plain": [
       "7×1 Adjoint{Float64,Array{Float64,2}}:\n",
       "  0.5820086873912497 \n",
       "  0.09984509848147548\n",
       " -0.04334519823831895\n",
       " -1.262531637173279  \n",
       " -1.2945435134626386 \n",
       " -1.7392299740688473 \n",
       " -3.3063605007198715 "
      ]
     },
     "execution_count": 4,
     "metadata": {},
     "output_type": "execute_result"
    }
   ],
   "source": [
    "B = [1 1 1 1 1 1 1]\n",
    "sol, iters = logitback1(admitll, admitgr, B; \n",
    "    Y=Y, X=X[:,1:7], counts=X[:,8], ϵ=1e-6, maxiter=3000);\n",
    "sol'"
   ]
  },
  {
   "cell_type": "code",
   "execution_count": 5,
   "metadata": {},
   "outputs": [
    {
     "data": {
      "text/plain": [
       "276"
      ]
     },
     "execution_count": 5,
     "metadata": {},
     "output_type": "execute_result"
    }
   ],
   "source": [
    "iters"
   ]
  },
  {
   "cell_type": "markdown",
   "metadata": {},
   "source": [
    "## Armijo Backtracking"
   ]
  },
  {
   "cell_type": "code",
   "execution_count": 6,
   "metadata": {},
   "outputs": [
    {
     "data": {
      "text/plain": [
       "armijo (generic function with 1 method)"
      ]
     },
     "execution_count": 6,
     "metadata": {},
     "output_type": "execute_result"
    }
   ],
   "source": [
    "function armijo(F,F₀,d,x₀,Y,X,counts; α₀ = 7.0, ρ = 0.5, z = 1e-4)\n",
    "    x₊ = x₀ + α₀*d\n",
    "    F₊ = F(x₊, Y, X, counts)\n",
    "    i = 0\n",
    "    while abs(F₊) > (1-z)*α₀*abs(F₀+ α₀*norm(d)) && i<5\n",
    "        i +=1\n",
    "        α₀ = ρ*α₀\n",
    "        x₊ = x₀ + α₀*d\n",
    "        F₊ = F(x₊, Y, X, counts)\n",
    "    end\n",
    "    return α₀\n",
    "end"
   ]
  },
  {
   "cell_type": "code",
   "execution_count": 7,
   "metadata": {},
   "outputs": [
    {
     "data": {
      "text/plain": [
       "logitback2 (generic function with 1 method)"
      ]
     },
     "execution_count": 7,
     "metadata": {},
     "output_type": "execute_result"
    }
   ],
   "source": [
    "function logitback2(S,∇S, B; \n",
    "        Y=Y, X=X[:,1:7], counts=X[:,8], ϵ=1e-8, maxiter = 25)\n",
    "  i = 0\n",
    "  S₀ = S(B, Y, X, counts)\n",
    "  ∇S₀ = ∇S(B, Y, X, counts)\n",
    "  while norm(∇S₀) > ϵ && i <= maxiter\n",
    "    i += 1\n",
    "    #Search Direction\n",
    "    ∇S₀ = ∇S(B, Y, X, counts)\n",
    "    p = ∇S₀'\n",
    "    #Step Length\n",
    "    α = armijo(S,S₀,p,B,Y,X,counts)\n",
    "    #Update Parameter\n",
    "    B += α*p\n",
    "    #Update Gradient\n",
    "    S₀ = S(B, Y, X, counts)\n",
    "  end\n",
    "\n",
    "  return B, i\n",
    "end"
   ]
  },
  {
   "cell_type": "code",
   "execution_count": 8,
   "metadata": {},
   "outputs": [
    {
     "data": {
      "text/plain": [
       "7×1 Adjoint{Float64,Array{Float64,2}}:\n",
       "  0.582008080610123  \n",
       "  0.09984474343775683\n",
       " -0.0433444490162855 \n",
       " -1.2625306939891636 \n",
       " -1.2945426190086613 \n",
       " -1.7392288976302634 \n",
       " -3.3063588022334693 "
      ]
     },
     "execution_count": 8,
     "metadata": {},
     "output_type": "execute_result"
    }
   ],
   "source": [
    "B = [1 1 1 1 1 1 1]\n",
    "sol, iters = logitback2(admitll, admitgr, B; \n",
    "    Y=Y, X=X[:,1:7], counts=X[:,8], ϵ=1e-6, maxiter=3000);\n",
    "sol'"
   ]
  },
  {
   "cell_type": "code",
   "execution_count": 9,
   "metadata": {},
   "outputs": [
    {
     "data": {
      "text/plain": [
       "275"
      ]
     },
     "execution_count": 9,
     "metadata": {},
     "output_type": "execute_result"
    }
   ],
   "source": [
    "iters"
   ]
  },
  {
   "cell_type": "markdown",
   "metadata": {},
   "source": [
    "## Gauss-Newton\n",
    "Add the Hessian.  A good step size seems to be 0.5 (1 goes singular).  Backtracking does not seem to be working for me."
   ]
  },
  {
   "cell_type": "code",
   "execution_count": 10,
   "metadata": {},
   "outputs": [
    {
     "data": {
      "text/plain": [
       "admithessian (generic function with 1 method)"
      ]
     },
     "execution_count": 10,
     "metadata": {},
     "output_type": "execute_result"
    }
   ],
   "source": [
    "function admithessian(B,Y,X,counts)\n",
    "    Yf = convert(Array{Float64,1}, Y)\n",
    "    H = zeros(24,24)\n",
    "    for i in 1:24\n",
    "        H[i,i] = (1/(1+exp(1).^(-dot(X[i,:],B))))*(1-(1/(1+exp(-dot(X[i,:],B))))).*counts[i]\n",
    "    end\n",
    "    return(X'*H*X./sum(counts))\n",
    "end"
   ]
  },
  {
   "cell_type": "code",
   "execution_count": 11,
   "metadata": {},
   "outputs": [
    {
     "data": {
      "text/plain": [
       "7×7 Array{Float64,2}:\n",
       " 0.0988693   0.0197436   0.0132404   …  0.0134166   0.00835356  0.0120565 \n",
       " 0.0197436   0.0197436   0.00024954     0.00374309  0.00392276  0.00340372\n",
       " 0.0132404   0.00024954  0.0132404      0.0         0.0         0.0       \n",
       " 0.0134584   0.00591908  0.0            0.0         0.0         0.0       \n",
       " 0.0134166   0.00374309  0.0            0.0134166   0.0         0.0       \n",
       " 0.00835356  0.00392276  0.0         …  0.0         0.00835356  0.0       \n",
       " 0.0120565   0.00340372  0.0            0.0         0.0         0.0120565 "
      ]
     },
     "execution_count": 11,
     "metadata": {},
     "output_type": "execute_result"
    }
   ],
   "source": [
    "B = [1 1 1 1 1 1 1]'\n",
    "admithessian(B,Y,X[:,1:7],X[:,8])"
   ]
  },
  {
   "cell_type": "code",
   "execution_count": 12,
   "metadata": {},
   "outputs": [
    {
     "data": {
      "text/plain": [
       "logithess (generic function with 1 method)"
      ]
     },
     "execution_count": 12,
     "metadata": {},
     "output_type": "execute_result"
    }
   ],
   "source": [
    "function logithess(S,∇S, B; \n",
    "        Y=Y, X=X[:,1:7], counts=X[:,8], alpha=1, ϵ=1e-8, maxiter = 25)\n",
    "  i = 0\n",
    "  S₀ = S(B, Y, X, counts)\n",
    "  ∇S₀ = ∇S(B, Y, X, counts)\n",
    "  while norm(∇S₀) > ϵ && i <= maxiter\n",
    "    i += 1\n",
    "    H = admithessian(B,Y,X,counts)\n",
    "    #Search Direction\n",
    "    ∇S₀ = ∇S(B, Y, X, counts)\n",
    "    p = (inv(H)*∇S₀)\n",
    "    #Step Length\n",
    "    α = alpha # = backtrack(S,∇S₀,p',B,Y,X,counts)\n",
    "    #Update Parameter\n",
    "    B += α*p\n",
    "    #Update Gradient\n",
    "    S₀ = S(B, Y, X, counts)\n",
    "  end\n",
    "\n",
    "  return B, i\n",
    "end"
   ]
  },
  {
   "cell_type": "code",
   "execution_count": 13,
   "metadata": {},
   "outputs": [
    {
     "data": {
      "text/plain": [
       "7×1 Array{Float64,2}:\n",
       "  0.582051393549194  \n",
       "  0.09987010794011596\n",
       " -0.04339792880434964\n",
       " -1.262598023121301  \n",
       " -1.2946064678399474 \n",
       " -1.7393057294669727 \n",
       " -3.306479979906956  "
      ]
     },
     "execution_count": 13,
     "metadata": {},
     "output_type": "execute_result"
    }
   ],
   "source": [
    "sol, iter = logithess(admitll, admitgr, B; \n",
    "    Y=Y, X=X[:,1:7], counts=X[:,8], alpha=.5, ϵ=1e-8, maxiter=100);\n",
    "sol"
   ]
  },
  {
   "cell_type": "code",
   "execution_count": 14,
   "metadata": {},
   "outputs": [
    {
     "data": {
      "text/plain": [
       "28"
      ]
     },
     "execution_count": 14,
     "metadata": {},
     "output_type": "execute_result"
    }
   ],
   "source": [
    "iter"
   ]
  },
  {
   "cell_type": "code",
   "execution_count": 15,
   "metadata": {},
   "outputs": [
    {
     "data": {
      "text/plain": [
       "logitbackhess (generic function with 1 method)"
      ]
     },
     "execution_count": 15,
     "metadata": {},
     "output_type": "execute_result"
    }
   ],
   "source": [
    "function logitbackhess(S,∇S, B; \n",
    "        Y=Y, X=X[:,1:7], counts=X[:,8], ϵ=1e-8, maxiter = 25)\n",
    "  i = 0\n",
    "  S₀ = S(B, Y, X, counts)\n",
    "  ∇S₀ = ∇S(B, Y, X, counts)\n",
    "  while norm(∇S₀) > ϵ && i <= maxiter\n",
    "    i += 1\n",
    "    H = admithessian(B,Y,X,counts)\n",
    "    #Search Direction\n",
    "    ∇S₀ = ∇S(B, Y, X, counts)\n",
    "    p = (inv(H)*∇S₀)\n",
    "    #Step Length\n",
    "    #α = backtrack(S,∇S₀,p',B,Y,X,counts,α₀ = 0.5)\n",
    "    α = armijo(S,S₀,p,B,Y,X,counts,α₀ = 0.5)\n",
    "    #Update Parameter\n",
    "    B += α*p\n",
    "    #Update Gradient\n",
    "    S₀ = S(B, Y, X, counts)\n",
    "  end\n",
    "\n",
    "  return B, i\n",
    "end"
   ]
  },
  {
   "cell_type": "code",
   "execution_count": 16,
   "metadata": {},
   "outputs": [
    {
     "data": {
      "text/plain": [
       "7×1 Array{Float64,2}:\n",
       "  0.5822577982379723  \n",
       "  0.09864978522313789 \n",
       " -0.043383183093950665\n",
       " -1.2626139027232577  \n",
       " -1.2946302664007703  \n",
       " -1.7392912181027556  \n",
       " -3.3059817627667933  "
      ]
     },
     "execution_count": 16,
     "metadata": {},
     "output_type": "execute_result"
    }
   ],
   "source": [
    "sol, iter = logitbackhess(admitll, admitgr, B; \n",
    "    Y=Y, X=X[:,1:7], counts=X[:,8], ϵ=1e-4, maxiter=1000);\n",
    "sol"
   ]
  },
  {
   "cell_type": "code",
   "execution_count": 17,
   "metadata": {},
   "outputs": [
    {
     "data": {
      "text/plain": [
       "454"
      ]
     },
     "execution_count": 17,
     "metadata": {},
     "output_type": "execute_result"
    }
   ],
   "source": [
    "iter"
   ]
  },
  {
   "cell_type": "code",
   "execution_count": 18,
   "metadata": {},
   "outputs": [
    {
     "data": {
      "text/plain": [
       "backtrackQuad (generic function with 1 method)"
      ]
     },
     "execution_count": 18,
     "metadata": {},
     "output_type": "execute_result"
    }
   ],
   "source": [
    "function backtrackQuad(f::Function,f₀,g₀,x₀,Y,X,counts;\n",
    "        α₀ = 1.0,C = 1e-4)\n",
    "    x₊ = x₀ + α₀*(-g₀)\n",
    "    f₊ = f(x₊, Y, X, counts)\n",
    "    while f₊ > f₀ + C*α₀*g₀'*(-g₀)\n",
    "        #α₀ = ρ*α₀\n",
    "        c = f₀\n",
    "        b = g₀'*(-g₀)\n",
    "        a = (f(x₀ + α₀*(-g₀),Y,X,counts) - b*α₀ - c)/α₀^2\n",
    "\n",
    "        α₀ = -b/(2*a)\n",
    "        x₊ = x₀ + α₀*(-g₀)\n",
    "        f₊ = f(x₊,Y,X,counts)\n",
    "    end\n",
    "    return α₀\n",
    "end"
   ]
  },
  {
   "cell_type": "code",
   "execution_count": 19,
   "metadata": {},
   "outputs": [
    {
     "data": {
      "text/plain": [
       "logithessquad (generic function with 1 method)"
      ]
     },
     "execution_count": 19,
     "metadata": {},
     "output_type": "execute_result"
    }
   ],
   "source": [
    "function logithessquad(S,∇S, B; \n",
    "        Y=Y, X=X[:,1:7], counts=X[:,8], ϵ=1e-8, maxiter = 25)\n",
    "  i = 0\n",
    "  S₀ = S(B, Y, X, counts)\n",
    "  ∇S₀ = ∇S(B, Y, X, counts)\n",
    "  while norm(∇S₀) > ϵ && i <= maxiter\n",
    "    i += 1\n",
    "    H = admithessian(B,Y,X,counts)\n",
    "    #Search Direction\n",
    "    ∇S₀ = ∇S(B, Y, X, counts)\n",
    "    p = (inv(H)*∇S₀)\n",
    "    #Step Length\n",
    "    α = backtrackQuad(S,∇S₀,p',B,Y,X,counts,α₀ = 0.5)\n",
    "    #Update Parameter\n",
    "    B += α*p\n",
    "    #Update Gradient\n",
    "    S₀ = S(B, Y, X, counts)\n",
    "  end\n",
    "\n",
    "  return B, i\n",
    "end"
   ]
  },
  {
   "cell_type": "code",
   "execution_count": 20,
   "metadata": {},
   "outputs": [
    {
     "ename": "DimensionMismatch",
     "evalue": "DimensionMismatch(\"dimensions must match\")",
     "output_type": "error",
     "traceback": [
      "DimensionMismatch(\"dimensions must match\")",
      "",
      "Stacktrace:",
      " [1] promote_shape at .\\indices.jl:129 [inlined]",
      " [2] promote_shape(::Adjoint{Int64,Array{Int64,2}}, ::Array{Float64,2}) at .\\indices.jl:120",
      " [3] + at .\\arraymath.jl:38 [inlined]",
      " [4] #backtrackQuad#16(::Float64, ::Float64, ::Function, ::typeof(admitll), ::Array{Float64,2}, ::Adjoint{Float64,Array{Float64,2}}, ::Adjoint{Int64,Array{Int64,2}}, ::Array{Int64,1}, ::Array{Float64,2}, ::Array{Float64,1}) at .\\In[18]:3",
      " [5] (::getfield(Main, Symbol(\"#kw##backtrackQuad\")))(::NamedTuple{(:α₀,),Tuple{Float64}}, ::typeof(backtrackQuad), ::Function, ::Array{Float64,2}, ::Adjoint{Float64,Array{Float64,2}}, ::Adjoint{Int64,Array{Int64,2}}, ::Array{Int64,1}, ::Array{Float64,2}, ::Array{Float64,1}) at .\\none:0",
      " [6] #logithessquad#17(::Array{Int64,1}, ::Array{Float64,2}, ::Array{Float64,1}, ::Float64, ::Int64, ::Function, ::typeof(admitll), ::typeof(admitgr), ::Adjoint{Int64,Array{Int64,2}}) at .\\In[19]:13",
      " [7] (::getfield(Main, Symbol(\"#kw##logithessquad\")))(::NamedTuple{(:Y, :X, :counts, :ϵ, :maxiter),Tuple{Array{Int64,1},Array{Float64,2},Array{Float64,1},Float64,Int64}}, ::typeof(logithessquad), ::Function, ::Function, ::Adjoint{Int64,Array{Int64,2}}) at .\\none:0",
      " [8] top-level scope at In[20]:1"
     ]
    }
   ],
   "source": [
    "sol, iter = logithessquad(admitll, admitgr, B; \n",
    "    Y=Y, X=X[:,1:7], counts=X[:,8], ϵ=1e-4, maxiter=1000);\n",
    "sol"
   ]
  },
  {
   "cell_type": "code",
   "execution_count": null,
   "metadata": {},
   "outputs": [],
   "source": []
  }
 ],
 "metadata": {
  "kernelspec": {
   "display_name": "Julia 1.0.0",
   "language": "julia",
   "name": "julia-1.0"
  },
  "language_info": {
   "file_extension": ".jl",
   "mimetype": "application/julia",
   "name": "julia",
   "version": "1.0.0"
  }
 },
 "nbformat": 4,
 "nbformat_minor": 2
}
