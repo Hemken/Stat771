{
 "cells": [
  {
   "cell_type": "markdown",
   "metadata": {},
   "source": [
    "# Gauss-Newton for Logistic Regression"
   ]
  },
  {
   "cell_type": "code",
   "execution_count": 1,
   "metadata": {},
   "outputs": [
    {
     "name": "stdout",
     "output_type": "stream",
     "text": [
      "Variable `Y` has the observed variable.\n",
      "Variable `X` has the explanatory variables.\n"
     ]
    },
    {
     "data": {
      "text/plain": [
       "admitgr (generic function with 1 method)"
      ]
     },
     "execution_count": 1,
     "metadata": {},
     "output_type": "execute_result"
    }
   ],
   "source": [
    "include(\"../jl/UCBAdmit_Logit.jl\")\n",
    "include(\"../jl/admissionll.jl\")\n",
    "include(\"../jl/admissiongr.jl\")"
   ]
  },
  {
   "cell_type": "markdown",
   "metadata": {},
   "source": [
    "## Add Backtracking to Gradient Descent"
   ]
  },
  {
   "cell_type": "code",
   "execution_count": 2,
   "metadata": {},
   "outputs": [
    {
     "data": {
      "text/plain": [
       "backtrack (generic function with 1 method)"
      ]
     },
     "execution_count": 2,
     "metadata": {},
     "output_type": "execute_result"
    }
   ],
   "source": [
    "function backtrack(S,∇S₀,p,X₀,Y, X, counts; α₀ = 1.0, ρ = 0.5, c = 0.2)\n",
    "  S₀ = S(X₀, Y, X, counts)\n",
    "  relaxSlope = c*p'*(∇S₀'*S₀)\n",
    "  condition(step) = 0.5*dot(S₀,S₀) + step*relaxSlope[1]\n",
    "\n",
    "    α = deepcopy(α₀)\n",
    "  Sₐ = S₀ #Ensures appropriate scope of Sₐ\n",
    "  try\n",
    "    Sₐ = S(X₀ + α*p, Y, X, counts)\n",
    "  catch\n",
    "  end\n",
    "  funcEvals = 2\n",
    "  while 0.5*dot(Sₐ,Sₐ) > condition(α)\n",
    "    α = ρ*α\n",
    "    try\n",
    "      Sₐ = S(X₀ + α*p, Y, X, counts)\n",
    "    catch\n",
    "      continue\n",
    "    end\n",
    "    funcEvals += 1\n",
    "  end\n",
    "\n",
    "  return α, funcEvals\n",
    "end"
   ]
  },
  {
   "cell_type": "code",
   "execution_count": 3,
   "metadata": {},
   "outputs": [
    {
     "data": {
      "text/plain": [
       "logitback (generic function with 1 method)"
      ]
     },
     "execution_count": 3,
     "metadata": {},
     "output_type": "execute_result"
    }
   ],
   "source": [
    "function logitback(S,∇S, B; \n",
    "        Y=Y, X=X[:,1:7], counts=X[:,8], ϵ=1e-8, maxiter = 25)\n",
    "  i = 0\n",
    "  S₀ = S(B, Y, X, counts)\n",
    "  ∇S₀ = ∇S(B, Y, X, counts)\n",
    "  while norm(∇S₀) > ϵ && i <= maxiter\n",
    "    i += 1\n",
    "    #Search Direction\n",
    "    ∇S₀ = ∇S(B, Y, X, counts)\n",
    "    p = ∇S₀'\n",
    "    #Step Length\n",
    "    α, evals = backtrack(S,∇S₀,p,B,Y,X,counts)\n",
    "    #Update Parameter\n",
    "    B += α*p\n",
    "    #Update Gradient\n",
    "    S₀ = S(B, Y, X, counts)\n",
    "  end\n",
    "\n",
    "  return B, i\n",
    "end"
   ]
  },
  {
   "cell_type": "code",
   "execution_count": 4,
   "metadata": {},
   "outputs": [
    {
     "data": {
      "text/plain": [
       "7×1 Adjoint{Float64,Array{Float64,2}}:\n",
       "  0.5820509441989553  \n",
       "  0.09986982421880013 \n",
       " -0.043397374253354215\n",
       " -1.2625973212260113  \n",
       " -1.2946058038223804  \n",
       " -1.7393049376118883  \n",
       " -3.3064787930710797  "
      ]
     },
     "execution_count": 4,
     "metadata": {},
     "output_type": "execute_result"
    }
   ],
   "source": [
    "B = [1 1 1 1 1 1 1]\n",
    "sol, iters = logitback(admitll, admitgr, B; \n",
    "    Y=Y, X=X[:,1:7], counts=X[:,8], ϵ=1e-8, maxiter=10000);\n",
    "sol'"
   ]
  },
  {
   "cell_type": "code",
   "execution_count": 5,
   "metadata": {},
   "outputs": [
    {
     "data": {
      "text/plain": [
       "2845"
      ]
     },
     "execution_count": 5,
     "metadata": {},
     "output_type": "execute_result"
    }
   ],
   "source": [
    "iters"
   ]
  },
  {
   "cell_type": "markdown",
   "metadata": {},
   "source": [
    "## Gauss-Newton\n",
    "Add the Hessian\n"
   ]
  },
  {
   "cell_type": "code",
   "execution_count": null,
   "metadata": {},
   "outputs": [],
   "source": [
    "#H <- t(X)%*%diag(as.vector(1/(1+exp(-X%*%B))*(1-(1/(1+exp(-X%*%B)))))*counts)%*%X/sum(counts)\n",
    "#H\n"
   ]
  },
  {
   "cell_type": "code",
   "execution_count": 12,
   "metadata": {},
   "outputs": [
    {
     "ename": "MethodError",
     "evalue": "MethodError: no method matching typed_hcat(::typeof(exp), ::Float64, ::Int32, ::Int32)\nClosest candidates are:\n  typed_hcat(!Matched::Type{T}, ::Number...) where T at abstractarray.jl:1209\n  typed_hcat(!Matched::Type{T}, ::Union{Number, Adjoint{T,#s549} where #s549<:(AbstractArray{T,1} where T) where T}...) where T at C:\\cygwin\\home\\Administrator\\buildbot\\worker\\package_win32\\build\\usr\\share\\julia\\stdlib\\v1.0\\LinearAlgebra\\src\\adjtrans.jl:165\n  typed_hcat(!Matched::Type{T}, ::Union{Number, Transpose{T,#s549} where #s549<:(AbstractArray{T,1} where T) where T}...) where T at C:\\cygwin\\home\\Administrator\\buildbot\\worker\\package_win32\\build\\usr\\share\\julia\\stdlib\\v1.0\\LinearAlgebra\\src\\adjtrans.jl:166\n  ...",
     "output_type": "error",
     "traceback": [
      "MethodError: no method matching typed_hcat(::typeof(exp), ::Float64, ::Int32, ::Int32)\nClosest candidates are:\n  typed_hcat(!Matched::Type{T}, ::Number...) where T at abstractarray.jl:1209\n  typed_hcat(!Matched::Type{T}, ::Union{Number, Adjoint{T,#s549} where #s549<:(AbstractArray{T,1} where T) where T}...) where T at C:\\cygwin\\home\\Administrator\\buildbot\\worker\\package_win32\\build\\usr\\share\\julia\\stdlib\\v1.0\\LinearAlgebra\\src\\adjtrans.jl:165\n  typed_hcat(!Matched::Type{T}, ::Union{Number, Transpose{T,#s549} where #s549<:(AbstractArray{T,1} where T) where T}...) where T at C:\\cygwin\\home\\Administrator\\buildbot\\worker\\package_win32\\build\\usr\\share\\julia\\stdlib\\v1.0\\LinearAlgebra\\src\\adjtrans.jl:166\n  ...",
      "",
      "Stacktrace:",
      " [1] top-level scope at In[12]:2"
     ]
    }
   ],
   "source": [
    "B = [1 1 1 1 1 1 1]'"
   ]
  },
  {
   "cell_type": "code",
   "execution_count": 10,
   "metadata": {},
   "outputs": [
    {
     "ename": "DimensionMismatch",
     "evalue": "DimensionMismatch(\"matrix is not square: dimensions are (24, 1)\")",
     "output_type": "error",
     "traceback": [
      "DimensionMismatch(\"matrix is not square: dimensions are (24, 1)\")",
      "",
      "Stacktrace:",
      " [1] checksquare at C:\\cygwin\\home\\Administrator\\buildbot\\worker\\package_win32\\build\\usr\\share\\julia\\stdlib\\v1.0\\LinearAlgebra\\src\\LinearAlgebra.jl:216 [inlined]",
      " [2] exp!(::Array{Float64,2}) at C:\\cygwin\\home\\Administrator\\buildbot\\worker\\package_win32\\build\\usr\\share\\julia\\stdlib\\v1.0\\LinearAlgebra\\src\\dense.jl:495",
      " [3] exp(::Array{Float64,2}) at C:\\cygwin\\home\\Administrator\\buildbot\\worker\\package_win32\\build\\usr\\share\\julia\\stdlib\\v1.0\\LinearAlgebra\\src\\dense.jl:489",
      " [4] top-level scope at In[10]:1"
     ]
    }
   ],
   "source": [
    "exp(-X[:,1:7]*B)"
   ]
  },
  {
   "cell_type": "code",
   "execution_count": null,
   "metadata": {},
   "outputs": [],
   "source": []
  }
 ],
 "metadata": {
  "kernelspec": {
   "display_name": "Julia 1.0.0",
   "language": "julia",
   "name": "julia-1.0"
  },
  "language_info": {
   "file_extension": ".jl",
   "mimetype": "application/julia",
   "name": "julia",
   "version": "1.0.0"
  }
 },
 "nbformat": 4,
 "nbformat_minor": 2
}
